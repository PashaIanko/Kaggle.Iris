{
  "nbformat": 4,
  "nbformat_minor": 0,
  "metadata": {
    "colab": {
      "provenance": [],
      "authorship_tag": "ABX9TyN8B1UI/0eAOT0jtoMG7cXi",
      "include_colab_link": true
    },
    "kernelspec": {
      "name": "python3",
      "display_name": "Python 3"
    },
    "language_info": {
      "name": "python"
    }
  },
  "cells": [
    {
      "cell_type": "markdown",
      "metadata": {
        "id": "view-in-github",
        "colab_type": "text"
      },
      "source": [
        "<a href=\"https://colab.research.google.com/github/PashaIanko/Kaggle.Iris/blob/main/0_baseline_training.ipynb\" target=\"_parent\"><img src=\"https://colab.research.google.com/assets/colab-badge.svg\" alt=\"Open In Colab\"/></a>"
      ]
    },
    {
      "cell_type": "markdown",
      "source": [
        "## This file does NOT contain high quality code! This file is dedicated to the skill of writing pipelines quickly"
      ],
      "metadata": {
        "id": "yeFKC_aJZ6zp"
      }
    },
    {
      "cell_type": "markdown",
      "source": [
        "# Setup code"
      ],
      "metadata": {
        "id": "9rbIXT-XZk3F"
      }
    },
    {
      "cell_type": "code",
      "execution_count": 52,
      "metadata": {
        "id": "V7pJcX2mZcbw"
      },
      "outputs": [],
      "source": [
        "from google.colab import drive\n",
        "# Datasets\n",
        "import pandas as pd\n",
        "# Numerics\n",
        "import numpy as np\n",
        "# Plotting\n",
        "import matplotlib.pyplot as plt\n",
        "# Preprocessing & pipelines\n",
        "from sklearn.pipeline import make_pipeline\n",
        "from sklearn.compose import ColumnTransformer\n",
        "from sklearn.impute import SimpleImputer\n",
        "from sklearn.preprocessing import StandardScaler\n",
        "# Data management\n",
        "from sklearn.model_selection import train_test_split\n",
        "# Other\n",
        "import os\n",
        "\n",
        "pd.set_option('display.max_columns', None)"
      ]
    },
    {
      "cell_type": "code",
      "source": [
        "%%capture\n",
        "GIT_DOWNLOAD_PATH = 'https://raw.githubusercontent.com/PashaIanko/Sklearn-Utils/main/'\n",
        "FILES_LIST = [\n",
        "    'path_manager.py',\n",
        "    'sklearn_transformers.py',\n",
        "    'sklearn_utils.py',\n",
        "    'model.py'\n",
        "]\n",
        "GDRIVE_PATH = '/content/gdrive/MyDrive/'\n",
        "PREPROC_TRIAL = 1\n",
        "MODELS_TRIAL = 1\n",
        "COMPETITION_PATH = GDRIVE_PATH + 'ML/Competitions/9.Iris/'\n",
        "# --------------------------------------------------\n",
        "try:\n",
        "    from nbpep8.nbpep8 import pep8\n",
        "except ModuleNotFoundError:\n",
        "    !pip install pycodestyle\n",
        "    !pip install --index-url https://test.pypi.org/simple/ nbpep8\n",
        "from nbpep8.nbpep8 import pep8\n",
        "# ---------------------------------------\n",
        "def download_files(url_dict):\n",
        "    for file, url in url_dict.items():\n",
        "        print(f'Downloading {file}')\n",
        "        !wget -O {file} {url} {file}\n",
        "url_dict = {file: GIT_DOWNLOAD_PATH + file for file in FILES_LIST}\n",
        "print('a')\n",
        "download_files(url_dict)\n",
        "# ---------------------------------------\n",
        "import importlib\n",
        "import path_manager\n",
        "import sklearn_utils\n",
        "import sklearn_transformers\n",
        "import model\n",
        "def reload_all(modules_list_):\n",
        "    for module in modules_list_:\n",
        "        importlib.reload(module)\n",
        "MODULES_LIST = [\n",
        "    path_manager,\n",
        "    sklearn_utils,\n",
        "    sklearn_transformers,\n",
        "    model\n",
        "]\n",
        "reload_all(MODULES_LIST)\n",
        "# ---------------------------------------\n",
        "from path_manager import PathManager\n",
        "from model import Model\n",
        "from sklearn_utils import nan_statistics\n",
        "from sklearn_utils import boxplot_regression\n",
        "from sklearn_utils import get_correlated_attributes\n",
        "from sklearn_utils import visualize_datasets_distributions\n",
        "from sklearn_transformers import ColumnDropper\n",
        "from sklearn_transformers import LogTransformer\n",
        "# ---------------------------------------\n",
        "from google.colab import drive\n",
        "drive.mount('/content/gdrive')\n",
        "manager = PathManager(\n",
        "    competition_path=COMPETITION_PATH,\n",
        "    preprocessing_trial=PREPROC_TRIAL,\n",
        "    models_trial=MODELS_TRIAL\n",
        ")\n",
        "manager.setup_paths()"
      ],
      "metadata": {
        "id": "DIuSsIa9ZibZ"
      },
      "execution_count": 53,
      "outputs": []
    },
    {
      "cell_type": "code",
      "source": [
        "manager.models_root_path"
      ],
      "metadata": {
        "colab": {
          "base_uri": "https://localhost:8080/",
          "height": 0
        },
        "id": "HFkyXYLmaGy2",
        "outputId": "33c17ece-6381-4a1d-ced6-23355f02d17e"
      },
      "execution_count": 54,
      "outputs": [
        {
          "output_type": "execute_result",
          "data": {
            "text/plain": [
              "'/content/gdrive/MyDrive/ML/Competitions/9.Iris/Models'"
            ],
            "application/vnd.google.colaboratory.intrinsic+json": {
              "type": "string"
            }
          },
          "metadata": {},
          "execution_count": 54
        }
      ]
    },
    {
      "cell_type": "markdown",
      "source": [
        "# Download the data"
      ],
      "metadata": {
        "id": "DjxIHET2Z8n6"
      }
    },
    {
      "cell_type": "code",
      "source": [
        "df_train = pd.read_csv(manager.train_path, index_col=None)\n",
        "df_test = pd.read_csv(manager.test_path, index_col=None)"
      ],
      "metadata": {
        "id": "mKr83HLjaP0l"
      },
      "execution_count": 55,
      "outputs": []
    },
    {
      "cell_type": "code",
      "source": [
        "df_train.head()"
      ],
      "metadata": {
        "colab": {
          "base_uri": "https://localhost:8080/",
          "height": 0
        },
        "id": "6NNXwLrgaPtl",
        "outputId": "e6fb7825-b8e1-4d68-a44b-6949c6cf1e1d"
      },
      "execution_count": 56,
      "outputs": [
        {
          "output_type": "execute_result",
          "data": {
            "text/plain": [
              "   sepal_length  sepal_width  petal_length  petal_width          species\n",
              "0      5.045070     2.508203      3.018024     1.164924  Iris-versicolor\n",
              "1      6.325517     2.115481      4.542052     1.413651  Iris-versicolor\n",
              "2      5.257497     3.814303      1.470660     0.395348      Iris-setosa\n",
              "3      6.675168     3.201700      5.785461     2.362764   Iris-virginica\n",
              "4      5.595237     2.678166      4.077750     1.369266  Iris-versicolor"
            ],
            "text/html": [
              "\n",
              "  <div id=\"df-ac1d4aa8-5c89-4d6c-990f-982c596fc226\" class=\"colab-df-container\">\n",
              "    <div>\n",
              "<style scoped>\n",
              "    .dataframe tbody tr th:only-of-type {\n",
              "        vertical-align: middle;\n",
              "    }\n",
              "\n",
              "    .dataframe tbody tr th {\n",
              "        vertical-align: top;\n",
              "    }\n",
              "\n",
              "    .dataframe thead th {\n",
              "        text-align: right;\n",
              "    }\n",
              "</style>\n",
              "<table border=\"1\" class=\"dataframe\">\n",
              "  <thead>\n",
              "    <tr style=\"text-align: right;\">\n",
              "      <th></th>\n",
              "      <th>sepal_length</th>\n",
              "      <th>sepal_width</th>\n",
              "      <th>petal_length</th>\n",
              "      <th>petal_width</th>\n",
              "      <th>species</th>\n",
              "    </tr>\n",
              "  </thead>\n",
              "  <tbody>\n",
              "    <tr>\n",
              "      <th>0</th>\n",
              "      <td>5.045070</td>\n",
              "      <td>2.508203</td>\n",
              "      <td>3.018024</td>\n",
              "      <td>1.164924</td>\n",
              "      <td>Iris-versicolor</td>\n",
              "    </tr>\n",
              "    <tr>\n",
              "      <th>1</th>\n",
              "      <td>6.325517</td>\n",
              "      <td>2.115481</td>\n",
              "      <td>4.542052</td>\n",
              "      <td>1.413651</td>\n",
              "      <td>Iris-versicolor</td>\n",
              "    </tr>\n",
              "    <tr>\n",
              "      <th>2</th>\n",
              "      <td>5.257497</td>\n",
              "      <td>3.814303</td>\n",
              "      <td>1.470660</td>\n",
              "      <td>0.395348</td>\n",
              "      <td>Iris-setosa</td>\n",
              "    </tr>\n",
              "    <tr>\n",
              "      <th>3</th>\n",
              "      <td>6.675168</td>\n",
              "      <td>3.201700</td>\n",
              "      <td>5.785461</td>\n",
              "      <td>2.362764</td>\n",
              "      <td>Iris-virginica</td>\n",
              "    </tr>\n",
              "    <tr>\n",
              "      <th>4</th>\n",
              "      <td>5.595237</td>\n",
              "      <td>2.678166</td>\n",
              "      <td>4.077750</td>\n",
              "      <td>1.369266</td>\n",
              "      <td>Iris-versicolor</td>\n",
              "    </tr>\n",
              "  </tbody>\n",
              "</table>\n",
              "</div>\n",
              "    <div class=\"colab-df-buttons\">\n",
              "\n",
              "  <div class=\"colab-df-container\">\n",
              "    <button class=\"colab-df-convert\" onclick=\"convertToInteractive('df-ac1d4aa8-5c89-4d6c-990f-982c596fc226')\"\n",
              "            title=\"Convert this dataframe to an interactive table.\"\n",
              "            style=\"display:none;\">\n",
              "\n",
              "  <svg xmlns=\"http://www.w3.org/2000/svg\" height=\"24px\" viewBox=\"0 -960 960 960\">\n",
              "    <path d=\"M120-120v-720h720v720H120Zm60-500h600v-160H180v160Zm220 220h160v-160H400v160Zm0 220h160v-160H400v160ZM180-400h160v-160H180v160Zm440 0h160v-160H620v160ZM180-180h160v-160H180v160Zm440 0h160v-160H620v160Z\"/>\n",
              "  </svg>\n",
              "    </button>\n",
              "\n",
              "  <style>\n",
              "    .colab-df-container {\n",
              "      display:flex;\n",
              "      gap: 12px;\n",
              "    }\n",
              "\n",
              "    .colab-df-convert {\n",
              "      background-color: #E8F0FE;\n",
              "      border: none;\n",
              "      border-radius: 50%;\n",
              "      cursor: pointer;\n",
              "      display: none;\n",
              "      fill: #1967D2;\n",
              "      height: 32px;\n",
              "      padding: 0 0 0 0;\n",
              "      width: 32px;\n",
              "    }\n",
              "\n",
              "    .colab-df-convert:hover {\n",
              "      background-color: #E2EBFA;\n",
              "      box-shadow: 0px 1px 2px rgba(60, 64, 67, 0.3), 0px 1px 3px 1px rgba(60, 64, 67, 0.15);\n",
              "      fill: #174EA6;\n",
              "    }\n",
              "\n",
              "    .colab-df-buttons div {\n",
              "      margin-bottom: 4px;\n",
              "    }\n",
              "\n",
              "    [theme=dark] .colab-df-convert {\n",
              "      background-color: #3B4455;\n",
              "      fill: #D2E3FC;\n",
              "    }\n",
              "\n",
              "    [theme=dark] .colab-df-convert:hover {\n",
              "      background-color: #434B5C;\n",
              "      box-shadow: 0px 1px 3px 1px rgba(0, 0, 0, 0.15);\n",
              "      filter: drop-shadow(0px 1px 2px rgba(0, 0, 0, 0.3));\n",
              "      fill: #FFFFFF;\n",
              "    }\n",
              "  </style>\n",
              "\n",
              "    <script>\n",
              "      const buttonEl =\n",
              "        document.querySelector('#df-ac1d4aa8-5c89-4d6c-990f-982c596fc226 button.colab-df-convert');\n",
              "      buttonEl.style.display =\n",
              "        google.colab.kernel.accessAllowed ? 'block' : 'none';\n",
              "\n",
              "      async function convertToInteractive(key) {\n",
              "        const element = document.querySelector('#df-ac1d4aa8-5c89-4d6c-990f-982c596fc226');\n",
              "        const dataTable =\n",
              "          await google.colab.kernel.invokeFunction('convertToInteractive',\n",
              "                                                    [key], {});\n",
              "        if (!dataTable) return;\n",
              "\n",
              "        const docLinkHtml = 'Like what you see? Visit the ' +\n",
              "          '<a target=\"_blank\" href=https://colab.research.google.com/notebooks/data_table.ipynb>data table notebook</a>'\n",
              "          + ' to learn more about interactive tables.';\n",
              "        element.innerHTML = '';\n",
              "        dataTable['output_type'] = 'display_data';\n",
              "        await google.colab.output.renderOutput(dataTable, element);\n",
              "        const docLink = document.createElement('div');\n",
              "        docLink.innerHTML = docLinkHtml;\n",
              "        element.appendChild(docLink);\n",
              "      }\n",
              "    </script>\n",
              "  </div>\n",
              "\n",
              "\n",
              "<div id=\"df-5c0b7da3-b676-43c4-b47f-9bf219111e7a\">\n",
              "  <button class=\"colab-df-quickchart\" onclick=\"quickchart('df-5c0b7da3-b676-43c4-b47f-9bf219111e7a')\"\n",
              "            title=\"Suggest charts.\"\n",
              "            style=\"display:none;\">\n",
              "\n",
              "<svg xmlns=\"http://www.w3.org/2000/svg\" height=\"24px\"viewBox=\"0 0 24 24\"\n",
              "     width=\"24px\">\n",
              "    <g>\n",
              "        <path d=\"M19 3H5c-1.1 0-2 .9-2 2v14c0 1.1.9 2 2 2h14c1.1 0 2-.9 2-2V5c0-1.1-.9-2-2-2zM9 17H7v-7h2v7zm4 0h-2V7h2v10zm4 0h-2v-4h2v4z\"/>\n",
              "    </g>\n",
              "</svg>\n",
              "  </button>\n",
              "\n",
              "<style>\n",
              "  .colab-df-quickchart {\n",
              "      --bg-color: #E8F0FE;\n",
              "      --fill-color: #1967D2;\n",
              "      --hover-bg-color: #E2EBFA;\n",
              "      --hover-fill-color: #174EA6;\n",
              "      --disabled-fill-color: #AAA;\n",
              "      --disabled-bg-color: #DDD;\n",
              "  }\n",
              "\n",
              "  [theme=dark] .colab-df-quickchart {\n",
              "      --bg-color: #3B4455;\n",
              "      --fill-color: #D2E3FC;\n",
              "      --hover-bg-color: #434B5C;\n",
              "      --hover-fill-color: #FFFFFF;\n",
              "      --disabled-bg-color: #3B4455;\n",
              "      --disabled-fill-color: #666;\n",
              "  }\n",
              "\n",
              "  .colab-df-quickchart {\n",
              "    background-color: var(--bg-color);\n",
              "    border: none;\n",
              "    border-radius: 50%;\n",
              "    cursor: pointer;\n",
              "    display: none;\n",
              "    fill: var(--fill-color);\n",
              "    height: 32px;\n",
              "    padding: 0;\n",
              "    width: 32px;\n",
              "  }\n",
              "\n",
              "  .colab-df-quickchart:hover {\n",
              "    background-color: var(--hover-bg-color);\n",
              "    box-shadow: 0 1px 2px rgba(60, 64, 67, 0.3), 0 1px 3px 1px rgba(60, 64, 67, 0.15);\n",
              "    fill: var(--button-hover-fill-color);\n",
              "  }\n",
              "\n",
              "  .colab-df-quickchart-complete:disabled,\n",
              "  .colab-df-quickchart-complete:disabled:hover {\n",
              "    background-color: var(--disabled-bg-color);\n",
              "    fill: var(--disabled-fill-color);\n",
              "    box-shadow: none;\n",
              "  }\n",
              "\n",
              "  .colab-df-spinner {\n",
              "    border: 2px solid var(--fill-color);\n",
              "    border-color: transparent;\n",
              "    border-bottom-color: var(--fill-color);\n",
              "    animation:\n",
              "      spin 1s steps(1) infinite;\n",
              "  }\n",
              "\n",
              "  @keyframes spin {\n",
              "    0% {\n",
              "      border-color: transparent;\n",
              "      border-bottom-color: var(--fill-color);\n",
              "      border-left-color: var(--fill-color);\n",
              "    }\n",
              "    20% {\n",
              "      border-color: transparent;\n",
              "      border-left-color: var(--fill-color);\n",
              "      border-top-color: var(--fill-color);\n",
              "    }\n",
              "    30% {\n",
              "      border-color: transparent;\n",
              "      border-left-color: var(--fill-color);\n",
              "      border-top-color: var(--fill-color);\n",
              "      border-right-color: var(--fill-color);\n",
              "    }\n",
              "    40% {\n",
              "      border-color: transparent;\n",
              "      border-right-color: var(--fill-color);\n",
              "      border-top-color: var(--fill-color);\n",
              "    }\n",
              "    60% {\n",
              "      border-color: transparent;\n",
              "      border-right-color: var(--fill-color);\n",
              "    }\n",
              "    80% {\n",
              "      border-color: transparent;\n",
              "      border-right-color: var(--fill-color);\n",
              "      border-bottom-color: var(--fill-color);\n",
              "    }\n",
              "    90% {\n",
              "      border-color: transparent;\n",
              "      border-bottom-color: var(--fill-color);\n",
              "    }\n",
              "  }\n",
              "</style>\n",
              "\n",
              "  <script>\n",
              "    async function quickchart(key) {\n",
              "      const quickchartButtonEl =\n",
              "        document.querySelector('#' + key + ' button');\n",
              "      quickchartButtonEl.disabled = true;  // To prevent multiple clicks.\n",
              "      quickchartButtonEl.classList.add('colab-df-spinner');\n",
              "      try {\n",
              "        const charts = await google.colab.kernel.invokeFunction(\n",
              "            'suggestCharts', [key], {});\n",
              "      } catch (error) {\n",
              "        console.error('Error during call to suggestCharts:', error);\n",
              "      }\n",
              "      quickchartButtonEl.classList.remove('colab-df-spinner');\n",
              "      quickchartButtonEl.classList.add('colab-df-quickchart-complete');\n",
              "    }\n",
              "    (() => {\n",
              "      let quickchartButtonEl =\n",
              "        document.querySelector('#df-5c0b7da3-b676-43c4-b47f-9bf219111e7a button');\n",
              "      quickchartButtonEl.style.display =\n",
              "        google.colab.kernel.accessAllowed ? 'block' : 'none';\n",
              "    })();\n",
              "  </script>\n",
              "</div>\n",
              "    </div>\n",
              "  </div>\n"
            ]
          },
          "metadata": {},
          "execution_count": 56
        }
      ]
    },
    {
      "cell_type": "code",
      "source": [
        "df_train.columns"
      ],
      "metadata": {
        "colab": {
          "base_uri": "https://localhost:8080/"
        },
        "id": "xRpxATSWbAQQ",
        "outputId": "8a177185-e5dc-4c6e-b7e6-038ccd6393ea"
      },
      "execution_count": 57,
      "outputs": [
        {
          "output_type": "execute_result",
          "data": {
            "text/plain": [
              "Index(['sepal_length', 'sepal_width', 'petal_length', 'petal_width',\n",
              "       'species'],\n",
              "      dtype='object')"
            ]
          },
          "metadata": {},
          "execution_count": 57
        }
      ]
    },
    {
      "cell_type": "code",
      "source": [
        "df_train.dtypes"
      ],
      "metadata": {
        "colab": {
          "base_uri": "https://localhost:8080/"
        },
        "id": "aWLdgxhubDJK",
        "outputId": "a47dc769-17c5-49f3-a8f1-584211822e2a"
      },
      "execution_count": 58,
      "outputs": [
        {
          "output_type": "execute_result",
          "data": {
            "text/plain": [
              "sepal_length    float64\n",
              "sepal_width     float64\n",
              "petal_length    float64\n",
              "petal_width     float64\n",
              "species          object\n",
              "dtype: object"
            ]
          },
          "metadata": {},
          "execution_count": 58
        }
      ]
    },
    {
      "cell_type": "markdown",
      "source": [
        "# Quick look at the data"
      ],
      "metadata": {
        "id": "6B6SPClGalEv"
      }
    },
    {
      "cell_type": "markdown",
      "source": [
        "## Nan check"
      ],
      "metadata": {
        "id": "yfg4TNklaoCk"
      }
    },
    {
      "cell_type": "code",
      "source": [
        "_ = nan_statistics(df_train)\n",
        "_ = nan_statistics(df_test)"
      ],
      "metadata": {
        "colab": {
          "base_uri": "https://localhost:8080/"
        },
        "id": "09kSwnA3anV3",
        "outputId": "42cb98ca-ed0f-450d-d395-3e56f67a20dc"
      },
      "execution_count": 59,
      "outputs": [
        {
          "output_type": "stream",
          "name": "stdout",
          "text": [
            "Col -- Nan percentage\n",
            "petal_length 7.6190476190476195\n",
            "sepal_width 3.8095238095238098\n",
            "Col -- Nan percentage\n"
          ]
        }
      ]
    },
    {
      "cell_type": "code",
      "source": [
        "df_train.isna().mean()"
      ],
      "metadata": {
        "colab": {
          "base_uri": "https://localhost:8080/"
        },
        "id": "wNMBEgcvaxIW",
        "outputId": "2ce87ef2-6221-406b-b251-b5192040654e"
      },
      "execution_count": 60,
      "outputs": [
        {
          "output_type": "execute_result",
          "data": {
            "text/plain": [
              "sepal_length    0.000000\n",
              "sepal_width     0.038095\n",
              "petal_length    0.076190\n",
              "petal_width     0.000000\n",
              "species         0.000000\n",
              "dtype: float64"
            ]
          },
          "metadata": {},
          "execution_count": 60
        }
      ]
    },
    {
      "cell_type": "markdown",
      "source": [
        "# Data exploration"
      ],
      "metadata": {
        "id": "rmrPwOp5DQ47"
      }
    },
    {
      "cell_type": "markdown",
      "source": [
        "## How to better impute nans?"
      ],
      "metadata": {
        "id": "tFUyW_tiDfg7"
      }
    },
    {
      "cell_type": "code",
      "source": [
        "has_nans_in_rows = df_train.apply(\n",
        "    lambda item: item.isna().sum() > 0,\n",
        "    axis=1\n",
        ")\n",
        "df_train.loc[has_nans_in_rows, :].head(10)"
      ],
      "metadata": {
        "id": "gyy0GOjsDS4k",
        "outputId": "89dafb2a-d16c-4278-b129-2a277c94593e",
        "colab": {
          "base_uri": "https://localhost:8080/",
          "height": 362
        }
      },
      "execution_count": 61,
      "outputs": [
        {
          "output_type": "execute_result",
          "data": {
            "text/plain": [
              "    sepal_length  sepal_width  petal_length  petal_width          species\n",
              "7       5.205868          NaN      1.675654     0.112269      Iris-setosa\n",
              "21      6.365979          NaN      4.964905     1.817211   Iris-virginica\n",
              "30      5.673096     4.409565           NaN     0.370518      Iris-setosa\n",
              "32      5.847160     2.743619           NaN     0.748681  Iris-versicolor\n",
              "37      6.271780     2.521065           NaN     1.896626   Iris-virginica\n",
              "39      5.040516     3.466344           NaN     0.314548      Iris-setosa\n",
              "41      4.496342     3.098270           NaN     0.242853      Iris-setosa\n",
              "50      5.817283     2.633800           NaN     1.141347  Iris-versicolor\n",
              "54      6.265590          NaN      4.701306     1.290187  Iris-versicolor\n",
              "64      6.340344          NaN      4.302989     1.331797  Iris-versicolor"
            ],
            "text/html": [
              "\n",
              "  <div id=\"df-b357906b-f400-45b8-9242-9c45cb1d5093\" class=\"colab-df-container\">\n",
              "    <div>\n",
              "<style scoped>\n",
              "    .dataframe tbody tr th:only-of-type {\n",
              "        vertical-align: middle;\n",
              "    }\n",
              "\n",
              "    .dataframe tbody tr th {\n",
              "        vertical-align: top;\n",
              "    }\n",
              "\n",
              "    .dataframe thead th {\n",
              "        text-align: right;\n",
              "    }\n",
              "</style>\n",
              "<table border=\"1\" class=\"dataframe\">\n",
              "  <thead>\n",
              "    <tr style=\"text-align: right;\">\n",
              "      <th></th>\n",
              "      <th>sepal_length</th>\n",
              "      <th>sepal_width</th>\n",
              "      <th>petal_length</th>\n",
              "      <th>petal_width</th>\n",
              "      <th>species</th>\n",
              "    </tr>\n",
              "  </thead>\n",
              "  <tbody>\n",
              "    <tr>\n",
              "      <th>7</th>\n",
              "      <td>5.205868</td>\n",
              "      <td>NaN</td>\n",
              "      <td>1.675654</td>\n",
              "      <td>0.112269</td>\n",
              "      <td>Iris-setosa</td>\n",
              "    </tr>\n",
              "    <tr>\n",
              "      <th>21</th>\n",
              "      <td>6.365979</td>\n",
              "      <td>NaN</td>\n",
              "      <td>4.964905</td>\n",
              "      <td>1.817211</td>\n",
              "      <td>Iris-virginica</td>\n",
              "    </tr>\n",
              "    <tr>\n",
              "      <th>30</th>\n",
              "      <td>5.673096</td>\n",
              "      <td>4.409565</td>\n",
              "      <td>NaN</td>\n",
              "      <td>0.370518</td>\n",
              "      <td>Iris-setosa</td>\n",
              "    </tr>\n",
              "    <tr>\n",
              "      <th>32</th>\n",
              "      <td>5.847160</td>\n",
              "      <td>2.743619</td>\n",
              "      <td>NaN</td>\n",
              "      <td>0.748681</td>\n",
              "      <td>Iris-versicolor</td>\n",
              "    </tr>\n",
              "    <tr>\n",
              "      <th>37</th>\n",
              "      <td>6.271780</td>\n",
              "      <td>2.521065</td>\n",
              "      <td>NaN</td>\n",
              "      <td>1.896626</td>\n",
              "      <td>Iris-virginica</td>\n",
              "    </tr>\n",
              "    <tr>\n",
              "      <th>39</th>\n",
              "      <td>5.040516</td>\n",
              "      <td>3.466344</td>\n",
              "      <td>NaN</td>\n",
              "      <td>0.314548</td>\n",
              "      <td>Iris-setosa</td>\n",
              "    </tr>\n",
              "    <tr>\n",
              "      <th>41</th>\n",
              "      <td>4.496342</td>\n",
              "      <td>3.098270</td>\n",
              "      <td>NaN</td>\n",
              "      <td>0.242853</td>\n",
              "      <td>Iris-setosa</td>\n",
              "    </tr>\n",
              "    <tr>\n",
              "      <th>50</th>\n",
              "      <td>5.817283</td>\n",
              "      <td>2.633800</td>\n",
              "      <td>NaN</td>\n",
              "      <td>1.141347</td>\n",
              "      <td>Iris-versicolor</td>\n",
              "    </tr>\n",
              "    <tr>\n",
              "      <th>54</th>\n",
              "      <td>6.265590</td>\n",
              "      <td>NaN</td>\n",
              "      <td>4.701306</td>\n",
              "      <td>1.290187</td>\n",
              "      <td>Iris-versicolor</td>\n",
              "    </tr>\n",
              "    <tr>\n",
              "      <th>64</th>\n",
              "      <td>6.340344</td>\n",
              "      <td>NaN</td>\n",
              "      <td>4.302989</td>\n",
              "      <td>1.331797</td>\n",
              "      <td>Iris-versicolor</td>\n",
              "    </tr>\n",
              "  </tbody>\n",
              "</table>\n",
              "</div>\n",
              "    <div class=\"colab-df-buttons\">\n",
              "\n",
              "  <div class=\"colab-df-container\">\n",
              "    <button class=\"colab-df-convert\" onclick=\"convertToInteractive('df-b357906b-f400-45b8-9242-9c45cb1d5093')\"\n",
              "            title=\"Convert this dataframe to an interactive table.\"\n",
              "            style=\"display:none;\">\n",
              "\n",
              "  <svg xmlns=\"http://www.w3.org/2000/svg\" height=\"24px\" viewBox=\"0 -960 960 960\">\n",
              "    <path d=\"M120-120v-720h720v720H120Zm60-500h600v-160H180v160Zm220 220h160v-160H400v160Zm0 220h160v-160H400v160ZM180-400h160v-160H180v160Zm440 0h160v-160H620v160ZM180-180h160v-160H180v160Zm440 0h160v-160H620v160Z\"/>\n",
              "  </svg>\n",
              "    </button>\n",
              "\n",
              "  <style>\n",
              "    .colab-df-container {\n",
              "      display:flex;\n",
              "      gap: 12px;\n",
              "    }\n",
              "\n",
              "    .colab-df-convert {\n",
              "      background-color: #E8F0FE;\n",
              "      border: none;\n",
              "      border-radius: 50%;\n",
              "      cursor: pointer;\n",
              "      display: none;\n",
              "      fill: #1967D2;\n",
              "      height: 32px;\n",
              "      padding: 0 0 0 0;\n",
              "      width: 32px;\n",
              "    }\n",
              "\n",
              "    .colab-df-convert:hover {\n",
              "      background-color: #E2EBFA;\n",
              "      box-shadow: 0px 1px 2px rgba(60, 64, 67, 0.3), 0px 1px 3px 1px rgba(60, 64, 67, 0.15);\n",
              "      fill: #174EA6;\n",
              "    }\n",
              "\n",
              "    .colab-df-buttons div {\n",
              "      margin-bottom: 4px;\n",
              "    }\n",
              "\n",
              "    [theme=dark] .colab-df-convert {\n",
              "      background-color: #3B4455;\n",
              "      fill: #D2E3FC;\n",
              "    }\n",
              "\n",
              "    [theme=dark] .colab-df-convert:hover {\n",
              "      background-color: #434B5C;\n",
              "      box-shadow: 0px 1px 3px 1px rgba(0, 0, 0, 0.15);\n",
              "      filter: drop-shadow(0px 1px 2px rgba(0, 0, 0, 0.3));\n",
              "      fill: #FFFFFF;\n",
              "    }\n",
              "  </style>\n",
              "\n",
              "    <script>\n",
              "      const buttonEl =\n",
              "        document.querySelector('#df-b357906b-f400-45b8-9242-9c45cb1d5093 button.colab-df-convert');\n",
              "      buttonEl.style.display =\n",
              "        google.colab.kernel.accessAllowed ? 'block' : 'none';\n",
              "\n",
              "      async function convertToInteractive(key) {\n",
              "        const element = document.querySelector('#df-b357906b-f400-45b8-9242-9c45cb1d5093');\n",
              "        const dataTable =\n",
              "          await google.colab.kernel.invokeFunction('convertToInteractive',\n",
              "                                                    [key], {});\n",
              "        if (!dataTable) return;\n",
              "\n",
              "        const docLinkHtml = 'Like what you see? Visit the ' +\n",
              "          '<a target=\"_blank\" href=https://colab.research.google.com/notebooks/data_table.ipynb>data table notebook</a>'\n",
              "          + ' to learn more about interactive tables.';\n",
              "        element.innerHTML = '';\n",
              "        dataTable['output_type'] = 'display_data';\n",
              "        await google.colab.output.renderOutput(dataTable, element);\n",
              "        const docLink = document.createElement('div');\n",
              "        docLink.innerHTML = docLinkHtml;\n",
              "        element.appendChild(docLink);\n",
              "      }\n",
              "    </script>\n",
              "  </div>\n",
              "\n",
              "\n",
              "<div id=\"df-55bab24c-9527-43c0-8492-4b589ca96ee5\">\n",
              "  <button class=\"colab-df-quickchart\" onclick=\"quickchart('df-55bab24c-9527-43c0-8492-4b589ca96ee5')\"\n",
              "            title=\"Suggest charts.\"\n",
              "            style=\"display:none;\">\n",
              "\n",
              "<svg xmlns=\"http://www.w3.org/2000/svg\" height=\"24px\"viewBox=\"0 0 24 24\"\n",
              "     width=\"24px\">\n",
              "    <g>\n",
              "        <path d=\"M19 3H5c-1.1 0-2 .9-2 2v14c0 1.1.9 2 2 2h14c1.1 0 2-.9 2-2V5c0-1.1-.9-2-2-2zM9 17H7v-7h2v7zm4 0h-2V7h2v10zm4 0h-2v-4h2v4z\"/>\n",
              "    </g>\n",
              "</svg>\n",
              "  </button>\n",
              "\n",
              "<style>\n",
              "  .colab-df-quickchart {\n",
              "      --bg-color: #E8F0FE;\n",
              "      --fill-color: #1967D2;\n",
              "      --hover-bg-color: #E2EBFA;\n",
              "      --hover-fill-color: #174EA6;\n",
              "      --disabled-fill-color: #AAA;\n",
              "      --disabled-bg-color: #DDD;\n",
              "  }\n",
              "\n",
              "  [theme=dark] .colab-df-quickchart {\n",
              "      --bg-color: #3B4455;\n",
              "      --fill-color: #D2E3FC;\n",
              "      --hover-bg-color: #434B5C;\n",
              "      --hover-fill-color: #FFFFFF;\n",
              "      --disabled-bg-color: #3B4455;\n",
              "      --disabled-fill-color: #666;\n",
              "  }\n",
              "\n",
              "  .colab-df-quickchart {\n",
              "    background-color: var(--bg-color);\n",
              "    border: none;\n",
              "    border-radius: 50%;\n",
              "    cursor: pointer;\n",
              "    display: none;\n",
              "    fill: var(--fill-color);\n",
              "    height: 32px;\n",
              "    padding: 0;\n",
              "    width: 32px;\n",
              "  }\n",
              "\n",
              "  .colab-df-quickchart:hover {\n",
              "    background-color: var(--hover-bg-color);\n",
              "    box-shadow: 0 1px 2px rgba(60, 64, 67, 0.3), 0 1px 3px 1px rgba(60, 64, 67, 0.15);\n",
              "    fill: var(--button-hover-fill-color);\n",
              "  }\n",
              "\n",
              "  .colab-df-quickchart-complete:disabled,\n",
              "  .colab-df-quickchart-complete:disabled:hover {\n",
              "    background-color: var(--disabled-bg-color);\n",
              "    fill: var(--disabled-fill-color);\n",
              "    box-shadow: none;\n",
              "  }\n",
              "\n",
              "  .colab-df-spinner {\n",
              "    border: 2px solid var(--fill-color);\n",
              "    border-color: transparent;\n",
              "    border-bottom-color: var(--fill-color);\n",
              "    animation:\n",
              "      spin 1s steps(1) infinite;\n",
              "  }\n",
              "\n",
              "  @keyframes spin {\n",
              "    0% {\n",
              "      border-color: transparent;\n",
              "      border-bottom-color: var(--fill-color);\n",
              "      border-left-color: var(--fill-color);\n",
              "    }\n",
              "    20% {\n",
              "      border-color: transparent;\n",
              "      border-left-color: var(--fill-color);\n",
              "      border-top-color: var(--fill-color);\n",
              "    }\n",
              "    30% {\n",
              "      border-color: transparent;\n",
              "      border-left-color: var(--fill-color);\n",
              "      border-top-color: var(--fill-color);\n",
              "      border-right-color: var(--fill-color);\n",
              "    }\n",
              "    40% {\n",
              "      border-color: transparent;\n",
              "      border-right-color: var(--fill-color);\n",
              "      border-top-color: var(--fill-color);\n",
              "    }\n",
              "    60% {\n",
              "      border-color: transparent;\n",
              "      border-right-color: var(--fill-color);\n",
              "    }\n",
              "    80% {\n",
              "      border-color: transparent;\n",
              "      border-right-color: var(--fill-color);\n",
              "      border-bottom-color: var(--fill-color);\n",
              "    }\n",
              "    90% {\n",
              "      border-color: transparent;\n",
              "      border-bottom-color: var(--fill-color);\n",
              "    }\n",
              "  }\n",
              "</style>\n",
              "\n",
              "  <script>\n",
              "    async function quickchart(key) {\n",
              "      const quickchartButtonEl =\n",
              "        document.querySelector('#' + key + ' button');\n",
              "      quickchartButtonEl.disabled = true;  // To prevent multiple clicks.\n",
              "      quickchartButtonEl.classList.add('colab-df-spinner');\n",
              "      try {\n",
              "        const charts = await google.colab.kernel.invokeFunction(\n",
              "            'suggestCharts', [key], {});\n",
              "      } catch (error) {\n",
              "        console.error('Error during call to suggestCharts:', error);\n",
              "      }\n",
              "      quickchartButtonEl.classList.remove('colab-df-spinner');\n",
              "      quickchartButtonEl.classList.add('colab-df-quickchart-complete');\n",
              "    }\n",
              "    (() => {\n",
              "      let quickchartButtonEl =\n",
              "        document.querySelector('#df-55bab24c-9527-43c0-8492-4b589ca96ee5 button');\n",
              "      quickchartButtonEl.style.display =\n",
              "        google.colab.kernel.accessAllowed ? 'block' : 'none';\n",
              "    })();\n",
              "  </script>\n",
              "</div>\n",
              "    </div>\n",
              "  </div>\n"
            ]
          },
          "metadata": {},
          "execution_count": 61
        }
      ]
    },
    {
      "cell_type": "code",
      "source": [
        "from sklearn_utils import nan_report\n",
        "_ = nan_report(df_train, 0.0)"
      ],
      "metadata": {
        "id": "tVncIElEDhhm",
        "outputId": "04053822-9bb0-4e21-d304-97beba9337c0",
        "colab": {
          "base_uri": "https://localhost:8080/"
        }
      },
      "execution_count": 62,
      "outputs": [
        {
          "output_type": "stream",
          "name": "stdout",
          "text": [
            "2 / 5 cols (40.0 %) have nan % > 0.0\n",
            "\n",
            "sepal_width     0.038095\n",
            "petal_length    0.076190\n",
            "dtype: float64\n"
          ]
        }
      ]
    },
    {
      "cell_type": "code",
      "source": [
        "_, ax = plt.subplots(1, 2, figsize=(12, 5))\n",
        "df_train['sepal_width'].hist(ax=ax[0])\n",
        "df_train['petal_length'].hist(ax=ax[1])"
      ],
      "metadata": {
        "id": "0h-dUUn7Dt7W",
        "outputId": "b3a82034-58d2-4c4b-f547-1e13a3e9b501",
        "colab": {
          "base_uri": "https://localhost:8080/",
          "height": 462
        }
      },
      "execution_count": 63,
      "outputs": [
        {
          "output_type": "execute_result",
          "data": {
            "text/plain": [
              "<Axes: >"
            ]
          },
          "metadata": {},
          "execution_count": 63
        },
        {
          "output_type": "display_data",
          "data": {
            "text/plain": [
              "<Figure size 1200x500 with 2 Axes>"
            ],
            "image/png": "[encoded data removed]"
          },
          "metadata": {}
        }
      ]
    },
    {
      "cell_type": "markdown",
      "source": [
        "- We will try with KNN imputing of NAN values"
      ],
      "metadata": {
        "id": "zaBQZRiWEeto"
      }
    },
    {
      "cell_type": "markdown",
      "source": [
        "# Split the data"
      ],
      "metadata": {
        "id": "R_0AwEXQbOlF"
      }
    },
    {
      "cell_type": "code",
      "source": [
        "from sklearn.model_selection import train_test_split\n",
        "\n",
        "RANDOM_STATE = 42\n",
        "TRAINVAL_SIZE = 0.8\n",
        "TRAIN_SIZE = 0.8\n",
        "\n",
        "df_trainval, df_test = train_test_split(\n",
        "    df_train,\n",
        "    train_size=TRAINVAL_SIZE,\n",
        "    random_state=RANDOM_STATE,\n",
        "    stratify=df_train['species']\n",
        ")\n",
        "\n",
        "df_train, df_val = train_test_split(\n",
        "    df_trainval,\n",
        "    train_size=TRAIN_SIZE,\n",
        "    random_state=RANDOM_STATE,\n",
        "    stratify=df_trainval['species']\n",
        ")\n",
        "\n",
        "df_train.size, df_val.size, df_test.size"
      ],
      "metadata": {
        "colab": {
          "base_uri": "https://localhost:8080/"
        },
        "id": "igAz_IUcbP0v",
        "outputId": "f0c75b62-ea24-4830-f24c-d25852ce443e"
      },
      "execution_count": 64,
      "outputs": [
        {
          "output_type": "execute_result",
          "data": {
            "text/plain": [
              "(335, 85, 105)"
            ]
          },
          "metadata": {},
          "execution_count": 64
        }
      ]
    },
    {
      "cell_type": "code",
      "source": [
        "def X_Y(df):\n",
        "    X = df.loc[:, df.columns != 'species']\n",
        "    Y = df[['species']]\n",
        "    return X, Y\n",
        "\n",
        "X_train, Y_train = X_Y(df_train)\n",
        "X_val, Y_val = X_Y(df_val)\n",
        "X_test, Y_test = X_Y(df_test)"
      ],
      "metadata": {
        "id": "gm81K4aoc7SG"
      },
      "execution_count": 67,
      "outputs": []
    },
    {
      "cell_type": "code",
      "source": [
        "fig, ax = plt.subplots(1, 3, figsize=(20, 5))\n",
        "_ = ax[0].hist(Y_train, label='train', density=True)\n",
        "ax[0].set_title('train')\n",
        "\n",
        "_ = ax[1].hist(Y_val, label='val', density=True)\n",
        "ax[1].set_title('val')\n",
        "\n",
        "_ = ax[2].hist(Y_test, label='test', density=True)\n",
        "ax[2].set_title('test')\n",
        "\n",
        "fig.suptitle('Class distribution')"
      ],
      "metadata": {
        "colab": {
          "base_uri": "https://localhost:8080/",
          "height": 411
        },
        "id": "CDN7NltObevz",
        "outputId": "2034f0e7-f57e-4598-b9d4-bdd926728c81"
      },
      "execution_count": 47,
      "outputs": [
        {
          "output_type": "execute_result",
          "data": {
            "text/plain": [
              "Text(0.5, 0.98, 'Class distribution')"
            ]
          },
          "metadata": {},
          "execution_count": 47
        },
        {
          "output_type": "display_data",
          "data": {
            "text/plain": [
              "<Figure size 2000x500 with 3 Axes>"
            ],
            "image/png": "[encoded data removed]"
          },
          "metadata": {}
        }
      ]
    },
    {
      "cell_type": "markdown",
      "source": [
        "# Preprocessing pipeline"
      ],
      "metadata": {
        "id": "uCfphutvcprw"
      }
    },
    {
      "cell_type": "code",
      "source": [
        "from sklearn.compose import ColumnTransformer\n",
        "from sklearn.impute import SimpleImputer\n",
        "from sklearn.preprocessing import StandardScaler\n",
        "from sklearn.preprocessing import LabelEncoder\n",
        "from sklearn.pipeline import make_pipeline\n",
        "from sklearn.impute import KNNImputer\n",
        "\n",
        "num_columns = ['sepal_length', 'sepal_width', 'petal_length', 'petal_width']\n",
        "num_pipeline = make_pipeline(\n",
        "    KNNImputer(\n",
        "        n_neighbors=5,\n",
        "        weights='distance'\n",
        "    ),\n",
        "    StandardScaler()\n",
        ")"
      ],
      "metadata": {
        "id": "ppx_64wFcrdm"
      },
      "execution_count": 69,
      "outputs": []
    },
    {
      "cell_type": "code",
      "source": [
        "has_nans_in_rows = df_train.apply(\n",
        "    lambda item: item.isna().sum() > 0,\n",
        "    axis=1\n",
        ")\n",
        "df_train.loc[has_nans_in_rows, :].head(10)"
      ],
      "metadata": {
        "id": "ls3fFB8RAJlb",
        "outputId": "64b7d9ce-673c-4b30-fb36-5414ff5a1f0f",
        "colab": {
          "base_uri": "https://localhost:8080/",
          "height": 237
        }
      },
      "execution_count": 70,
      "outputs": [
        {
          "output_type": "execute_result",
          "data": {
            "text/plain": [
              "    sepal_length  sepal_width  petal_length  petal_width          species\n",
              "39      5.040516     3.466344           NaN     0.314548      Iris-setosa\n",
              "54      6.265590          NaN      4.701306     1.290187  Iris-versicolor\n",
              "64      6.340344          NaN      4.302989     1.331797  Iris-versicolor\n",
              "41      4.496342     3.098270           NaN     0.242853      Iris-setosa\n",
              "65      6.235536     3.425253           NaN     2.423053   Iris-virginica\n",
              "85      5.911822     2.560512           NaN     1.766513   Iris-virginica"
            ],
            "text/html": [
              "\n",
              "  <div id=\"df-05a5d703-4172-43d1-9b7d-55cc3c1523d4\" class=\"colab-df-container\">\n",
              "    <div>\n",
              "<style scoped>\n",
              "    .dataframe tbody tr th:only-of-type {\n",
              "        vertical-align: middle;\n",
              "    }\n",
              "\n",
              "    .dataframe tbody tr th {\n",
              "        vertical-align: top;\n",
              "    }\n",
              "\n",
              "    .dataframe thead th {\n",
              "        text-align: right;\n",
              "    }\n",
              "</style>\n",
              "<table border=\"1\" class=\"dataframe\">\n",
              "  <thead>\n",
              "    <tr style=\"text-align: right;\">\n",
              "      <th></th>\n",
              "      <th>sepal_length</th>\n",
              "      <th>sepal_width</th>\n",
              "      <th>petal_length</th>\n",
              "      <th>petal_width</th>\n",
              "      <th>species</th>\n",
              "    </tr>\n",
              "  </thead>\n",
              "  <tbody>\n",
              "    <tr>\n",
              "      <th>39</th>\n",
              "      <td>5.040516</td>\n",
              "      <td>3.466344</td>\n",
              "      <td>NaN</td>\n",
              "      <td>0.314548</td>\n",
              "      <td>Iris-setosa</td>\n",
              "    </tr>\n",
              "    <tr>\n",
              "      <th>54</th>\n",
              "      <td>6.265590</td>\n",
              "      <td>NaN</td>\n",
              "      <td>4.701306</td>\n",
              "      <td>1.290187</td>\n",
              "      <td>Iris-versicolor</td>\n",
              "    </tr>\n",
              "    <tr>\n",
              "      <th>64</th>\n",
              "      <td>6.340344</td>\n",
              "      <td>NaN</td>\n",
              "      <td>4.302989</td>\n",
              "      <td>1.331797</td>\n",
              "      <td>Iris-versicolor</td>\n",
              "    </tr>\n",
              "    <tr>\n",
              "      <th>41</th>\n",
              "      <td>4.496342</td>\n",
              "      <td>3.098270</td>\n",
              "      <td>NaN</td>\n",
              "      <td>0.242853</td>\n",
              "      <td>Iris-setosa</td>\n",
              "    </tr>\n",
              "    <tr>\n",
              "      <th>65</th>\n",
              "      <td>6.235536</td>\n",
              "      <td>3.425253</td>\n",
              "      <td>NaN</td>\n",
              "      <td>2.423053</td>\n",
              "      <td>Iris-virginica</td>\n",
              "    </tr>\n",
              "    <tr>\n",
              "      <th>85</th>\n",
              "      <td>5.911822</td>\n",
              "      <td>2.560512</td>\n",
              "      <td>NaN</td>\n",
              "      <td>1.766513</td>\n",
              "      <td>Iris-virginica</td>\n",
              "    </tr>\n",
              "  </tbody>\n",
              "</table>\n",
              "</div>\n",
              "    <div class=\"colab-df-buttons\">\n",
              "\n",
              "  <div class=\"colab-df-container\">\n",
              "    <button class=\"colab-df-convert\" onclick=\"convertToInteractive('df-05a5d703-4172-43d1-9b7d-55cc3c1523d4')\"\n",
              "            title=\"Convert this dataframe to an interactive table.\"\n",
              "            style=\"display:none;\">\n",
              "\n",
              "  <svg xmlns=\"http://www.w3.org/2000/svg\" height=\"24px\" viewBox=\"0 -960 960 960\">\n",
              "    <path d=\"M120-120v-720h720v720H120Zm60-500h600v-160H180v160Zm220 220h160v-160H400v160Zm0 220h160v-160H400v160ZM180-400h160v-160H180v160Zm440 0h160v-160H620v160ZM180-180h160v-160H180v160Zm440 0h160v-160H620v160Z\"/>\n",
              "  </svg>\n",
              "    </button>\n",
              "\n",
              "  <style>\n",
              "    .colab-df-container {\n",
              "      display:flex;\n",
              "      gap: 12px;\n",
              "    }\n",
              "\n",
              "    .colab-df-convert {\n",
              "      background-color: #E8F0FE;\n",
              "      border: none;\n",
              "      border-radius: 50%;\n",
              "      cursor: pointer;\n",
              "      display: none;\n",
              "      fill: #1967D2;\n",
              "      height: 32px;\n",
              "      padding: 0 0 0 0;\n",
              "      width: 32px;\n",
              "    }\n",
              "\n",
              "    .colab-df-convert:hover {\n",
              "      background-color: #E2EBFA;\n",
              "      box-shadow: 0px 1px 2px rgba(60, 64, 67, 0.3), 0px 1px 3px 1px rgba(60, 64, 67, 0.15);\n",
              "      fill: #174EA6;\n",
              "    }\n",
              "\n",
              "    .colab-df-buttons div {\n",
              "      margin-bottom: 4px;\n",
              "    }\n",
              "\n",
              "    [theme=dark] .colab-df-convert {\n",
              "      background-color: #3B4455;\n",
              "      fill: #D2E3FC;\n",
              "    }\n",
              "\n",
              "    [theme=dark] .colab-df-convert:hover {\n",
              "      background-color: #434B5C;\n",
              "      box-shadow: 0px 1px 3px 1px rgba(0, 0, 0, 0.15);\n",
              "      filter: drop-shadow(0px 1px 2px rgba(0, 0, 0, 0.3));\n",
              "      fill: #FFFFFF;\n",
              "    }\n",
              "  </style>\n",
              "\n",
              "    <script>\n",
              "      const buttonEl =\n",
              "        document.querySelector('#df-05a5d703-4172-43d1-9b7d-55cc3c1523d4 button.colab-df-convert');\n",
              "      buttonEl.style.display =\n",
              "        google.colab.kernel.accessAllowed ? 'block' : 'none';\n",
              "\n",
              "      async function convertToInteractive(key) {\n",
              "        const element = document.querySelector('#df-05a5d703-4172-43d1-9b7d-55cc3c1523d4');\n",
              "        const dataTable =\n",
              "          await google.colab.kernel.invokeFunction('convertToInteractive',\n",
              "                                                    [key], {});\n",
              "        if (!dataTable) return;\n",
              "\n",
              "        const docLinkHtml = 'Like what you see? Visit the ' +\n",
              "          '<a target=\"_blank\" href=https://colab.research.google.com/notebooks/data_table.ipynb>data table notebook</a>'\n",
              "          + ' to learn more about interactive tables.';\n",
              "        element.innerHTML = '';\n",
              "        dataTable['output_type'] = 'display_data';\n",
              "        await google.colab.output.renderOutput(dataTable, element);\n",
              "        const docLink = document.createElement('div');\n",
              "        docLink.innerHTML = docLinkHtml;\n",
              "        element.appendChild(docLink);\n",
              "      }\n",
              "    </script>\n",
              "  </div>\n",
              "\n",
              "\n",
              "<div id=\"df-cbd8d2de-85c4-4836-96c0-7ec1cf5b1e3c\">\n",
              "  <button class=\"colab-df-quickchart\" onclick=\"quickchart('df-cbd8d2de-85c4-4836-96c0-7ec1cf5b1e3c')\"\n",
              "            title=\"Suggest charts.\"\n",
              "            style=\"display:none;\">\n",
              "\n",
              "<svg xmlns=\"http://www.w3.org/2000/svg\" height=\"24px\"viewBox=\"0 0 24 24\"\n",
              "     width=\"24px\">\n",
              "    <g>\n",
              "        <path d=\"M19 3H5c-1.1 0-2 .9-2 2v14c0 1.1.9 2 2 2h14c1.1 0 2-.9 2-2V5c0-1.1-.9-2-2-2zM9 17H7v-7h2v7zm4 0h-2V7h2v10zm4 0h-2v-4h2v4z\"/>\n",
              "    </g>\n",
              "</svg>\n",
              "  </button>\n",
              "\n",
              "<style>\n",
              "  .colab-df-quickchart {\n",
              "      --bg-color: #E8F0FE;\n",
              "      --fill-color: #1967D2;\n",
              "      --hover-bg-color: #E2EBFA;\n",
              "      --hover-fill-color: #174EA6;\n",
              "      --disabled-fill-color: #AAA;\n",
              "      --disabled-bg-color: #DDD;\n",
              "  }\n",
              "\n",
              "  [theme=dark] .colab-df-quickchart {\n",
              "      --bg-color: #3B4455;\n",
              "      --fill-color: #D2E3FC;\n",
              "      --hover-bg-color: #434B5C;\n",
              "      --hover-fill-color: #FFFFFF;\n",
              "      --disabled-bg-color: #3B4455;\n",
              "      --disabled-fill-color: #666;\n",
              "  }\n",
              "\n",
              "  .colab-df-quickchart {\n",
              "    background-color: var(--bg-color);\n",
              "    border: none;\n",
              "    border-radius: 50%;\n",
              "    cursor: pointer;\n",
              "    display: none;\n",
              "    fill: var(--fill-color);\n",
              "    height: 32px;\n",
              "    padding: 0;\n",
              "    width: 32px;\n",
              "  }\n",
              "\n",
              "  .colab-df-quickchart:hover {\n",
              "    background-color: var(--hover-bg-color);\n",
              "    box-shadow: 0 1px 2px rgba(60, 64, 67, 0.3), 0 1px 3px 1px rgba(60, 64, 67, 0.15);\n",
              "    fill: var(--button-hover-fill-color);\n",
              "  }\n",
              "\n",
              "  .colab-df-quickchart-complete:disabled,\n",
              "  .colab-df-quickchart-complete:disabled:hover {\n",
              "    background-color: var(--disabled-bg-color);\n",
              "    fill: var(--disabled-fill-color);\n",
              "    box-shadow: none;\n",
              "  }\n",
              "\n",
              "  .colab-df-spinner {\n",
              "    border: 2px solid var(--fill-color);\n",
              "    border-color: transparent;\n",
              "    border-bottom-color: var(--fill-color);\n",
              "    animation:\n",
              "      spin 1s steps(1) infinite;\n",
              "  }\n",
              "\n",
              "  @keyframes spin {\n",
              "    0% {\n",
              "      border-color: transparent;\n",
              "      border-bottom-color: var(--fill-color);\n",
              "      border-left-color: var(--fill-color);\n",
              "    }\n",
              "    20% {\n",
              "      border-color: transparent;\n",
              "      border-left-color: var(--fill-color);\n",
              "      border-top-color: var(--fill-color);\n",
              "    }\n",
              "    30% {\n",
              "      border-color: transparent;\n",
              "      border-left-color: var(--fill-color);\n",
              "      border-top-color: var(--fill-color);\n",
              "      border-right-color: var(--fill-color);\n",
              "    }\n",
              "    40% {\n",
              "      border-color: transparent;\n",
              "      border-right-color: var(--fill-color);\n",
              "      border-top-color: var(--fill-color);\n",
              "    }\n",
              "    60% {\n",
              "      border-color: transparent;\n",
              "      border-right-color: var(--fill-color);\n",
              "    }\n",
              "    80% {\n",
              "      border-color: transparent;\n",
              "      border-right-color: var(--fill-color);\n",
              "      border-bottom-color: var(--fill-color);\n",
              "    }\n",
              "    90% {\n",
              "      border-color: transparent;\n",
              "      border-bottom-color: var(--fill-color);\n",
              "    }\n",
              "  }\n",
              "</style>\n",
              "\n",
              "  <script>\n",
              "    async function quickchart(key) {\n",
              "      const quickchartButtonEl =\n",
              "        document.querySelector('#' + key + ' button');\n",
              "      quickchartButtonEl.disabled = true;  // To prevent multiple clicks.\n",
              "      quickchartButtonEl.classList.add('colab-df-spinner');\n",
              "      try {\n",
              "        const charts = await google.colab.kernel.invokeFunction(\n",
              "            'suggestCharts', [key], {});\n",
              "      } catch (error) {\n",
              "        console.error('Error during call to suggestCharts:', error);\n",
              "      }\n",
              "      quickchartButtonEl.classList.remove('colab-df-spinner');\n",
              "      quickchartButtonEl.classList.add('colab-df-quickchart-complete');\n",
              "    }\n",
              "    (() => {\n",
              "      let quickchartButtonEl =\n",
              "        document.querySelector('#df-cbd8d2de-85c4-4836-96c0-7ec1cf5b1e3c button');\n",
              "      quickchartButtonEl.style.display =\n",
              "        google.colab.kernel.accessAllowed ? 'block' : 'none';\n",
              "    })();\n",
              "  </script>\n",
              "</div>\n",
              "    </div>\n",
              "  </div>\n"
            ]
          },
          "metadata": {},
          "execution_count": 70
        }
      ]
    },
    {
      "cell_type": "code",
      "source": [
        "preprocessor = ColumnTransformer(\n",
        "    transformers=[\n",
        "        ('numeric_cols', num_pipeline, num_columns)\n",
        "    ],\n",
        "    remainder='drop'\n",
        ")\n",
        "\n",
        "target_processor = LabelEncoder()"
      ],
      "metadata": {
        "id": "l-QTnbVWAU9q"
      },
      "execution_count": 71,
      "outputs": []
    },
    {
      "cell_type": "markdown",
      "source": [
        "# Process the data"
      ],
      "metadata": {
        "id": "Dmr2qL_aBSq1"
      }
    },
    {
      "cell_type": "code",
      "source": [
        "X_train_processed = preprocessor.fit_transform(X_train)\n",
        "Y_train_processed = target_processor.fit_transform(Y_train.values.ravel())\n",
        "\n",
        "X_val_processed = preprocessor.transform(X_val)\n",
        "Y_val_processed = target_processor.transform(Y_val.values.ravel())\n",
        "\n",
        "X_trainval_processed = np.vstack([X_train_processed, X_val_processed])\n",
        "Y_trainval_processed = np.concatenate([Y_train_processed, Y_val_processed])\n",
        "\n",
        "X_test_processed = preprocessor.transform(X_test)\n",
        "Y_test_processed = target_processor.transform(Y_test.values.ravel())"
      ],
      "metadata": {
        "id": "97az5S2sB9nW"
      },
      "execution_count": 134,
      "outputs": []
    },
    {
      "cell_type": "markdown",
      "source": [
        "# Create the baseline"
      ],
      "metadata": {
        "id": "Q7_1L9-fEq0S"
      }
    },
    {
      "cell_type": "markdown",
      "source": [
        "## Random Forest Classifier"
      ],
      "metadata": {
        "id": "Dg933gzCG1lq"
      }
    },
    {
      "cell_type": "markdown",
      "source": [
        "### Build the model"
      ],
      "metadata": {
        "id": "G--c7vG6G6zK"
      }
    },
    {
      "cell_type": "code",
      "source": [
        "from sklearn.ensemble import RandomForestClassifier"
      ],
      "metadata": {
        "id": "70TgXFjrEr78"
      },
      "execution_count": 74,
      "outputs": []
    },
    {
      "cell_type": "code",
      "source": [
        "estimator = RandomForestClassifier()\n",
        "estimator.fit(X_train_processed, Y_train_processed)"
      ],
      "metadata": {
        "id": "Pc77ZX9eEulo",
        "outputId": "a83d6cd9-b218-4aae-91ca-f939c0fb9f49",
        "colab": {
          "base_uri": "https://localhost:8080/",
          "height": 0
        }
      },
      "execution_count": 75,
      "outputs": [
        {
          "output_type": "execute_result",
          "data": {
            "text/plain": [
              "RandomForestClassifier()"
            ],
            "text/html": [
              "<style>#sk-container-id-1 {color: black;background-color: white;}#sk-container-id-1 pre{padding: 0;}#sk-container-id-1 div.sk-toggleable {background-color: white;}#sk-container-id-1 label.sk-toggleable__label {cursor: pointer;display: block;width: 100%;margin-bottom: 0;padding: 0.3em;box-sizing: border-box;text-align: center;}#sk-container-id-1 label.sk-toggleable__label-arrow:before {content: \"▸\";float: left;margin-right: 0.25em;color: #696969;}#sk-container-id-1 label.sk-toggleable__label-arrow:hover:before {color: black;}#sk-container-id-1 div.sk-estimator:hover label.sk-toggleable__label-arrow:before {color: black;}#sk-container-id-1 div.sk-toggleable__content {max-height: 0;max-width: 0;overflow: hidden;text-align: left;background-color: #f0f8ff;}#sk-container-id-1 div.sk-toggleable__content pre {margin: 0.2em;color: black;border-radius: 0.25em;background-color: #f0f8ff;}#sk-container-id-1 input.sk-toggleable__control:checked~div.sk-toggleable__content {max-height: 200px;max-width: 100%;overflow: auto;}#sk-container-id-1 input.sk-toggleable__control:checked~label.sk-toggleable__label-arrow:before {content: \"▾\";}#sk-container-id-1 div.sk-estimator input.sk-toggleable__control:checked~label.sk-toggleable__label {background-color: #d4ebff;}#sk-container-id-1 div.sk-label input.sk-toggleable__control:checked~label.sk-toggleable__label {background-color: #d4ebff;}#sk-container-id-1 input.sk-hidden--visually {border: 0;clip: rect(1px 1px 1px 1px);clip: rect(1px, 1px, 1px, 1px);height: 1px;margin: -1px;overflow: hidden;padding: 0;position: absolute;width: 1px;}#sk-container-id-1 div.sk-estimator {font-family: monospace;background-color: #f0f8ff;border: 1px dotted black;border-radius: 0.25em;box-sizing: border-box;margin-bottom: 0.5em;}#sk-container-id-1 div.sk-estimator:hover {background-color: #d4ebff;}#sk-container-id-1 div.sk-parallel-item::after {content: \"\";width: 100%;border-bottom: 1px solid gray;flex-grow: 1;}#sk-container-id-1 div.sk-label:hover label.sk-toggleable__label {background-color: #d4ebff;}#sk-container-id-1 div.sk-serial::before {content: \"\";position: absolute;border-left: 1px solid gray;box-sizing: border-box;top: 0;bottom: 0;left: 50%;z-index: 0;}#sk-container-id-1 div.sk-serial {display: flex;flex-direction: column;align-items: center;background-color: white;padding-right: 0.2em;padding-left: 0.2em;position: relative;}#sk-container-id-1 div.sk-item {position: relative;z-index: 1;}#sk-container-id-1 div.sk-parallel {display: flex;align-items: stretch;justify-content: center;background-color: white;position: relative;}#sk-container-id-1 div.sk-item::before, #sk-container-id-1 div.sk-parallel-item::before {content: \"\";position: absolute;border-left: 1px solid gray;box-sizing: border-box;top: 0;bottom: 0;left: 50%;z-index: -1;}#sk-container-id-1 div.sk-parallel-item {display: flex;flex-direction: column;z-index: 1;position: relative;background-color: white;}#sk-container-id-1 div.sk-parallel-item:first-child::after {align-self: flex-end;width: 50%;}#sk-container-id-1 div.sk-parallel-item:last-child::after {align-self: flex-start;width: 50%;}#sk-container-id-1 div.sk-parallel-item:only-child::after {width: 0;}#sk-container-id-1 div.sk-dashed-wrapped {border: 1px dashed gray;margin: 0 0.4em 0.5em 0.4em;box-sizing: border-box;padding-bottom: 0.4em;background-color: white;}#sk-container-id-1 div.sk-label label {font-family: monospace;font-weight: bold;display: inline-block;line-height: 1.2em;}#sk-container-id-1 div.sk-label-container {text-align: center;}#sk-container-id-1 div.sk-container {/* jupyter's `normalize.less` sets `[hidden] { display: none; }` but bootstrap.min.css set `[hidden] { display: none !important; }` so we also need the `!important` here to be able to override the default hidden behavior on the sphinx rendered scikit-learn.org. See: https://github.com/scikit-learn/scikit-learn/issues/21755 */display: inline-block !important;position: relative;}#sk-container-id-1 div.sk-text-repr-fallback {display: none;}</style><div id=\"sk-container-id-1\" class=\"sk-top-container\"><div class=\"sk-text-repr-fallback\"><pre>RandomForestClassifier()</pre><b>In a Jupyter environment, please rerun this cell to show the HTML representation or trust the notebook. <br />On GitHub, the HTML representation is unable to render, please try loading this page with nbviewer.org.</b></div><div class=\"sk-container\" hidden><div class=\"sk-item\"><div class=\"sk-estimator sk-toggleable\"><input class=\"sk-toggleable__control sk-hidden--visually\" id=\"sk-estimator-id-1\" type=\"checkbox\" checked><label for=\"sk-estimator-id-1\" class=\"sk-toggleable__label sk-toggleable__label-arrow\">RandomForestClassifier</label><div class=\"sk-toggleable__content\"><pre>RandomForestClassifier()</pre></div></div></div></div></div>"
            ]
          },
          "metadata": {},
          "execution_count": 75
        }
      ]
    },
    {
      "cell_type": "code",
      "source": [
        "from sklearn.metrics import accuracy_score\n",
        "\n",
        "accuracy_score(\n",
        "    estimator.predict(X_val_processed),\n",
        "    Y_val_processed\n",
        ")"
      ],
      "metadata": {
        "id": "586IiOkUFRpB",
        "outputId": "9595ab4a-0036-4d15-c62f-a2c1b561aa91",
        "colab": {
          "base_uri": "https://localhost:8080/"
        }
      },
      "execution_count": 76,
      "outputs": [
        {
          "output_type": "execute_result",
          "data": {
            "text/plain": [
              "0.8823529411764706"
            ]
          },
          "metadata": {},
          "execution_count": 76
        }
      ]
    },
    {
      "cell_type": "markdown",
      "source": [
        "### Random search cv"
      ],
      "metadata": {
        "id": "FNAKXR9AG8_p"
      }
    },
    {
      "cell_type": "code",
      "source": [
        "from sklearn.model_selection import GridSearchCV\n",
        "\n",
        "RANDOM_STATE = 42\n",
        "\n",
        "estimator = GridSearchCV(\n",
        "    estimator=RandomForestClassifier(),\n",
        "    param_grid={\n",
        "        'n_estimators': [10, 50, 100, 200, 300],\n",
        "        'random_state': [RANDOM_STATE]\n",
        "    },\n",
        "    cv=4,\n",
        "    verbose=5,\n",
        ")"
      ],
      "metadata": {
        "id": "V05YkuPZG-9v"
      },
      "execution_count": 77,
      "outputs": []
    },
    {
      "cell_type": "code",
      "source": [
        "res = estimator.fit(\n",
        "    np.vstack([X_train_processed, X_val_processed]),\n",
        "    np.concatenate([Y_train_processed, Y_val_processed])\n",
        ")"
      ],
      "metadata": {
        "id": "17QPeY5cHUFz",
        "outputId": "fb1119ed-a889-4131-f35b-c53e28c266dc",
        "colab": {
          "base_uri": "https://localhost:8080/"
        }
      },
      "execution_count": 78,
      "outputs": [
        {
          "output_type": "stream",
          "name": "stdout",
          "text": [
            "Fitting 4 folds for each of 5 candidates, totalling 20 fits\n",
            "[CV 1/4] END ..n_estimators=10, random_state=42;, score=0.952 total time=   0.0s\n",
            "[CV 2/4] END ..n_estimators=10, random_state=42;, score=0.952 total time=   0.0s\n",
            "[CV 3/4] END ..n_estimators=10, random_state=42;, score=1.000 total time=   0.0s\n",
            "[CV 4/4] END ..n_estimators=10, random_state=42;, score=0.952 total time=   0.0s\n",
            "[CV 1/4] END ..n_estimators=50, random_state=42;, score=0.952 total time=   0.1s\n",
            "[CV 2/4] END ..n_estimators=50, random_state=42;, score=0.952 total time=   0.1s\n",
            "[CV 3/4] END ..n_estimators=50, random_state=42;, score=1.000 total time=   0.2s\n",
            "[CV 4/4] END ..n_estimators=50, random_state=42;, score=0.952 total time=   0.1s\n",
            "[CV 1/4] END .n_estimators=100, random_state=42;, score=0.952 total time=   0.3s\n",
            "[CV 2/4] END .n_estimators=100, random_state=42;, score=0.952 total time=   0.3s\n",
            "[CV 3/4] END .n_estimators=100, random_state=42;, score=1.000 total time=   0.3s\n",
            "[CV 4/4] END .n_estimators=100, random_state=42;, score=0.905 total time=   0.3s\n",
            "[CV 1/4] END .n_estimators=200, random_state=42;, score=0.952 total time=   0.6s\n",
            "[CV 2/4] END .n_estimators=200, random_state=42;, score=0.952 total time=   0.6s\n",
            "[CV 3/4] END .n_estimators=200, random_state=42;, score=1.000 total time=   0.4s\n",
            "[CV 4/4] END .n_estimators=200, random_state=42;, score=0.905 total time=   0.3s\n",
            "[CV 1/4] END .n_estimators=300, random_state=42;, score=0.952 total time=   0.5s\n",
            "[CV 2/4] END .n_estimators=300, random_state=42;, score=0.952 total time=   0.4s\n",
            "[CV 3/4] END .n_estimators=300, random_state=42;, score=1.000 total time=   0.5s\n",
            "[CV 4/4] END .n_estimators=300, random_state=42;, score=0.905 total time=   0.5s\n"
          ]
        }
      ]
    },
    {
      "cell_type": "code",
      "source": [
        "res.best_score_"
      ],
      "metadata": {
        "id": "agnqP_PhHqIw",
        "outputId": "43e3a7d9-f512-4a45-f842-a91b2ef913f4",
        "colab": {
          "base_uri": "https://localhost:8080/"
        }
      },
      "execution_count": 79,
      "outputs": [
        {
          "output_type": "execute_result",
          "data": {
            "text/plain": [
              "0.9642857142857142"
            ]
          },
          "metadata": {},
          "execution_count": 79
        }
      ]
    },
    {
      "cell_type": "markdown",
      "source": [
        "## SVM"
      ],
      "metadata": {
        "id": "84kCWRxzF_CF"
      }
    },
    {
      "cell_type": "markdown",
      "source": [
        "### Build the model"
      ],
      "metadata": {
        "id": "veELG4CkGDF1"
      }
    },
    {
      "cell_type": "code",
      "source": [
        "from sklearn.svm import SVC\n",
        "\n",
        "svc = SVC()\n",
        "svc.fit(\n",
        "    X_train_processed,\n",
        "    Y_train_processed\n",
        ")"
      ],
      "metadata": {
        "id": "988uU9oEGCvq",
        "outputId": "9b6184c7-becc-4c3b-ffd4-254732bc6564",
        "colab": {
          "base_uri": "https://localhost:8080/",
          "height": 0
        }
      },
      "execution_count": 81,
      "outputs": [
        {
          "output_type": "execute_result",
          "data": {
            "text/plain": [
              "SVC()"
            ],
            "text/html": [
              "<style>#sk-container-id-2 {color: black;background-color: white;}#sk-container-id-2 pre{padding: 0;}#sk-container-id-2 div.sk-toggleable {background-color: white;}#sk-container-id-2 label.sk-toggleable__label {cursor: pointer;display: block;width: 100%;margin-bottom: 0;padding: 0.3em;box-sizing: border-box;text-align: center;}#sk-container-id-2 label.sk-toggleable__label-arrow:before {content: \"▸\";float: left;margin-right: 0.25em;color: #696969;}#sk-container-id-2 label.sk-toggleable__label-arrow:hover:before {color: black;}#sk-container-id-2 div.sk-estimator:hover label.sk-toggleable__label-arrow:before {color: black;}#sk-container-id-2 div.sk-toggleable__content {max-height: 0;max-width: 0;overflow: hidden;text-align: left;background-color: #f0f8ff;}#sk-container-id-2 div.sk-toggleable__content pre {margin: 0.2em;color: black;border-radius: 0.25em;background-color: #f0f8ff;}#sk-container-id-2 input.sk-toggleable__control:checked~div.sk-toggleable__content {max-height: 200px;max-width: 100%;overflow: auto;}#sk-container-id-2 input.sk-toggleable__control:checked~label.sk-toggleable__label-arrow:before {content: \"▾\";}#sk-container-id-2 div.sk-estimator input.sk-toggleable__control:checked~label.sk-toggleable__label {background-color: #d4ebff;}#sk-container-id-2 div.sk-label input.sk-toggleable__control:checked~label.sk-toggleable__label {background-color: #d4ebff;}#sk-container-id-2 input.sk-hidden--visually {border: 0;clip: rect(1px 1px 1px 1px);clip: rect(1px, 1px, 1px, 1px);height: 1px;margin: -1px;overflow: hidden;padding: 0;position: absolute;width: 1px;}#sk-container-id-2 div.sk-estimator {font-family: monospace;background-color: #f0f8ff;border: 1px dotted black;border-radius: 0.25em;box-sizing: border-box;margin-bottom: 0.5em;}#sk-container-id-2 div.sk-estimator:hover {background-color: #d4ebff;}#sk-container-id-2 div.sk-parallel-item::after {content: \"\";width: 100%;border-bottom: 1px solid gray;flex-grow: 1;}#sk-container-id-2 div.sk-label:hover label.sk-toggleable__label {background-color: #d4ebff;}#sk-container-id-2 div.sk-serial::before {content: \"\";position: absolute;border-left: 1px solid gray;box-sizing: border-box;top: 0;bottom: 0;left: 50%;z-index: 0;}#sk-container-id-2 div.sk-serial {display: flex;flex-direction: column;align-items: center;background-color: white;padding-right: 0.2em;padding-left: 0.2em;position: relative;}#sk-container-id-2 div.sk-item {position: relative;z-index: 1;}#sk-container-id-2 div.sk-parallel {display: flex;align-items: stretch;justify-content: center;background-color: white;position: relative;}#sk-container-id-2 div.sk-item::before, #sk-container-id-2 div.sk-parallel-item::before {content: \"\";position: absolute;border-left: 1px solid gray;box-sizing: border-box;top: 0;bottom: 0;left: 50%;z-index: -1;}#sk-container-id-2 div.sk-parallel-item {display: flex;flex-direction: column;z-index: 1;position: relative;background-color: white;}#sk-container-id-2 div.sk-parallel-item:first-child::after {align-self: flex-end;width: 50%;}#sk-container-id-2 div.sk-parallel-item:last-child::after {align-self: flex-start;width: 50%;}#sk-container-id-2 div.sk-parallel-item:only-child::after {width: 0;}#sk-container-id-2 div.sk-dashed-wrapped {border: 1px dashed gray;margin: 0 0.4em 0.5em 0.4em;box-sizing: border-box;padding-bottom: 0.4em;background-color: white;}#sk-container-id-2 div.sk-label label {font-family: monospace;font-weight: bold;display: inline-block;line-height: 1.2em;}#sk-container-id-2 div.sk-label-container {text-align: center;}#sk-container-id-2 div.sk-container {/* jupyter's `normalize.less` sets `[hidden] { display: none; }` but bootstrap.min.css set `[hidden] { display: none !important; }` so we also need the `!important` here to be able to override the default hidden behavior on the sphinx rendered scikit-learn.org. See: https://github.com/scikit-learn/scikit-learn/issues/21755 */display: inline-block !important;position: relative;}#sk-container-id-2 div.sk-text-repr-fallback {display: none;}</style><div id=\"sk-container-id-2\" class=\"sk-top-container\"><div class=\"sk-text-repr-fallback\"><pre>SVC()</pre><b>In a Jupyter environment, please rerun this cell to show the HTML representation or trust the notebook. <br />On GitHub, the HTML representation is unable to render, please try loading this page with nbviewer.org.</b></div><div class=\"sk-container\" hidden><div class=\"sk-item\"><div class=\"sk-estimator sk-toggleable\"><input class=\"sk-toggleable__control sk-hidden--visually\" id=\"sk-estimator-id-2\" type=\"checkbox\" checked><label for=\"sk-estimator-id-2\" class=\"sk-toggleable__label sk-toggleable__label-arrow\">SVC</label><div class=\"sk-toggleable__content\"><pre>SVC()</pre></div></div></div></div></div>"
            ]
          },
          "metadata": {},
          "execution_count": 81
        }
      ]
    },
    {
      "cell_type": "code",
      "source": [
        "from sklearn.metrics import accuracy_score\n",
        "\n",
        "accuracy_score(\n",
        "    svc.predict(X_val_processed),\n",
        "    Y_val_processed\n",
        ")"
      ],
      "metadata": {
        "id": "O3QY4Ip3GNLM",
        "outputId": "b1d074ea-b05a-4c8b-8468-a298bb7c593b",
        "colab": {
          "base_uri": "https://localhost:8080/"
        }
      },
      "execution_count": 82,
      "outputs": [
        {
          "output_type": "execute_result",
          "data": {
            "text/plain": [
              "0.9411764705882353"
            ]
          },
          "metadata": {},
          "execution_count": 82
        }
      ]
    },
    {
      "cell_type": "markdown",
      "source": [
        "### RandomSearchCV"
      ],
      "metadata": {
        "id": "yPMA6oa5GUPa"
      }
    },
    {
      "cell_type": "code",
      "source": [
        "from sklearn.model_selection import GridSearchCV\n",
        "from sklearn.model_selection import RandomizedSearchCV\n",
        "from sklearn.svm import SVC\n",
        "\n",
        "RANDOM_STATE = 42\n",
        "\n",
        "svc_gridsearch = RandomizedSearchCV(\n",
        "    estimator=SVC(),\n",
        "    param_distributions={\n",
        "        'C': np.linspace(0.01, 1.0, num=int((1.0 - 0.01) / 0.03)),\n",
        "        'kernel': ['linear', 'poly', 'rbf', 'sigmoid'],\n",
        "        'degree': [2, 3, 4, 5],\n",
        "        'gamma': ['scale', 'auto'],\n",
        "        'random_state': np.arange(1, 100)\n",
        "    },\n",
        "    verbose=3,\n",
        "    scoring='accuracy',\n",
        "    cv=3,\n",
        "    random_state=RANDOM_STATE,\n",
        "    n_iter=100\n",
        ")"
      ],
      "metadata": {
        "id": "3MMdLZGxGW8s"
      },
      "execution_count": 95,
      "outputs": []
    },
    {
      "cell_type": "code",
      "source": [
        "svc_random_search_res = svc_gridsearch.fit(\n",
        "    np.vstack([X_train_processed, X_val_processed]),\n",
        "    np.concatenate([Y_train_processed, Y_val_processed])\n",
        ")"
      ],
      "metadata": {
        "id": "_q3ccP-FH_Rx",
        "outputId": "c7183a12-0b92-46f7-fa99-02ee0577439c",
        "colab": {
          "base_uri": "https://localhost:8080/"
        }
      },
      "execution_count": 96,
      "outputs": [
        {
          "output_type": "stream",
          "name": "stdout",
          "text": [
            "Fitting 3 folds for each of 100 candidates, totalling 300 fits\n",
            "[CV 1/3] END C=0.13375, degree=5, gamma=auto, kernel=sigmoid, random_state=55;, score=0.893 total time=   0.0s\n",
            "[CV 2/3] END C=0.13375, degree=5, gamma=auto, kernel=sigmoid, random_state=55;, score=0.964 total time=   0.0s\n",
            "[CV 3/3] END C=0.13375, degree=5, gamma=auto, kernel=sigmoid, random_state=55;, score=0.786 total time=   0.0s\n",
            "[CV 1/3] END C=0.01, degree=3, gamma=scale, kernel=linear, random_state=69;, score=0.893 total time=   0.0s\n",
            "[CV 2/3] END C=0.01, degree=3, gamma=scale, kernel=linear, random_state=69;, score=0.643 total time=   0.0s\n",
            "[CV 3/3] END C=0.01, degree=3, gamma=scale, kernel=linear, random_state=69;, score=0.786 total time=   0.0s\n",
            "[CV 1/3] END C=1.0, degree=4, gamma=auto, kernel=sigmoid, random_state=42;, score=0.857 total time=   0.0s\n",
            "[CV 2/3] END C=1.0, degree=4, gamma=auto, kernel=sigmoid, random_state=42;, score=0.964 total time=   0.0s\n",
            "[CV 3/3] END C=1.0, degree=4, gamma=auto, kernel=sigmoid, random_state=42;, score=0.786 total time=   0.0s\n",
            "[CV 1/3] END C=0.7525, degree=2, gamma=auto, kernel=sigmoid, random_state=96;, score=0.857 total time=   0.0s\n",
            "[CV 2/3] END C=0.7525, degree=2, gamma=auto, kernel=sigmoid, random_state=96;, score=0.964 total time=   0.0s\n",
            "[CV 3/3] END C=0.7525, degree=2, gamma=auto, kernel=sigmoid, random_state=96;, score=0.786 total time=   0.0s\n",
            "[CV 1/3] END C=0.5359375, degree=3, gamma=scale, kernel=rbf, random_state=41;, score=0.929 total time=   0.0s\n",
            "[CV 2/3] END C=0.5359375, degree=3, gamma=scale, kernel=rbf, random_state=41;, score=1.000 total time=   0.0s\n",
            "[CV 3/3] END C=0.5359375, degree=3, gamma=scale, kernel=rbf, random_state=41;, score=0.821 total time=   0.0s\n",
            "[CV 1/3] END C=0.0409375, degree=5, gamma=auto, kernel=sigmoid, random_state=29;, score=0.893 total time=   0.0s\n",
            "[CV 2/3] END C=0.0409375, degree=5, gamma=auto, kernel=sigmoid, random_state=29;, score=0.643 total time=   0.0s\n",
            "[CV 3/3] END C=0.0409375, degree=5, gamma=auto, kernel=sigmoid, random_state=29;, score=0.679 total time=   0.0s\n",
            "[CV 1/3] END C=0.814375, degree=2, gamma=scale, kernel=linear, random_state=19;, score=0.929 total time=   0.0s\n",
            "[CV 2/3] END C=0.814375, degree=2, gamma=scale, kernel=linear, random_state=19;, score=1.000 total time=   0.0s\n",
            "[CV 3/3] END C=0.814375, degree=2, gamma=scale, kernel=linear, random_state=19;, score=0.964 total time=   0.0s\n",
            "[CV 1/3] END C=0.3503125, degree=4, gamma=auto, kernel=sigmoid, random_state=70;, score=0.857 total time=   0.0s\n",
            "[CV 2/3] END C=0.3503125, degree=4, gamma=auto, kernel=sigmoid, random_state=70;, score=0.964 total time=   0.0s\n",
            "[CV 3/3] END C=0.3503125, degree=4, gamma=auto, kernel=sigmoid, random_state=70;, score=0.786 total time=   0.0s\n",
            "[CV 1/3] END C=0.8453125, degree=4, gamma=scale, kernel=sigmoid, random_state=82;, score=0.893 total time=   0.0s\n",
            "[CV 2/3] END C=0.8453125, degree=4, gamma=scale, kernel=sigmoid, random_state=82;, score=0.964 total time=   0.0s\n",
            "[CV 3/3] END C=0.8453125, degree=4, gamma=scale, kernel=sigmoid, random_state=82;, score=0.786 total time=   0.0s\n",
            "[CV 1/3] END C=0.4121875, degree=5, gamma=auto, kernel=poly, random_state=77;, score=0.750 total time=   0.0s\n",
            "[CV 2/3] END C=0.4121875, degree=5, gamma=auto, kernel=poly, random_state=77;, score=0.929 total time=   0.0s\n",
            "[CV 3/3] END C=0.4121875, degree=5, gamma=auto, kernel=poly, random_state=77;, score=0.786 total time=   0.0s\n",
            "[CV 1/3] END C=0.5978125, degree=2, gamma=scale, kernel=linear, random_state=72;, score=0.929 total time=   0.0s\n",
            "[CV 2/3] END C=0.5978125, degree=2, gamma=scale, kernel=linear, random_state=72;, score=1.000 total time=   0.0s\n",
            "[CV 3/3] END C=0.5978125, degree=2, gamma=scale, kernel=linear, random_state=72;, score=0.964 total time=   0.0s\n",
            "[CV 1/3] END C=0.16468750000000001, degree=2, gamma=scale, kernel=poly, random_state=85;, score=0.571 total time=   0.0s\n",
            "[CV 2/3] END C=0.16468750000000001, degree=2, gamma=scale, kernel=poly, random_state=85;, score=0.750 total time=   0.0s\n",
            "[CV 3/3] END C=0.16468750000000001, degree=2, gamma=scale, kernel=poly, random_state=85;, score=0.714 total time=   0.0s\n",
            "[CV 1/3] END C=0.38125, degree=5, gamma=auto, kernel=sigmoid, random_state=6;, score=0.857 total time=   0.0s\n",
            "[CV 2/3] END C=0.38125, degree=5, gamma=auto, kernel=sigmoid, random_state=6;, score=0.964 total time=   0.0s\n",
            "[CV 3/3] END C=0.38125, degree=5, gamma=auto, kernel=sigmoid, random_state=6;, score=0.786 total time=   0.0s\n",
            "[CV 1/3] END C=0.6596875, degree=2, gamma=auto, kernel=sigmoid, random_state=1;, score=0.857 total time=   0.0s\n",
            "[CV 2/3] END C=0.6596875, degree=2, gamma=auto, kernel=sigmoid, random_state=1;, score=0.964 total time=   0.0s\n",
            "[CV 3/3] END C=0.6596875, degree=2, gamma=auto, kernel=sigmoid, random_state=1;, score=0.786 total time=   0.0s\n",
            "[CV 1/3] END C=0.62875, degree=3, gamma=auto, kernel=rbf, random_state=75;, score=0.964 total time=   0.0s\n",
            "[CV 2/3] END C=0.62875, degree=3, gamma=auto, kernel=rbf, random_state=75;, score=0.964 total time=   0.0s\n",
            "[CV 3/3] END C=0.62875, degree=3, gamma=auto, kernel=rbf, random_state=75;, score=0.821 total time=   0.0s\n",
            "[CV 1/3] END C=0.01, degree=2, gamma=auto, kernel=sigmoid, random_state=77;, score=0.536 total time=   0.0s\n",
            "[CV 2/3] END C=0.01, degree=2, gamma=auto, kernel=sigmoid, random_state=77;, score=0.643 total time=   0.0s\n",
            "[CV 3/3] END C=0.01, degree=2, gamma=auto, kernel=sigmoid, random_state=77;, score=0.643 total time=   0.0s\n",
            "[CV 1/3] END C=0.566875, degree=5, gamma=scale, kernel=sigmoid, random_state=39;, score=0.857 total time=   0.0s\n",
            "[CV 2/3] END C=0.566875, degree=5, gamma=scale, kernel=sigmoid, random_state=39;, score=0.964 total time=   0.0s\n",
            "[CV 3/3] END C=0.566875, degree=5, gamma=scale, kernel=sigmoid, random_state=39;, score=0.786 total time=   0.0s\n",
            "[CV 1/3] END C=0.5978125, degree=5, gamma=scale, kernel=sigmoid, random_state=91;, score=0.857 total time=   0.0s\n",
            "[CV 2/3] END C=0.5978125, degree=5, gamma=scale, kernel=sigmoid, random_state=91;, score=0.964 total time=   0.0s\n",
            "[CV 3/3] END C=0.5978125, degree=5, gamma=scale, kernel=sigmoid, random_state=91;, score=0.786 total time=   0.0s\n",
            "[CV 1/3] END C=0.62875, degree=3, gamma=auto, kernel=sigmoid, random_state=81;, score=0.857 total time=   0.0s\n",
            "[CV 2/3] END C=0.62875, degree=3, gamma=auto, kernel=sigmoid, random_state=81;, score=0.964 total time=   0.0s\n",
            "[CV 3/3] END C=0.62875, degree=3, gamma=auto, kernel=sigmoid, random_state=81;, score=0.786 total time=   0.0s\n",
            "[CV 1/3] END C=0.6596875, degree=3, gamma=auto, kernel=rbf, random_state=56;, score=0.964 total time=   0.0s\n",
            "[CV 2/3] END C=0.6596875, degree=3, gamma=auto, kernel=rbf, random_state=56;, score=0.964 total time=   0.0s\n",
            "[CV 3/3] END C=0.6596875, degree=3, gamma=auto, kernel=rbf, random_state=56;, score=0.821 total time=   0.0s\n",
            "[CV 1/3] END C=0.0409375, degree=4, gamma=auto, kernel=poly, random_state=65;, score=0.571 total time=   0.0s\n",
            "[CV 2/3] END C=0.0409375, degree=4, gamma=auto, kernel=poly, random_state=65;, score=0.714 total time=   0.0s\n",
            "[CV 3/3] END C=0.0409375, degree=4, gamma=auto, kernel=poly, random_state=65;, score=0.536 total time=   0.0s\n",
            "[CV 1/3] END C=1.0, degree=4, gamma=scale, kernel=sigmoid, random_state=99;, score=0.857 total time=   0.0s\n",
            "[CV 2/3] END C=1.0, degree=4, gamma=scale, kernel=sigmoid, random_state=99;, score=0.964 total time=   0.0s\n",
            "[CV 3/3] END C=1.0, degree=4, gamma=scale, kernel=sigmoid, random_state=99;, score=0.786 total time=   0.0s\n",
            "[CV 1/3] END C=0.814375, degree=2, gamma=auto, kernel=sigmoid, random_state=44;, score=0.857 total time=   0.0s\n",
            "[CV 2/3] END C=0.814375, degree=2, gamma=auto, kernel=sigmoid, random_state=44;, score=0.964 total time=   0.0s\n",
            "[CV 3/3] END C=0.814375, degree=2, gamma=auto, kernel=sigmoid, random_state=44;, score=0.786 total time=   0.0s\n",
            "[CV 1/3] END C=0.505, degree=5, gamma=auto, kernel=rbf, random_state=50;, score=0.929 total time=   0.0s\n",
            "[CV 2/3] END C=0.505, degree=5, gamma=auto, kernel=rbf, random_state=50;, score=0.964 total time=   0.0s\n",
            "[CV 3/3] END C=0.505, degree=5, gamma=auto, kernel=rbf, random_state=50;, score=0.821 total time=   0.0s\n",
            "[CV 1/3] END C=0.814375, degree=5, gamma=auto, kernel=poly, random_state=67;, score=0.750 total time=   0.0s\n",
            "[CV 2/3] END C=0.814375, degree=5, gamma=auto, kernel=poly, random_state=67;, score=0.929 total time=   0.0s\n",
            "[CV 3/3] END C=0.814375, degree=5, gamma=auto, kernel=poly, random_state=67;, score=0.786 total time=   0.0s\n",
            "[CV 1/3] END C=0.2884375, degree=2, gamma=scale, kernel=poly, random_state=83;, score=0.714 total time=   0.0s\n",
            "[CV 2/3] END C=0.2884375, degree=2, gamma=scale, kernel=poly, random_state=83;, score=0.857 total time=   0.0s\n",
            "[CV 3/3] END C=0.2884375, degree=2, gamma=scale, kernel=poly, random_state=83;, score=0.786 total time=   0.0s\n",
            "[CV 1/3] END C=0.690625, degree=4, gamma=auto, kernel=rbf, random_state=59;, score=0.929 total time=   0.0s\n",
            "[CV 2/3] END C=0.690625, degree=4, gamma=auto, kernel=rbf, random_state=59;, score=0.964 total time=   0.0s\n",
            "[CV 3/3] END C=0.690625, degree=4, gamma=auto, kernel=rbf, random_state=59;, score=0.821 total time=   0.0s\n",
            "[CV 1/3] END C=0.9071875, degree=3, gamma=scale, kernel=sigmoid, random_state=56;, score=0.857 total time=   0.0s\n",
            "[CV 2/3] END C=0.9071875, degree=3, gamma=scale, kernel=sigmoid, random_state=56;, score=0.964 total time=   0.0s\n",
            "[CV 3/3] END C=0.9071875, degree=3, gamma=scale, kernel=sigmoid, random_state=56;, score=0.786 total time=   0.0s\n",
            "[CV 1/3] END C=0.2575, degree=2, gamma=scale, kernel=sigmoid, random_state=18;, score=0.893 total time=   0.0s\n",
            "[CV 2/3] END C=0.2575, degree=2, gamma=scale, kernel=sigmoid, random_state=18;, score=0.964 total time=   0.0s\n",
            "[CV 3/3] END C=0.2575, degree=2, gamma=scale, kernel=sigmoid, random_state=18;, score=0.786 total time=   0.0s\n",
            "[CV 1/3] END C=0.814375, degree=4, gamma=auto, kernel=poly, random_state=32;, score=0.750 total time=   0.0s\n",
            "[CV 2/3] END C=0.814375, degree=4, gamma=auto, kernel=poly, random_state=32;, score=0.786 total time=   0.0s\n",
            "[CV 3/3] END C=0.814375, degree=4, gamma=auto, kernel=poly, random_state=32;, score=0.714 total time=   0.0s\n",
            "[CV 1/3] END C=0.16468750000000001, degree=5, gamma=scale, kernel=rbf, random_state=18;, score=0.857 total time=   0.0s\n",
            "[CV 2/3] END C=0.16468750000000001, degree=5, gamma=scale, kernel=rbf, random_state=18;, score=0.964 total time=   0.0s\n",
            "[CV 3/3] END C=0.16468750000000001, degree=5, gamma=scale, kernel=rbf, random_state=18;, score=0.786 total time=   0.0s\n",
            "[CV 1/3] END C=0.01, degree=5, gamma=scale, kernel=sigmoid, random_state=75;, score=0.536 total time=   0.0s\n",
            "[CV 2/3] END C=0.01, degree=5, gamma=scale, kernel=sigmoid, random_state=75;, score=0.643 total time=   0.0s\n",
            "[CV 3/3] END C=0.01, degree=5, gamma=scale, kernel=sigmoid, random_state=75;, score=0.643 total time=   0.0s\n",
            "[CV 1/3] END C=0.566875, degree=4, gamma=auto, kernel=poly, random_state=48;, score=0.571 total time=   0.0s\n",
            "[CV 2/3] END C=0.566875, degree=4, gamma=auto, kernel=poly, random_state=48;, score=0.857 total time=   0.0s\n",
            "[CV 3/3] END C=0.566875, degree=4, gamma=auto, kernel=poly, random_state=48;, score=0.714 total time=   0.0s\n",
            "[CV 1/3] END C=0.62875, degree=4, gamma=auto, kernel=sigmoid, random_state=89;, score=0.857 total time=   0.0s\n",
            "[CV 2/3] END C=0.62875, degree=4, gamma=auto, kernel=sigmoid, random_state=89;, score=0.964 total time=   0.0s\n",
            "[CV 3/3] END C=0.62875, degree=4, gamma=auto, kernel=sigmoid, random_state=89;, score=0.786 total time=   0.0s\n",
            "[CV 1/3] END C=0.814375, degree=4, gamma=auto, kernel=sigmoid, random_state=10;, score=0.857 total time=   0.0s\n",
            "[CV 2/3] END C=0.814375, degree=4, gamma=auto, kernel=sigmoid, random_state=10;, score=0.964 total time=   0.0s\n",
            "[CV 3/3] END C=0.814375, degree=4, gamma=auto, kernel=sigmoid, random_state=10;, score=0.786 total time=   0.0s\n",
            "[CV 1/3] END C=0.3503125, degree=3, gamma=scale, kernel=poly, random_state=35;, score=0.893 total time=   0.0s\n",
            "[CV 2/3] END C=0.3503125, degree=3, gamma=scale, kernel=poly, random_state=35;, score=0.929 total time=   0.0s\n",
            "[CV 3/3] END C=0.3503125, degree=3, gamma=scale, kernel=poly, random_state=35;, score=0.857 total time=   0.0s\n",
            "[CV 1/3] END C=0.6596875, degree=3, gamma=scale, kernel=poly, random_state=17;, score=0.893 total time=   0.0s\n",
            "[CV 2/3] END C=0.6596875, degree=3, gamma=scale, kernel=poly, random_state=17;, score=0.929 total time=   0.0s\n",
            "[CV 3/3] END C=0.6596875, degree=3, gamma=scale, kernel=poly, random_state=17;, score=0.893 total time=   0.0s\n",
            "[CV 1/3] END C=0.5359375, degree=5, gamma=auto, kernel=rbf, random_state=61;, score=0.929 total time=   0.0s\n",
            "[CV 2/3] END C=0.5359375, degree=5, gamma=auto, kernel=rbf, random_state=61;, score=1.000 total time=   0.0s\n",
            "[CV 3/3] END C=0.5359375, degree=5, gamma=auto, kernel=rbf, random_state=61;, score=0.821 total time=   0.0s\n",
            "[CV 1/3] END C=0.6596875, degree=2, gamma=scale, kernel=rbf, random_state=78;, score=0.929 total time=   0.0s\n",
            "[CV 2/3] END C=0.6596875, degree=2, gamma=scale, kernel=rbf, random_state=78;, score=0.964 total time=   0.0s\n",
            "[CV 3/3] END C=0.6596875, degree=2, gamma=scale, kernel=rbf, random_state=78;, score=0.821 total time=   0.0s\n",
            "[CV 1/3] END C=0.2884375, degree=5, gamma=auto, kernel=rbf, random_state=70;, score=0.929 total time=   0.0s\n",
            "[CV 2/3] END C=0.2884375, degree=5, gamma=auto, kernel=rbf, random_state=70;, score=1.000 total time=   0.0s\n",
            "[CV 3/3] END C=0.2884375, degree=5, gamma=auto, kernel=rbf, random_state=70;, score=0.821 total time=   0.0s\n",
            "[CV 1/3] END C=0.10281249999999999, degree=4, gamma=scale, kernel=sigmoid, random_state=10;, score=0.893 total time=   0.0s\n",
            "[CV 2/3] END C=0.10281249999999999, degree=4, gamma=scale, kernel=sigmoid, random_state=10;, score=0.857 total time=   0.0s\n",
            "[CV 3/3] END C=0.10281249999999999, degree=4, gamma=scale, kernel=sigmoid, random_state=10;, score=0.786 total time=   0.0s\n",
            "[CV 1/3] END C=0.6596875, degree=5, gamma=scale, kernel=poly, random_state=90;, score=0.750 total time=   0.0s\n",
            "[CV 2/3] END C=0.6596875, degree=5, gamma=scale, kernel=poly, random_state=90;, score=0.929 total time=   0.0s\n",
            "[CV 3/3] END C=0.6596875, degree=5, gamma=scale, kernel=poly, random_state=90;, score=0.786 total time=   0.0s\n",
            "[CV 1/3] END C=0.0409375, degree=2, gamma=auto, kernel=sigmoid, random_state=30;, score=0.893 total time=   0.0s\n",
            "[CV 2/3] END C=0.0409375, degree=2, gamma=auto, kernel=sigmoid, random_state=30;, score=0.643 total time=   0.0s\n",
            "[CV 3/3] END C=0.0409375, degree=2, gamma=auto, kernel=sigmoid, random_state=30;, score=0.679 total time=   0.0s\n",
            "[CV 1/3] END C=0.4121875, degree=2, gamma=auto, kernel=linear, random_state=27;, score=0.929 total time=   0.0s\n",
            "[CV 2/3] END C=0.4121875, degree=2, gamma=auto, kernel=linear, random_state=27;, score=1.000 total time=   0.0s\n",
            "[CV 3/3] END C=0.4121875, degree=2, gamma=auto, kernel=linear, random_state=27;, score=0.929 total time=   0.0s\n",
            "[CV 1/3] END C=0.938125, degree=3, gamma=auto, kernel=linear, random_state=49;, score=0.929 total time=   0.0s\n",
            "[CV 2/3] END C=0.938125, degree=3, gamma=auto, kernel=linear, random_state=49;, score=1.000 total time=   0.0s\n",
            "[CV 3/3] END C=0.938125, degree=3, gamma=auto, kernel=linear, random_state=49;, score=0.964 total time=   0.0s\n",
            "[CV 1/3] END C=0.7834375, degree=3, gamma=scale, kernel=linear, random_state=47;, score=0.929 total time=   0.0s\n",
            "[CV 2/3] END C=0.7834375, degree=3, gamma=scale, kernel=linear, random_state=47;, score=1.000 total time=   0.0s\n",
            "[CV 3/3] END C=0.7834375, degree=3, gamma=scale, kernel=linear, random_state=47;, score=0.964 total time=   0.0s\n",
            "[CV 1/3] END C=0.8453125, degree=4, gamma=scale, kernel=poly, random_state=95;, score=0.679 total time=   0.0s\n",
            "[CV 2/3] END C=0.8453125, degree=4, gamma=scale, kernel=poly, random_state=95;, score=0.786 total time=   0.0s\n",
            "[CV 3/3] END C=0.8453125, degree=4, gamma=scale, kernel=poly, random_state=95;, score=0.786 total time=   0.0s\n",
            "[CV 1/3] END C=0.10281249999999999, degree=3, gamma=scale, kernel=sigmoid, random_state=35;, score=0.893 total time=   0.0s\n",
            "[CV 2/3] END C=0.10281249999999999, degree=3, gamma=scale, kernel=sigmoid, random_state=35;, score=0.857 total time=   0.0s\n",
            "[CV 3/3] END C=0.10281249999999999, degree=3, gamma=scale, kernel=sigmoid, random_state=35;, score=0.786 total time=   0.0s\n",
            "[CV 1/3] END C=0.071875, degree=5, gamma=scale, kernel=linear, random_state=81;, score=0.893 total time=   0.0s\n",
            "[CV 2/3] END C=0.071875, degree=5, gamma=scale, kernel=linear, random_state=81;, score=0.964 total time=   0.0s\n",
            "[CV 3/3] END C=0.071875, degree=5, gamma=scale, kernel=linear, random_state=81;, score=0.821 total time=   0.0s\n",
            "[CV 1/3] END C=0.7215625, degree=3, gamma=scale, kernel=sigmoid, random_state=17;, score=0.857 total time=   0.0s\n",
            "[CV 2/3] END C=0.7215625, degree=3, gamma=scale, kernel=sigmoid, random_state=17;, score=0.964 total time=   0.0s\n",
            "[CV 3/3] END C=0.7215625, degree=3, gamma=scale, kernel=sigmoid, random_state=17;, score=0.786 total time=   0.0s\n",
            "[CV 1/3] END C=0.4121875, degree=4, gamma=scale, kernel=rbf, random_state=36;, score=0.929 total time=   0.0s\n",
            "[CV 2/3] END C=0.4121875, degree=4, gamma=scale, kernel=rbf, random_state=36;, score=1.000 total time=   0.0s\n",
            "[CV 3/3] END C=0.4121875, degree=4, gamma=scale, kernel=rbf, random_state=36;, score=0.821 total time=   0.0s\n",
            "[CV 1/3] END C=0.7525, degree=2, gamma=auto, kernel=poly, random_state=26;, score=0.679 total time=   0.0s\n",
            "[CV 2/3] END C=0.7525, degree=2, gamma=auto, kernel=poly, random_state=26;, score=0.857 total time=   0.0s\n",
            "[CV 3/3] END C=0.7525, degree=2, gamma=auto, kernel=poly, random_state=26;, score=0.786 total time=   0.0s\n",
            "[CV 1/3] END C=0.2265625, degree=4, gamma=scale, kernel=poly, random_state=39;, score=0.536 total time=   0.0s\n",
            "[CV 2/3] END C=0.2265625, degree=4, gamma=scale, kernel=poly, random_state=39;, score=0.786 total time=   0.0s\n",
            "[CV 3/3] END C=0.2265625, degree=4, gamma=scale, kernel=poly, random_state=39;, score=0.643 total time=   0.0s\n",
            "[CV 1/3] END C=0.6596875, degree=4, gamma=scale, kernel=linear, random_state=37;, score=0.929 total time=   0.0s\n",
            "[CV 2/3] END C=0.6596875, degree=4, gamma=scale, kernel=linear, random_state=37;, score=1.000 total time=   0.0s\n",
            "[CV 3/3] END C=0.6596875, degree=4, gamma=scale, kernel=linear, random_state=37;, score=0.964 total time=   0.0s\n",
            "[CV 1/3] END C=0.2265625, degree=3, gamma=auto, kernel=poly, random_state=21;, score=0.821 total time=   0.0s\n",
            "[CV 2/3] END C=0.2265625, degree=3, gamma=auto, kernel=poly, random_state=21;, score=0.929 total time=   0.0s\n",
            "[CV 3/3] END C=0.2265625, degree=3, gamma=auto, kernel=poly, random_state=21;, score=0.857 total time=   0.0s\n",
            "[CV 1/3] END C=0.4740625, degree=3, gamma=scale, kernel=rbf, random_state=46;, score=0.964 total time=   0.0s\n",
            "[CV 2/3] END C=0.4740625, degree=3, gamma=scale, kernel=rbf, random_state=46;, score=0.964 total time=   0.0s\n",
            "[CV 3/3] END C=0.4740625, degree=3, gamma=scale, kernel=rbf, random_state=46;, score=0.821 total time=   0.0s\n",
            "[CV 1/3] END C=0.16468750000000001, degree=3, gamma=auto, kernel=poly, random_state=33;, score=0.786 total time=   0.0s\n",
            "[CV 2/3] END C=0.16468750000000001, degree=3, gamma=auto, kernel=poly, random_state=33;, score=0.857 total time=   0.0s\n",
            "[CV 3/3] END C=0.16468750000000001, degree=3, gamma=auto, kernel=poly, random_state=33;, score=0.786 total time=   0.0s\n",
            "[CV 1/3] END C=0.7834375, degree=3, gamma=scale, kernel=linear, random_state=86;, score=0.929 total time=   0.0s\n",
            "[CV 2/3] END C=0.7834375, degree=3, gamma=scale, kernel=linear, random_state=86;, score=1.000 total time=   0.0s\n",
            "[CV 3/3] END C=0.7834375, degree=3, gamma=scale, kernel=linear, random_state=86;, score=0.964 total time=   0.0s\n",
            "[CV 1/3] END C=0.3503125, degree=3, gamma=scale, kernel=rbf, random_state=83;, score=0.893 total time=   0.0s\n",
            "[CV 2/3] END C=0.3503125, degree=3, gamma=scale, kernel=rbf, random_state=83;, score=1.000 total time=   0.0s\n",
            "[CV 3/3] END C=0.3503125, degree=3, gamma=scale, kernel=rbf, random_state=83;, score=0.821 total time=   0.0s\n",
            "[CV 1/3] END C=0.9071875, degree=2, gamma=scale, kernel=poly, random_state=97;, score=0.714 total time=   0.0s\n",
            "[CV 2/3] END C=0.9071875, degree=2, gamma=scale, kernel=poly, random_state=97;, score=0.821 total time=   0.0s\n",
            "[CV 3/3] END C=0.9071875, degree=2, gamma=scale, kernel=poly, random_state=97;, score=0.750 total time=   0.0s\n",
            "[CV 1/3] END C=0.6596875, degree=2, gamma=auto, kernel=poly, random_state=99;, score=0.714 total time=   0.0s\n",
            "[CV 2/3] END C=0.6596875, degree=2, gamma=auto, kernel=poly, random_state=99;, score=0.857 total time=   0.0s\n",
            "[CV 3/3] END C=0.6596875, degree=2, gamma=auto, kernel=poly, random_state=99;, score=0.750 total time=   0.0s\n",
            "[CV 1/3] END C=0.6596875, degree=5, gamma=auto, kernel=poly, random_state=81;, score=0.750 total time=   0.0s\n",
            "[CV 2/3] END C=0.6596875, degree=5, gamma=auto, kernel=poly, random_state=81;, score=0.929 total time=   0.0s\n",
            "[CV 3/3] END C=0.6596875, degree=5, gamma=auto, kernel=poly, random_state=81;, score=0.786 total time=   0.0s\n",
            "[CV 1/3] END C=0.87625, degree=2, gamma=auto, kernel=sigmoid, random_state=79;, score=0.857 total time=   0.0s\n",
            "[CV 2/3] END C=0.87625, degree=2, gamma=auto, kernel=sigmoid, random_state=79;, score=0.964 total time=   0.0s\n",
            "[CV 3/3] END C=0.87625, degree=2, gamma=auto, kernel=sigmoid, random_state=79;, score=0.786 total time=   0.0s\n",
            "[CV 1/3] END C=0.195625, degree=2, gamma=auto, kernel=linear, random_state=54;, score=0.929 total time=   0.0s\n",
            "[CV 2/3] END C=0.195625, degree=2, gamma=auto, kernel=linear, random_state=54;, score=1.000 total time=   0.0s\n",
            "[CV 3/3] END C=0.195625, degree=2, gamma=auto, kernel=linear, random_state=54;, score=0.857 total time=   0.0s\n",
            "[CV 1/3] END C=0.6596875, degree=2, gamma=scale, kernel=linear, random_state=30;, score=0.929 total time=   0.0s\n",
            "[CV 2/3] END C=0.6596875, degree=2, gamma=scale, kernel=linear, random_state=30;, score=1.000 total time=   0.0s\n",
            "[CV 3/3] END C=0.6596875, degree=2, gamma=scale, kernel=linear, random_state=30;, score=0.964 total time=   0.0s\n",
            "[CV 1/3] END C=0.7525, degree=3, gamma=scale, kernel=sigmoid, random_state=69;, score=0.857 total time=   0.0s\n",
            "[CV 2/3] END C=0.7525, degree=3, gamma=scale, kernel=sigmoid, random_state=69;, score=0.964 total time=   0.0s\n",
            "[CV 3/3] END C=0.7525, degree=3, gamma=scale, kernel=sigmoid, random_state=69;, score=0.786 total time=   0.0s\n",
            "[CV 1/3] END C=0.7525, degree=5, gamma=auto, kernel=poly, random_state=51;, score=0.750 total time=   0.0s\n",
            "[CV 2/3] END C=0.7525, degree=5, gamma=auto, kernel=poly, random_state=51;, score=0.929 total time=   0.0s\n",
            "[CV 3/3] END C=0.7525, degree=5, gamma=auto, kernel=poly, random_state=51;, score=0.786 total time=   0.0s\n",
            "[CV 1/3] END C=0.505, degree=4, gamma=auto, kernel=sigmoid, random_state=31;, score=0.857 total time=   0.0s\n",
            "[CV 2/3] END C=0.505, degree=4, gamma=auto, kernel=sigmoid, random_state=31;, score=0.964 total time=   0.0s\n",
            "[CV 3/3] END C=0.505, degree=4, gamma=auto, kernel=sigmoid, random_state=31;, score=0.786 total time=   0.0s\n",
            "[CV 1/3] END C=0.38125, degree=5, gamma=scale, kernel=sigmoid, random_state=69;, score=0.857 total time=   0.0s\n",
            "[CV 2/3] END C=0.38125, degree=5, gamma=scale, kernel=sigmoid, random_state=69;, score=0.964 total time=   0.0s\n",
            "[CV 3/3] END C=0.38125, degree=5, gamma=scale, kernel=sigmoid, random_state=69;, score=0.786 total time=   0.0s\n",
            "[CV 1/3] END C=0.10281249999999999, degree=2, gamma=scale, kernel=poly, random_state=90;, score=0.571 total time=   0.0s\n",
            "[CV 2/3] END C=0.10281249999999999, degree=2, gamma=scale, kernel=poly, random_state=90;, score=0.750 total time=   0.0s\n",
            "[CV 3/3] END C=0.10281249999999999, degree=2, gamma=scale, kernel=poly, random_state=90;, score=0.607 total time=   0.0s\n",
            "[CV 1/3] END C=0.443125, degree=3, gamma=auto, kernel=rbf, random_state=21;, score=0.964 total time=   0.0s\n",
            "[CV 2/3] END C=0.443125, degree=3, gamma=auto, kernel=rbf, random_state=21;, score=1.000 total time=   0.0s\n",
            "[CV 3/3] END C=0.443125, degree=3, gamma=auto, kernel=rbf, random_state=21;, score=0.821 total time=   0.0s\n",
            "[CV 1/3] END C=0.690625, degree=5, gamma=scale, kernel=sigmoid, random_state=41;, score=0.857 total time=   0.0s\n",
            "[CV 2/3] END C=0.690625, degree=5, gamma=scale, kernel=sigmoid, random_state=41;, score=0.964 total time=   0.0s\n",
            "[CV 3/3] END C=0.690625, degree=5, gamma=scale, kernel=sigmoid, random_state=41;, score=0.786 total time=   0.0s\n",
            "[CV 1/3] END C=0.690625, degree=3, gamma=auto, kernel=sigmoid, random_state=31;, score=0.857 total time=   0.0s\n",
            "[CV 2/3] END C=0.690625, degree=3, gamma=auto, kernel=sigmoid, random_state=31;, score=0.964 total time=   0.0s\n",
            "[CV 3/3] END C=0.690625, degree=3, gamma=auto, kernel=sigmoid, random_state=31;, score=0.786 total time=   0.0s\n",
            "[CV 1/3] END C=0.62875, degree=4, gamma=auto, kernel=sigmoid, random_state=61;, score=0.857 total time=   0.0s\n",
            "[CV 2/3] END C=0.62875, degree=4, gamma=auto, kernel=sigmoid, random_state=61;, score=0.964 total time=   0.0s\n",
            "[CV 3/3] END C=0.62875, degree=4, gamma=auto, kernel=sigmoid, random_state=61;, score=0.786 total time=   0.0s\n",
            "[CV 1/3] END C=0.3503125, degree=4, gamma=auto, kernel=rbf, random_state=40;, score=0.893 total time=   0.0s\n",
            "[CV 2/3] END C=0.3503125, degree=4, gamma=auto, kernel=rbf, random_state=40;, score=1.000 total time=   0.0s\n",
            "[CV 3/3] END C=0.3503125, degree=4, gamma=auto, kernel=rbf, random_state=40;, score=0.821 total time=   0.0s\n",
            "[CV 1/3] END C=0.9071875, degree=2, gamma=scale, kernel=rbf, random_state=24;, score=0.964 total time=   0.0s\n",
            "[CV 2/3] END C=0.9071875, degree=2, gamma=scale, kernel=rbf, random_state=24;, score=0.964 total time=   0.0s\n",
            "[CV 3/3] END C=0.9071875, degree=2, gamma=scale, kernel=rbf, random_state=24;, score=0.857 total time=   0.0s\n",
            "[CV 1/3] END C=0.9690625, degree=3, gamma=scale, kernel=sigmoid, random_state=3;, score=0.857 total time=   0.0s\n",
            "[CV 2/3] END C=0.9690625, degree=3, gamma=scale, kernel=sigmoid, random_state=3;, score=0.964 total time=   0.0s\n",
            "[CV 3/3] END C=0.9690625, degree=3, gamma=scale, kernel=sigmoid, random_state=3;, score=0.786 total time=   0.0s\n",
            "[CV 1/3] END C=0.319375, degree=3, gamma=scale, kernel=poly, random_state=36;, score=0.893 total time=   0.0s\n",
            "[CV 2/3] END C=0.319375, degree=3, gamma=scale, kernel=poly, random_state=36;, score=0.929 total time=   0.0s\n",
            "[CV 3/3] END C=0.319375, degree=3, gamma=scale, kernel=poly, random_state=36;, score=0.857 total time=   0.0s\n",
            "[CV 1/3] END C=0.10281249999999999, degree=4, gamma=auto, kernel=linear, random_state=51;, score=0.964 total time=   0.0s\n",
            "[CV 2/3] END C=0.10281249999999999, degree=4, gamma=auto, kernel=linear, random_state=51;, score=1.000 total time=   0.0s\n",
            "[CV 3/3] END C=0.10281249999999999, degree=4, gamma=auto, kernel=linear, random_state=51;, score=0.821 total time=   0.0s\n",
            "[CV 1/3] END C=0.9071875, degree=5, gamma=auto, kernel=linear, random_state=20;, score=0.929 total time=   0.0s\n",
            "[CV 2/3] END C=0.9071875, degree=5, gamma=auto, kernel=linear, random_state=20;, score=1.000 total time=   0.0s\n",
            "[CV 3/3] END C=0.9071875, degree=5, gamma=auto, kernel=linear, random_state=20;, score=0.964 total time=   0.0s\n",
            "[CV 1/3] END C=0.38125, degree=5, gamma=scale, kernel=linear, random_state=6;, score=0.964 total time=   0.0s\n",
            "[CV 2/3] END C=0.38125, degree=5, gamma=scale, kernel=linear, random_state=6;, score=1.000 total time=   0.0s\n",
            "[CV 3/3] END C=0.38125, degree=5, gamma=scale, kernel=linear, random_state=6;, score=0.964 total time=   0.0s\n",
            "[CV 1/3] END C=0.87625, degree=5, gamma=scale, kernel=sigmoid, random_state=11;, score=0.857 total time=   0.0s\n",
            "[CV 2/3] END C=0.87625, degree=5, gamma=scale, kernel=sigmoid, random_state=11;, score=0.964 total time=   0.0s\n",
            "[CV 3/3] END C=0.87625, degree=5, gamma=scale, kernel=sigmoid, random_state=11;, score=0.786 total time=   0.0s\n",
            "[CV 1/3] END C=0.01, degree=3, gamma=scale, kernel=rbf, random_state=27;, score=0.500 total time=   0.0s\n",
            "[CV 2/3] END C=0.01, degree=3, gamma=scale, kernel=rbf, random_state=27;, score=0.643 total time=   0.0s\n",
            "[CV 3/3] END C=0.01, degree=3, gamma=scale, kernel=rbf, random_state=27;, score=0.643 total time=   0.0s\n",
            "[CV 1/3] END C=0.87625, degree=3, gamma=scale, kernel=rbf, random_state=96;, score=0.964 total time=   0.0s\n",
            "[CV 2/3] END C=0.87625, degree=3, gamma=scale, kernel=rbf, random_state=96;, score=0.964 total time=   0.0s\n",
            "[CV 3/3] END C=0.87625, degree=3, gamma=scale, kernel=rbf, random_state=96;, score=0.821 total time=   0.0s\n",
            "[CV 1/3] END C=0.5359375, degree=4, gamma=scale, kernel=poly, random_state=53;, score=0.571 total time=   0.0s\n",
            "[CV 2/3] END C=0.5359375, degree=4, gamma=scale, kernel=poly, random_state=53;, score=0.821 total time=   0.0s\n",
            "[CV 3/3] END C=0.5359375, degree=4, gamma=scale, kernel=poly, random_state=53;, score=0.714 total time=   0.0s\n",
            "[CV 1/3] END C=0.87625, degree=3, gamma=scale, kernel=sigmoid, random_state=20;, score=0.857 total time=   0.0s\n",
            "[CV 2/3] END C=0.87625, degree=3, gamma=scale, kernel=sigmoid, random_state=20;, score=0.964 total time=   0.0s\n",
            "[CV 3/3] END C=0.87625, degree=3, gamma=scale, kernel=sigmoid, random_state=20;, score=0.786 total time=   0.0s\n",
            "[CV 1/3] END C=0.2265625, degree=3, gamma=scale, kernel=rbf, random_state=82;, score=0.929 total time=   0.0s\n",
            "[CV 2/3] END C=0.2265625, degree=3, gamma=scale, kernel=rbf, random_state=82;, score=0.964 total time=   0.0s\n",
            "[CV 3/3] END C=0.2265625, degree=3, gamma=scale, kernel=rbf, random_state=82;, score=0.821 total time=   0.0s\n",
            "[CV 1/3] END C=0.2265625, degree=4, gamma=auto, kernel=poly, random_state=46;, score=0.536 total time=   0.0s\n",
            "[CV 2/3] END C=0.2265625, degree=4, gamma=auto, kernel=poly, random_state=46;, score=0.750 total time=   0.0s\n",
            "[CV 3/3] END C=0.2265625, degree=4, gamma=auto, kernel=poly, random_state=46;, score=0.643 total time=   0.0s\n",
            "[CV 1/3] END C=0.7215625, degree=3, gamma=auto, kernel=linear, random_state=14;, score=0.929 total time=   0.0s\n",
            "[CV 2/3] END C=0.7215625, degree=3, gamma=auto, kernel=linear, random_state=14;, score=1.000 total time=   0.0s\n",
            "[CV 3/3] END C=0.7215625, degree=3, gamma=auto, kernel=linear, random_state=14;, score=0.964 total time=   0.0s\n",
            "[CV 1/3] END C=0.814375, degree=2, gamma=auto, kernel=linear, random_state=35;, score=0.929 total time=   0.0s\n",
            "[CV 2/3] END C=0.814375, degree=2, gamma=auto, kernel=linear, random_state=35;, score=1.000 total time=   0.0s\n",
            "[CV 3/3] END C=0.814375, degree=2, gamma=auto, kernel=linear, random_state=35;, score=0.964 total time=   0.0s\n",
            "[CV 1/3] END C=0.071875, degree=5, gamma=auto, kernel=poly, random_state=62;, score=0.607 total time=   0.0s\n",
            "[CV 2/3] END C=0.071875, degree=5, gamma=auto, kernel=poly, random_state=62;, score=0.786 total time=   0.0s\n",
            "[CV 3/3] END C=0.071875, degree=5, gamma=auto, kernel=poly, random_state=62;, score=0.679 total time=   0.0s\n",
            "[CV 1/3] END C=0.8453125, degree=3, gamma=auto, kernel=linear, random_state=84;, score=0.929 total time=   0.0s\n",
            "[CV 2/3] END C=0.8453125, degree=3, gamma=auto, kernel=linear, random_state=84;, score=1.000 total time=   0.0s\n",
            "[CV 3/3] END C=0.8453125, degree=3, gamma=auto, kernel=linear, random_state=84;, score=0.964 total time=   0.0s\n",
            "[CV 1/3] END C=0.10281249999999999, degree=5, gamma=scale, kernel=sigmoid, random_state=9;, score=0.893 total time=   0.0s\n",
            "[CV 2/3] END C=0.10281249999999999, degree=5, gamma=scale, kernel=sigmoid, random_state=9;, score=0.857 total time=   0.0s\n",
            "[CV 3/3] END C=0.10281249999999999, degree=5, gamma=scale, kernel=sigmoid, random_state=9;, score=0.786 total time=   0.0s\n",
            "[CV 1/3] END C=0.62875, degree=2, gamma=scale, kernel=sigmoid, random_state=48;, score=0.857 total time=   0.0s\n",
            "[CV 2/3] END C=0.62875, degree=2, gamma=scale, kernel=sigmoid, random_state=48;, score=0.964 total time=   0.0s\n",
            "[CV 3/3] END C=0.62875, degree=2, gamma=scale, kernel=sigmoid, random_state=48;, score=0.786 total time=   0.0s\n",
            "[CV 1/3] END C=0.8453125, degree=3, gamma=auto, kernel=linear, random_state=56;, score=0.929 total time=   0.0s\n",
            "[CV 2/3] END C=0.8453125, degree=3, gamma=auto, kernel=linear, random_state=56;, score=1.000 total time=   0.0s\n",
            "[CV 3/3] END C=0.8453125, degree=3, gamma=auto, kernel=linear, random_state=56;, score=0.964 total time=   0.0s\n",
            "[CV 1/3] END C=0.38125, degree=3, gamma=scale, kernel=rbf, random_state=94;, score=0.893 total time=   0.0s\n",
            "[CV 2/3] END C=0.38125, degree=3, gamma=scale, kernel=rbf, random_state=94;, score=1.000 total time=   0.0s\n",
            "[CV 3/3] END C=0.38125, degree=3, gamma=scale, kernel=rbf, random_state=94;, score=0.821 total time=   0.0s\n",
            "[CV 1/3] END C=0.071875, degree=4, gamma=auto, kernel=rbf, random_state=58;, score=0.857 total time=   0.0s\n",
            "[CV 2/3] END C=0.071875, degree=4, gamma=auto, kernel=rbf, random_state=58;, score=0.643 total time=   0.0s\n",
            "[CV 3/3] END C=0.071875, degree=4, gamma=auto, kernel=rbf, random_state=58;, score=0.750 total time=   0.0s\n",
            "[CV 1/3] END C=0.38125, degree=2, gamma=scale, kernel=linear, random_state=29;, score=0.964 total time=   0.0s\n",
            "[CV 2/3] END C=0.38125, degree=2, gamma=scale, kernel=linear, random_state=29;, score=1.000 total time=   0.0s\n",
            "[CV 3/3] END C=0.38125, degree=2, gamma=scale, kernel=linear, random_state=29;, score=0.964 total time=   0.0s\n",
            "[CV 1/3] END C=0.505, degree=2, gamma=auto, kernel=poly, random_state=32;, score=0.714 total time=   0.0s\n",
            "[CV 2/3] END C=0.505, degree=2, gamma=auto, kernel=poly, random_state=32;, score=0.857 total time=   0.0s\n",
            "[CV 3/3] END C=0.505, degree=2, gamma=auto, kernel=poly, random_state=32;, score=0.786 total time=   0.0s\n",
            "[CV 1/3] END C=0.5978125, degree=3, gamma=scale, kernel=rbf, random_state=47;, score=0.929 total time=   0.0s\n",
            "[CV 2/3] END C=0.5978125, degree=3, gamma=scale, kernel=rbf, random_state=47;, score=0.964 total time=   0.0s\n",
            "[CV 3/3] END C=0.5978125, degree=3, gamma=scale, kernel=rbf, random_state=47;, score=0.821 total time=   0.0s\n"
          ]
        }
      ]
    },
    {
      "cell_type": "code",
      "source": [
        "svc_random_search_res.best_score_"
      ],
      "metadata": {
        "id": "XkO4ZzGtIPqb",
        "outputId": "fa6f7205-7a41-4139-cc1a-544bdc288b74",
        "colab": {
          "base_uri": "https://localhost:8080/"
        }
      },
      "execution_count": 97,
      "outputs": [
        {
          "output_type": "execute_result",
          "data": {
            "text/plain": [
              "0.9761904761904763"
            ]
          },
          "metadata": {},
          "execution_count": 97
        }
      ]
    },
    {
      "cell_type": "markdown",
      "source": [
        "### Analysis of the model mistakes"
      ],
      "metadata": {
        "id": "a1hJpYp8IfuG"
      }
    },
    {
      "cell_type": "code",
      "source": [
        "from sklearn.model_selection import cross_val_predict\n",
        "\n",
        "preds = cross_val_predict(\n",
        "    estimator=svc_random_search_res.best_estimator_,\n",
        "    X=X_trainval_processed,\n",
        "    y=Y_trainval_processed,\n",
        "    cv=3\n",
        ")"
      ],
      "metadata": {
        "id": "lVAA8N97bvUW"
      },
      "execution_count": 136,
      "outputs": []
    },
    {
      "cell_type": "code",
      "source": [
        "target_processor.inverse_transform(preds)"
      ],
      "metadata": {
        "id": "9TEcWZq7eccq",
        "outputId": "fb8838b2-7d6c-4954-9640-56451eb35804",
        "colab": {
          "base_uri": "https://localhost:8080/"
        }
      },
      "execution_count": 148,
      "outputs": [
        {
          "output_type": "execute_result",
          "data": {
            "text/plain": [
              "array(['Iris-setosa', 'Iris-setosa', 'Iris-setosa', 'Iris-setosa',\n",
              "       'Iris-setosa', 'Iris-versicolor', 'Iris-versicolor',\n",
              "       'Iris-virginica', 'Iris-virginica', 'Iris-versicolor',\n",
              "       'Iris-virginica', 'Iris-setosa', 'Iris-versicolor', 'Iris-setosa',\n",
              "       'Iris-setosa', 'Iris-virginica', 'Iris-setosa', 'Iris-setosa',\n",
              "       'Iris-virginica', 'Iris-versicolor', 'Iris-versicolor',\n",
              "       'Iris-virginica', 'Iris-versicolor', 'Iris-setosa',\n",
              "       'Iris-versicolor', 'Iris-versicolor', 'Iris-setosa',\n",
              "       'Iris-versicolor', 'Iris-virginica', 'Iris-versicolor',\n",
              "       'Iris-setosa', 'Iris-setosa', 'Iris-virginica', 'Iris-setosa',\n",
              "       'Iris-virginica', 'Iris-virginica', 'Iris-virginica',\n",
              "       'Iris-versicolor', 'Iris-versicolor', 'Iris-setosa',\n",
              "       'Iris-versicolor', 'Iris-versicolor', 'Iris-versicolor',\n",
              "       'Iris-virginica', 'Iris-setosa', 'Iris-setosa', 'Iris-virginica',\n",
              "       'Iris-setosa', 'Iris-versicolor', 'Iris-virginica',\n",
              "       'Iris-virginica', 'Iris-setosa', 'Iris-setosa', 'Iris-virginica',\n",
              "       'Iris-setosa', 'Iris-virginica', 'Iris-setosa', 'Iris-versicolor',\n",
              "       'Iris-versicolor', 'Iris-versicolor', 'Iris-virginica',\n",
              "       'Iris-virginica', 'Iris-virginica', 'Iris-versicolor',\n",
              "       'Iris-versicolor', 'Iris-versicolor', 'Iris-virginica',\n",
              "       'Iris-versicolor', 'Iris-versicolor', 'Iris-setosa',\n",
              "       'Iris-versicolor', 'Iris-setosa', 'Iris-virginica', 'Iris-setosa',\n",
              "       'Iris-virginica', 'Iris-versicolor', 'Iris-setosa',\n",
              "       'Iris-versicolor', 'Iris-setosa', 'Iris-virginica',\n",
              "       'Iris-versicolor', 'Iris-virginica', 'Iris-virginica',\n",
              "       'Iris-versicolor'], dtype=object)"
            ]
          },
          "metadata": {},
          "execution_count": 148
        }
      ]
    },
    {
      "cell_type": "code",
      "source": [
        "target_processor.classes_"
      ],
      "metadata": {
        "id": "CvUg4TGWh7gO",
        "outputId": "9f6773dc-cac5-49b0-debd-18d618ec4e6f",
        "colab": {
          "base_uri": "https://localhost:8080/"
        }
      },
      "execution_count": 172,
      "outputs": [
        {
          "output_type": "execute_result",
          "data": {
            "text/plain": [
              "array(['Iris-setosa', 'Iris-versicolor', 'Iris-virginica'], dtype=object)"
            ]
          },
          "metadata": {},
          "execution_count": 172
        }
      ]
    },
    {
      "cell_type": "code",
      "source": [
        "from sklearn.metrics import confusion_matrix\n",
        "from sklearn.metrics import ConfusionMatrixDisplay\n",
        "\n",
        "def plot_confusion_matrix(Y_true, Y_pred, labels, figsize=(15, 8)):\n",
        "    conf_mat = confusion_matrix(y_true=Y_true, y_pred=Y_pred)\n",
        "    print(f'Rows: groundtruth classes, columns: predicted classes!')\n",
        "\n",
        "    fig, ax = plt.subplots(1, 2, figsize=figsize)\n",
        "    ax = ax.flatten()\n",
        "    ax[0].set_title(f'Confusion mat. \\n with no highlight by A.Geron')\n",
        "\n",
        "    c = ConfusionMatrixDisplay(conf_mat, display_labels=labels)\n",
        "\n",
        "    c.plot(ax=ax[0])\n",
        "    ax[0].set_xticklabels(labels, rotation=90)\n",
        "\n",
        "\n",
        "    row_sums = conf_mat.sum(axis=1, keepdims=True)\n",
        "    norm_conf_mx = conf_mat / row_sums\n",
        "    np.fill_diagonal(norm_conf_mx, 0)\n",
        "\n",
        "    ConfusionMatrixDisplay(norm_conf_mx, display_labels=labels).plot(ax=ax[1])\n",
        "    ax[1].set_title(f'Confusion mat. \\n with highlight by A.Geron')\n",
        "    ax[1].set_xticklabels(labels, rotation=90)\n",
        "\n",
        "\n",
        "    fig.delaxes(fig.axes[3])\n",
        "    fig.delaxes(fig.axes[2])\n",
        "\n",
        "\n",
        "plot_confusion_matrix(\n",
        "    Y_true=Y_trainval_processed,\n",
        "    Y_pred=preds,\n",
        "    labels=target_processor.classes_,\n",
        "    figsize=(10, 5)\n",
        ")"
      ],
      "metadata": {
        "id": "J87o0AaadT8S",
        "outputId": "da752c04-40a0-4b36-923f-99c498ea982b",
        "colab": {
          "base_uri": "https://localhost:8080/",
          "height": 501
        }
      },
      "execution_count": 185,
      "outputs": [
        {
          "output_type": "stream",
          "name": "stdout",
          "text": [
            "Rows: groundtruth classes, columns: predicted classes!\n"
          ]
        },
        {
          "output_type": "display_data",
          "data": {
            "text/plain": [
              "<Figure size 1000x500 with 2 Axes>"
            ],
            "image/png": "[encoded data removed]"
          },
          "metadata": {}
        }
      ]
    },
    {
      "cell_type": "code",
      "source": [
        "from sklearn.metrics import confusion_matrix\n",
        "import seaborn as sns\n",
        "\n",
        "conf_mat = confusion_matrix(\n",
        "    y_true=Y_trainval_processed,\n",
        "    y_pred=preds\n",
        ")"
      ],
      "metadata": {
        "id": "ZfbjFL5paULH"
      },
      "execution_count": 140,
      "outputs": []
    },
    {
      "cell_type": "code",
      "source": [
        "row_sums = conf_mat.sum(axis=1, keepdims=True)\n",
        "norm_conf_mx = conf_mat / row_sums\n",
        "\n",
        "np.fill_diagonal(norm_conf_mx, 0)\n",
        "plt.matshow(norm_conf_mx, cmap=plt.cm.gray)\n",
        "plt.show()"
      ],
      "metadata": {
        "id": "JFHbCI22dGCj",
        "outputId": "ebc7c054-d317-4302-9193-f32d564a14e6",
        "colab": {
          "base_uri": "https://localhost:8080/",
          "height": 437
        }
      },
      "execution_count": 144,
      "outputs": [
        {
          "output_type": "display_data",
          "data": {
            "text/plain": [
              "<Figure size 480x480 with 1 Axes>"
            ],
            "image/png": "[encoded data removed]"
          },
          "metadata": {}
        }
      ]
    },
    {
      "cell_type": "code",
      "source": [
        "plt.matshow(conf_mat, cmap=plt.cm.gray)"
      ],
      "metadata": {
        "id": "ble7z9x7cz9y",
        "outputId": "106cf49f-cd92-4d65-ead1-23627f2907ae",
        "colab": {
          "base_uri": "https://localhost:8080/",
          "height": 454
        }
      },
      "execution_count": 143,
      "outputs": [
        {
          "output_type": "execute_result",
          "data": {
            "text/plain": [
              "<matplotlib.image.AxesImage at 0x78ce9b73f9d0>"
            ]
          },
          "metadata": {},
          "execution_count": 143
        },
        {
          "output_type": "display_data",
          "data": {
            "text/plain": [
              "<Figure size 480x480 with 1 Axes>"
            ],
            "image/png": "[encoded data removed]"
          },
          "metadata": {}
        }
      ]
    },
    {
      "cell_type": "code",
      "source": [
        "def output_mistakes(Y_predicted, Y_processed, label_encoder):\n",
        "    idxs = np.where(Y_predicted != Y_processed)[0]\n",
        "    print(idxs, idxs.shape)\n",
        "    for idx in idxs:\n",
        "        # print(idx, predictions[idx])\n",
        "        print(f'''\n",
        "        Predicted: {label_encoder.inverse_transform(Y_predicted[[idx]])},\n",
        "        Actual: {label_encoder.inverse_transform(Y_processed[[idx]])}\n",
        "        ''')\n",
        "\n",
        "output_mistakes(\n",
        "    svc_random_search_res.best_estimator_.predict(\n",
        "        np.vstack([X_train_processed, X_val_processed]),\n",
        "    ),\n",
        "    np.concatenate([Y_train_processed, Y_val_processed]),\n",
        "    target_processor\n",
        ")"
      ],
      "metadata": {
        "id": "tNYXrAEsIdSX",
        "outputId": "dfb3deee-e388-458a-b740-f1ef66f4e60f",
        "colab": {
          "base_uri": "https://localhost:8080/"
        }
      },
      "execution_count": 124,
      "outputs": [
        {
          "output_type": "stream",
          "name": "stdout",
          "text": [
            "[ 6 27 67] (3,)\n",
            "\n",
            "        Predicted: ['Iris-versicolor'],\n",
            "        Actual: ['Iris-virginica']\n",
            "        \n",
            "\n",
            "        Predicted: ['Iris-virginica'],\n",
            "        Actual: ['Iris-versicolor']\n",
            "        \n",
            "\n",
            "        Predicted: ['Iris-virginica'],\n",
            "        Actual: ['Iris-versicolor']\n",
            "        \n"
          ]
        }
      ]
    },
    {
      "cell_type": "code",
      "source": [
        "svc_random_search_res.best_estimator_.predict(\n",
        "    [X_val_processed[0, :]]\n",
        "), Y_val_processed[0]"
      ],
      "metadata": {
        "id": "yfhsVlgUYOCF",
        "outputId": "e2dc848d-0d68-4477-ac07-184be9a5dba4",
        "colab": {
          "base_uri": "https://localhost:8080/"
        }
      },
      "execution_count": 108,
      "outputs": [
        {
          "output_type": "execute_result",
          "data": {
            "text/plain": [
              "(array([2]), 1)"
            ]
          },
          "metadata": {},
          "execution_count": 108
        }
      ]
    },
    {
      "cell_type": "markdown",
      "source": [
        "## Gradient boosting"
      ],
      "metadata": {
        "id": "rh9v245YIQ0b"
      }
    },
    {
      "cell_type": "markdown",
      "source": [
        "### Define the model"
      ],
      "metadata": {
        "id": "oeT2pCDLISpP"
      }
    },
    {
      "cell_type": "code",
      "source": [
        "%%capture\n",
        "!pip install xgboost"
      ],
      "metadata": {
        "id": "-I41ejokISNF"
      },
      "execution_count": null,
      "outputs": []
    },
    {
      "cell_type": "code",
      "source": [
        "from xgboost import XGBClassifier\n",
        "\n",
        "estimator = XGBClassifier()\n",
        "estimator.fit(X_train_processed, Y_train_processed)"
      ],
      "metadata": {
        "id": "K3lTdYCYIlB_",
        "outputId": "644700c8-f3c7-41d1-e5ab-2938e7b08b76",
        "colab": {
          "base_uri": "https://localhost:8080/",
          "height": 248
        }
      },
      "execution_count": null,
      "outputs": [
        {
          "output_type": "execute_result",
          "data": {
            "text/plain": [
              "XGBClassifier(base_score=None, booster=None, callbacks=None,\n",
              "              colsample_bylevel=None, colsample_bynode=None,\n",
              "              colsample_bytree=None, device=None, early_stopping_rounds=None,\n",
              "              enable_categorical=False, eval_metric=None, feature_types=None,\n",
              "              gamma=None, grow_policy=None, importance_type=None,\n",
              "              interaction_constraints=None, learning_rate=None, max_bin=None,\n",
              "              max_cat_threshold=None, max_cat_to_onehot=None,\n",
              "              max_delta_step=None, max_depth=None, max_leaves=None,\n",
              "              min_child_weight=None, missing=nan, monotone_constraints=None,\n",
              "              multi_strategy=None, n_estimators=None, n_jobs=None,\n",
              "              num_parallel_tree=None, objective='multi:softprob', ...)"
            ],
            "text/html": [
              "<style>#sk-container-id-4 {color: black;background-color: white;}#sk-container-id-4 pre{padding: 0;}#sk-container-id-4 div.sk-toggleable {background-color: white;}#sk-container-id-4 label.sk-toggleable__label {cursor: pointer;display: block;width: 100%;margin-bottom: 0;padding: 0.3em;box-sizing: border-box;text-align: center;}#sk-container-id-4 label.sk-toggleable__label-arrow:before {content: \"▸\";float: left;margin-right: 0.25em;color: #696969;}#sk-container-id-4 label.sk-toggleable__label-arrow:hover:before {color: black;}#sk-container-id-4 div.sk-estimator:hover label.sk-toggleable__label-arrow:before {color: black;}#sk-container-id-4 div.sk-toggleable__content {max-height: 0;max-width: 0;overflow: hidden;text-align: left;background-color: #f0f8ff;}#sk-container-id-4 div.sk-toggleable__content pre {margin: 0.2em;color: black;border-radius: 0.25em;background-color: #f0f8ff;}#sk-container-id-4 input.sk-toggleable__control:checked~div.sk-toggleable__content {max-height: 200px;max-width: 100%;overflow: auto;}#sk-container-id-4 input.sk-toggleable__control:checked~label.sk-toggleable__label-arrow:before {content: \"▾\";}#sk-container-id-4 div.sk-estimator input.sk-toggleable__control:checked~label.sk-toggleable__label {background-color: #d4ebff;}#sk-container-id-4 div.sk-label input.sk-toggleable__control:checked~label.sk-toggleable__label {background-color: #d4ebff;}#sk-container-id-4 input.sk-hidden--visually {border: 0;clip: rect(1px 1px 1px 1px);clip: rect(1px, 1px, 1px, 1px);height: 1px;margin: -1px;overflow: hidden;padding: 0;position: absolute;width: 1px;}#sk-container-id-4 div.sk-estimator {font-family: monospace;background-color: #f0f8ff;border: 1px dotted black;border-radius: 0.25em;box-sizing: border-box;margin-bottom: 0.5em;}#sk-container-id-4 div.sk-estimator:hover {background-color: #d4ebff;}#sk-container-id-4 div.sk-parallel-item::after {content: \"\";width: 100%;border-bottom: 1px solid gray;flex-grow: 1;}#sk-container-id-4 div.sk-label:hover label.sk-toggleable__label {background-color: #d4ebff;}#sk-container-id-4 div.sk-serial::before {content: \"\";position: absolute;border-left: 1px solid gray;box-sizing: border-box;top: 0;bottom: 0;left: 50%;z-index: 0;}#sk-container-id-4 div.sk-serial {display: flex;flex-direction: column;align-items: center;background-color: white;padding-right: 0.2em;padding-left: 0.2em;position: relative;}#sk-container-id-4 div.sk-item {position: relative;z-index: 1;}#sk-container-id-4 div.sk-parallel {display: flex;align-items: stretch;justify-content: center;background-color: white;position: relative;}#sk-container-id-4 div.sk-item::before, #sk-container-id-4 div.sk-parallel-item::before {content: \"\";position: absolute;border-left: 1px solid gray;box-sizing: border-box;top: 0;bottom: 0;left: 50%;z-index: -1;}#sk-container-id-4 div.sk-parallel-item {display: flex;flex-direction: column;z-index: 1;position: relative;background-color: white;}#sk-container-id-4 div.sk-parallel-item:first-child::after {align-self: flex-end;width: 50%;}#sk-container-id-4 div.sk-parallel-item:last-child::after {align-self: flex-start;width: 50%;}#sk-container-id-4 div.sk-parallel-item:only-child::after {width: 0;}#sk-container-id-4 div.sk-dashed-wrapped {border: 1px dashed gray;margin: 0 0.4em 0.5em 0.4em;box-sizing: border-box;padding-bottom: 0.4em;background-color: white;}#sk-container-id-4 div.sk-label label {font-family: monospace;font-weight: bold;display: inline-block;line-height: 1.2em;}#sk-container-id-4 div.sk-label-container {text-align: center;}#sk-container-id-4 div.sk-container {/* jupyter's `normalize.less` sets `[hidden] { display: none; }` but bootstrap.min.css set `[hidden] { display: none !important; }` so we also need the `!important` here to be able to override the default hidden behavior on the sphinx rendered scikit-learn.org. See: https://github.com/scikit-learn/scikit-learn/issues/21755 */display: inline-block !important;position: relative;}#sk-container-id-4 div.sk-text-repr-fallback {display: none;}</style><div id=\"sk-container-id-4\" class=\"sk-top-container\"><div class=\"sk-text-repr-fallback\"><pre>XGBClassifier(base_score=None, booster=None, callbacks=None,\n",
              "              colsample_bylevel=None, colsample_bynode=None,\n",
              "              colsample_bytree=None, device=None, early_stopping_rounds=None,\n",
              "              enable_categorical=False, eval_metric=None, feature_types=None,\n",
              "              gamma=None, grow_policy=None, importance_type=None,\n",
              "              interaction_constraints=None, learning_rate=None, max_bin=None,\n",
              "              max_cat_threshold=None, max_cat_to_onehot=None,\n",
              "              max_delta_step=None, max_depth=None, max_leaves=None,\n",
              "              min_child_weight=None, missing=nan, monotone_constraints=None,\n",
              "              multi_strategy=None, n_estimators=None, n_jobs=None,\n",
              "              num_parallel_tree=None, objective=&#x27;multi:softprob&#x27;, ...)</pre><b>In a Jupyter environment, please rerun this cell to show the HTML representation or trust the notebook. <br />On GitHub, the HTML representation is unable to render, please try loading this page with nbviewer.org.</b></div><div class=\"sk-container\" hidden><div class=\"sk-item\"><div class=\"sk-estimator sk-toggleable\"><input class=\"sk-toggleable__control sk-hidden--visually\" id=\"sk-estimator-id-4\" type=\"checkbox\" checked><label for=\"sk-estimator-id-4\" class=\"sk-toggleable__label sk-toggleable__label-arrow\">XGBClassifier</label><div class=\"sk-toggleable__content\"><pre>XGBClassifier(base_score=None, booster=None, callbacks=None,\n",
              "              colsample_bylevel=None, colsample_bynode=None,\n",
              "              colsample_bytree=None, device=None, early_stopping_rounds=None,\n",
              "              enable_categorical=False, eval_metric=None, feature_types=None,\n",
              "              gamma=None, grow_policy=None, importance_type=None,\n",
              "              interaction_constraints=None, learning_rate=None, max_bin=None,\n",
              "              max_cat_threshold=None, max_cat_to_onehot=None,\n",
              "              max_delta_step=None, max_depth=None, max_leaves=None,\n",
              "              min_child_weight=None, missing=nan, monotone_constraints=None,\n",
              "              multi_strategy=None, n_estimators=None, n_jobs=None,\n",
              "              num_parallel_tree=None, objective=&#x27;multi:softprob&#x27;, ...)</pre></div></div></div></div></div>"
            ]
          },
          "metadata": {},
          "execution_count": 114
        }
      ]
    },
    {
      "cell_type": "code",
      "source": [
        "accuracy_score(\n",
        "    estimator.predict(X_val_processed),\n",
        "    Y_val_processed\n",
        ")"
      ],
      "metadata": {
        "id": "ohzGi0pEI3rm",
        "outputId": "f813851b-f3a0-4e73-bf76-c2f1c010e513",
        "colab": {
          "base_uri": "https://localhost:8080/"
        }
      },
      "execution_count": null,
      "outputs": [
        {
          "output_type": "execute_result",
          "data": {
            "text/plain": [
              "0.8823529411764706"
            ]
          },
          "metadata": {},
          "execution_count": 115
        }
      ]
    },
    {
      "cell_type": "markdown",
      "source": [
        "### Gridsearvh CV"
      ],
      "metadata": {
        "id": "tCWH7Sk5I-pL"
      }
    },
    {
      "cell_type": "code",
      "source": [
        "estimator = GridSearchCV(\n",
        "    XGBClassifier(),\n",
        "    {\n",
        "        'n_estimators': [100, 200, 300],\n",
        "        'random_state': [42]\n",
        "    },\n",
        "    cv=4,\n",
        "    verbose=5,\n",
        "    scoring='accuracy'\n",
        ")"
      ],
      "metadata": {
        "id": "1bkLidlVJAFO"
      },
      "execution_count": null,
      "outputs": []
    },
    {
      "cell_type": "code",
      "source": [
        "res = estimator.fit(\n",
        "    np.vstack([X_train_processed, X_val_processed]),\n",
        "    np.concatenate([Y_train_processed, Y_val_processed])\n",
        ")"
      ],
      "metadata": {
        "id": "hlpip7uqJHxk",
        "outputId": "018e921d-4d09-4046-a8cb-5df6ea62da85",
        "colab": {
          "base_uri": "https://localhost:8080/"
        }
      },
      "execution_count": null,
      "outputs": [
        {
          "output_type": "stream",
          "name": "stdout",
          "text": [
            "Fitting 4 folds for each of 3 candidates, totalling 12 fits\n",
            "[CV 1/4] END .n_estimators=100, random_state=42;, score=0.952 total time=   0.1s\n",
            "[CV 2/4] END .n_estimators=100, random_state=42;, score=0.952 total time=   0.1s\n",
            "[CV 3/4] END .n_estimators=100, random_state=42;, score=1.000 total time=   0.1s\n",
            "[CV 4/4] END .n_estimators=100, random_state=42;, score=0.905 total time=   0.1s\n",
            "[CV 1/4] END .n_estimators=200, random_state=42;, score=0.952 total time=   0.2s\n",
            "[CV 2/4] END .n_estimators=200, random_state=42;, score=0.952 total time=   0.1s\n",
            "[CV 3/4] END .n_estimators=200, random_state=42;, score=1.000 total time=   0.1s\n",
            "[CV 4/4] END .n_estimators=200, random_state=42;, score=0.905 total time=   0.1s\n",
            "[CV 1/4] END .n_estimators=300, random_state=42;, score=0.952 total time=   0.3s\n",
            "[CV 2/4] END .n_estimators=300, random_state=42;, score=0.952 total time=   0.5s\n",
            "[CV 3/4] END .n_estimators=300, random_state=42;, score=1.000 total time=   0.5s\n",
            "[CV 4/4] END .n_estimators=300, random_state=42;, score=0.905 total time=   0.2s\n"
          ]
        }
      ]
    },
    {
      "cell_type": "code",
      "source": [
        "res.best_score_"
      ],
      "metadata": {
        "id": "dQJwdQQuJZC_",
        "outputId": "ddb813dd-ee7d-45c8-cd73-2db48545905d",
        "colab": {
          "base_uri": "https://localhost:8080/"
        }
      },
      "execution_count": null,
      "outputs": [
        {
          "output_type": "execute_result",
          "data": {
            "text/plain": [
              "0.9523809523809523"
            ]
          },
          "metadata": {},
          "execution_count": 120
        }
      ]
    },
    {
      "cell_type": "markdown",
      "source": [
        "## CatBoost"
      ],
      "metadata": {
        "id": "dmFs8A2-JqLA"
      }
    },
    {
      "cell_type": "markdown",
      "source": [
        "### Define the model"
      ],
      "metadata": {
        "id": "IfCZVckQJt2K"
      }
    },
    {
      "cell_type": "code",
      "source": [
        "%%capture\n",
        "!pip install catboost"
      ],
      "metadata": {
        "id": "tY1LHpzcJrIB"
      },
      "execution_count": null,
      "outputs": []
    },
    {
      "cell_type": "code",
      "source": [
        "from catboost import CatBoostClassifier\n",
        "\n",
        "estimator = CatBoostClassifier()\n",
        "estimator.fit(X_train_processed, Y_train_processed)"
      ],
      "metadata": {
        "id": "R3Gll52zJtEf",
        "outputId": "8df2ba11-f772-42c8-d13c-18e0cf23c6b3",
        "colab": {
          "base_uri": "https://localhost:8080/"
        }
      },
      "execution_count": null,
      "outputs": [
        {
          "output_type": "stream",
          "name": "stdout",
          "text": [
            "Learning rate set to 0.068937\n",
            "0:\tlearn: 1.0357319\ttotal: 49.8ms\tremaining: 49.7s\n",
            "1:\tlearn: 0.9970008\ttotal: 52.7ms\tremaining: 26.3s\n",
            "2:\tlearn: 0.9515786\ttotal: 55.4ms\tremaining: 18.4s\n",
            "3:\tlearn: 0.9026687\ttotal: 58.1ms\tremaining: 14.5s\n",
            "4:\tlearn: 0.8644363\ttotal: 60.7ms\tremaining: 12.1s\n",
            "5:\tlearn: 0.8239919\ttotal: 63.3ms\tremaining: 10.5s\n",
            "6:\tlearn: 0.7877247\ttotal: 65.9ms\tremaining: 9.34s\n",
            "7:\tlearn: 0.7477912\ttotal: 68.6ms\tremaining: 8.5s\n",
            "8:\tlearn: 0.7145462\ttotal: 71.2ms\tremaining: 7.84s\n",
            "9:\tlearn: 0.6866400\ttotal: 73.9ms\tremaining: 7.32s\n",
            "10:\tlearn: 0.6610939\ttotal: 76.8ms\tremaining: 6.91s\n",
            "11:\tlearn: 0.6409979\ttotal: 78.6ms\tremaining: 6.47s\n",
            "12:\tlearn: 0.6176282\ttotal: 81.5ms\tremaining: 6.19s\n",
            "13:\tlearn: 0.5975172\ttotal: 84.3ms\tremaining: 5.93s\n",
            "14:\tlearn: 0.5749446\ttotal: 86.9ms\tremaining: 5.7s\n",
            "15:\tlearn: 0.5584845\ttotal: 89.5ms\tremaining: 5.51s\n",
            "16:\tlearn: 0.5373124\ttotal: 91.9ms\tremaining: 5.31s\n",
            "17:\tlearn: 0.5177410\ttotal: 94.6ms\tremaining: 5.16s\n",
            "18:\tlearn: 0.4986203\ttotal: 97.2ms\tremaining: 5.02s\n",
            "19:\tlearn: 0.4827975\ttotal: 104ms\tremaining: 5.08s\n",
            "20:\tlearn: 0.4703299\ttotal: 107ms\tremaining: 4.97s\n",
            "21:\tlearn: 0.4587771\ttotal: 108ms\tremaining: 4.81s\n",
            "22:\tlearn: 0.4453236\ttotal: 111ms\tremaining: 4.71s\n",
            "23:\tlearn: 0.4347576\ttotal: 113ms\tremaining: 4.61s\n",
            "24:\tlearn: 0.4222683\ttotal: 116ms\tremaining: 4.51s\n",
            "25:\tlearn: 0.4107978\ttotal: 118ms\tremaining: 4.43s\n",
            "26:\tlearn: 0.4008735\ttotal: 121ms\tremaining: 4.36s\n",
            "27:\tlearn: 0.3918151\ttotal: 123ms\tremaining: 4.29s\n",
            "28:\tlearn: 0.3821428\ttotal: 126ms\tremaining: 4.22s\n",
            "29:\tlearn: 0.3696866\ttotal: 128ms\tremaining: 4.15s\n",
            "30:\tlearn: 0.3589720\ttotal: 131ms\tremaining: 4.09s\n",
            "31:\tlearn: 0.3490936\ttotal: 134ms\tremaining: 4.06s\n",
            "32:\tlearn: 0.3419212\ttotal: 136ms\tremaining: 3.98s\n",
            "33:\tlearn: 0.3339880\ttotal: 138ms\tremaining: 3.93s\n",
            "34:\tlearn: 0.3249018\ttotal: 141ms\tremaining: 3.88s\n",
            "35:\tlearn: 0.3179832\ttotal: 143ms\tremaining: 3.83s\n",
            "36:\tlearn: 0.3106736\ttotal: 146ms\tremaining: 3.79s\n",
            "37:\tlearn: 0.3001184\ttotal: 149ms\tremaining: 3.77s\n",
            "38:\tlearn: 0.2930542\ttotal: 150ms\tremaining: 3.7s\n",
            "39:\tlearn: 0.2869865\ttotal: 153ms\tremaining: 3.67s\n",
            "40:\tlearn: 0.2781535\ttotal: 156ms\tremaining: 3.64s\n",
            "41:\tlearn: 0.2718733\ttotal: 158ms\tremaining: 3.61s\n",
            "42:\tlearn: 0.2656761\ttotal: 162ms\tremaining: 3.6s\n",
            "43:\tlearn: 0.2586908\ttotal: 164ms\tremaining: 3.56s\n",
            "44:\tlearn: 0.2537195\ttotal: 169ms\tremaining: 3.59s\n",
            "45:\tlearn: 0.2454159\ttotal: 174ms\tremaining: 3.6s\n",
            "46:\tlearn: 0.2394282\ttotal: 176ms\tremaining: 3.56s\n",
            "47:\tlearn: 0.2362729\ttotal: 178ms\tremaining: 3.54s\n",
            "48:\tlearn: 0.2307315\ttotal: 181ms\tremaining: 3.51s\n",
            "49:\tlearn: 0.2263230\ttotal: 184ms\tremaining: 3.49s\n",
            "50:\tlearn: 0.2223495\ttotal: 187ms\tremaining: 3.47s\n",
            "51:\tlearn: 0.2190329\ttotal: 189ms\tremaining: 3.45s\n",
            "52:\tlearn: 0.2148614\ttotal: 192ms\tremaining: 3.43s\n",
            "53:\tlearn: 0.2094766\ttotal: 195ms\tremaining: 3.41s\n",
            "54:\tlearn: 0.2049589\ttotal: 197ms\tremaining: 3.39s\n",
            "55:\tlearn: 0.2012390\ttotal: 200ms\tremaining: 3.37s\n",
            "56:\tlearn: 0.1966120\ttotal: 202ms\tremaining: 3.35s\n",
            "57:\tlearn: 0.1935241\ttotal: 206ms\tremaining: 3.35s\n",
            "58:\tlearn: 0.1894270\ttotal: 208ms\tremaining: 3.31s\n",
            "59:\tlearn: 0.1860925\ttotal: 210ms\tremaining: 3.3s\n",
            "60:\tlearn: 0.1831713\ttotal: 213ms\tremaining: 3.27s\n",
            "61:\tlearn: 0.1795254\ttotal: 215ms\tremaining: 3.25s\n",
            "62:\tlearn: 0.1756240\ttotal: 218ms\tremaining: 3.24s\n",
            "63:\tlearn: 0.1720241\ttotal: 219ms\tremaining: 3.21s\n",
            "64:\tlearn: 0.1685835\ttotal: 222ms\tremaining: 3.19s\n",
            "65:\tlearn: 0.1653215\ttotal: 224ms\tremaining: 3.17s\n",
            "66:\tlearn: 0.1618307\ttotal: 227ms\tremaining: 3.16s\n",
            "67:\tlearn: 0.1598861\ttotal: 228ms\tremaining: 3.13s\n",
            "68:\tlearn: 0.1568874\ttotal: 231ms\tremaining: 3.12s\n",
            "69:\tlearn: 0.1539430\ttotal: 234ms\tremaining: 3.1s\n",
            "70:\tlearn: 0.1513603\ttotal: 236ms\tremaining: 3.09s\n",
            "71:\tlearn: 0.1490476\ttotal: 239ms\tremaining: 3.08s\n",
            "72:\tlearn: 0.1461572\ttotal: 241ms\tremaining: 3.06s\n",
            "73:\tlearn: 0.1433830\ttotal: 247ms\tremaining: 3.09s\n",
            "74:\tlearn: 0.1413542\ttotal: 249ms\tremaining: 3.07s\n",
            "75:\tlearn: 0.1381626\ttotal: 252ms\tremaining: 3.06s\n",
            "76:\tlearn: 0.1359975\ttotal: 254ms\tremaining: 3.05s\n",
            "77:\tlearn: 0.1339275\ttotal: 257ms\tremaining: 3.04s\n",
            "78:\tlearn: 0.1316598\ttotal: 260ms\tremaining: 3.04s\n",
            "79:\tlearn: 0.1297576\ttotal: 263ms\tremaining: 3.02s\n",
            "80:\tlearn: 0.1274797\ttotal: 265ms\tremaining: 3s\n",
            "81:\tlearn: 0.1257365\ttotal: 267ms\tremaining: 2.99s\n",
            "82:\tlearn: 0.1239402\ttotal: 270ms\tremaining: 2.98s\n",
            "83:\tlearn: 0.1215968\ttotal: 272ms\tremaining: 2.97s\n",
            "84:\tlearn: 0.1199577\ttotal: 275ms\tremaining: 2.96s\n",
            "85:\tlearn: 0.1186516\ttotal: 278ms\tremaining: 2.95s\n",
            "86:\tlearn: 0.1169960\ttotal: 280ms\tremaining: 2.94s\n",
            "87:\tlearn: 0.1148045\ttotal: 283ms\tremaining: 2.94s\n",
            "88:\tlearn: 0.1130579\ttotal: 286ms\tremaining: 2.93s\n",
            "89:\tlearn: 0.1113012\ttotal: 289ms\tremaining: 2.92s\n",
            "90:\tlearn: 0.1096286\ttotal: 291ms\tremaining: 2.91s\n",
            "91:\tlearn: 0.1078207\ttotal: 294ms\tremaining: 2.9s\n",
            "92:\tlearn: 0.1059363\ttotal: 296ms\tremaining: 2.89s\n",
            "93:\tlearn: 0.1043464\ttotal: 299ms\tremaining: 2.88s\n",
            "94:\tlearn: 0.1028776\ttotal: 302ms\tremaining: 2.87s\n",
            "95:\tlearn: 0.1013930\ttotal: 304ms\tremaining: 2.86s\n",
            "96:\tlearn: 0.1001352\ttotal: 306ms\tremaining: 2.85s\n",
            "97:\tlearn: 0.0988607\ttotal: 309ms\tremaining: 2.84s\n",
            "98:\tlearn: 0.0976069\ttotal: 311ms\tremaining: 2.83s\n",
            "99:\tlearn: 0.0961106\ttotal: 314ms\tremaining: 2.83s\n",
            "100:\tlearn: 0.0944320\ttotal: 316ms\tremaining: 2.81s\n",
            "101:\tlearn: 0.0934222\ttotal: 318ms\tremaining: 2.8s\n",
            "102:\tlearn: 0.0922063\ttotal: 321ms\tremaining: 2.79s\n",
            "103:\tlearn: 0.0911531\ttotal: 324ms\tremaining: 2.79s\n",
            "104:\tlearn: 0.0901410\ttotal: 326ms\tremaining: 2.78s\n",
            "105:\tlearn: 0.0890883\ttotal: 329ms\tremaining: 2.77s\n",
            "106:\tlearn: 0.0878082\ttotal: 332ms\tremaining: 2.77s\n",
            "107:\tlearn: 0.0866103\ttotal: 334ms\tremaining: 2.76s\n",
            "108:\tlearn: 0.0856130\ttotal: 337ms\tremaining: 2.75s\n",
            "109:\tlearn: 0.0845163\ttotal: 339ms\tremaining: 2.75s\n",
            "110:\tlearn: 0.0836500\ttotal: 342ms\tremaining: 2.74s\n",
            "111:\tlearn: 0.0827151\ttotal: 345ms\tremaining: 2.73s\n",
            "112:\tlearn: 0.0815882\ttotal: 347ms\tremaining: 2.72s\n",
            "113:\tlearn: 0.0807526\ttotal: 350ms\tremaining: 2.72s\n",
            "114:\tlearn: 0.0797127\ttotal: 360ms\tremaining: 2.77s\n",
            "115:\tlearn: 0.0786915\ttotal: 363ms\tremaining: 2.76s\n",
            "116:\tlearn: 0.0776862\ttotal: 366ms\tremaining: 2.76s\n",
            "117:\tlearn: 0.0768157\ttotal: 368ms\tremaining: 2.75s\n",
            "118:\tlearn: 0.0758501\ttotal: 371ms\tremaining: 2.75s\n",
            "119:\tlearn: 0.0750073\ttotal: 375ms\tremaining: 2.75s\n",
            "120:\tlearn: 0.0742692\ttotal: 376ms\tremaining: 2.73s\n",
            "121:\tlearn: 0.0733763\ttotal: 381ms\tremaining: 2.74s\n",
            "122:\tlearn: 0.0725711\ttotal: 382ms\tremaining: 2.73s\n",
            "123:\tlearn: 0.0717729\ttotal: 385ms\tremaining: 2.72s\n",
            "124:\tlearn: 0.0711033\ttotal: 388ms\tremaining: 2.71s\n",
            "125:\tlearn: 0.0704201\ttotal: 391ms\tremaining: 2.71s\n",
            "126:\tlearn: 0.0697836\ttotal: 393ms\tremaining: 2.7s\n",
            "127:\tlearn: 0.0691938\ttotal: 396ms\tremaining: 2.7s\n",
            "128:\tlearn: 0.0686073\ttotal: 399ms\tremaining: 2.69s\n",
            "129:\tlearn: 0.0680092\ttotal: 402ms\tremaining: 2.69s\n",
            "130:\tlearn: 0.0672173\ttotal: 405ms\tremaining: 2.68s\n",
            "131:\tlearn: 0.0665320\ttotal: 407ms\tremaining: 2.67s\n",
            "132:\tlearn: 0.0659854\ttotal: 410ms\tremaining: 2.67s\n",
            "133:\tlearn: 0.0652553\ttotal: 413ms\tremaining: 2.67s\n",
            "134:\tlearn: 0.0647061\ttotal: 415ms\tremaining: 2.66s\n",
            "135:\tlearn: 0.0641618\ttotal: 418ms\tremaining: 2.65s\n",
            "136:\tlearn: 0.0636292\ttotal: 421ms\tremaining: 2.65s\n",
            "137:\tlearn: 0.0629469\ttotal: 423ms\tremaining: 2.65s\n",
            "138:\tlearn: 0.0621989\ttotal: 426ms\tremaining: 2.64s\n",
            "139:\tlearn: 0.0618471\ttotal: 428ms\tremaining: 2.63s\n",
            "140:\tlearn: 0.0612945\ttotal: 431ms\tremaining: 2.63s\n",
            "141:\tlearn: 0.0607001\ttotal: 434ms\tremaining: 2.62s\n",
            "142:\tlearn: 0.0602490\ttotal: 437ms\tremaining: 2.62s\n",
            "143:\tlearn: 0.0595438\ttotal: 439ms\tremaining: 2.61s\n",
            "144:\tlearn: 0.0590249\ttotal: 441ms\tremaining: 2.6s\n",
            "145:\tlearn: 0.0583219\ttotal: 444ms\tremaining: 2.6s\n",
            "146:\tlearn: 0.0576468\ttotal: 447ms\tremaining: 2.59s\n",
            "147:\tlearn: 0.0569810\ttotal: 449ms\tremaining: 2.59s\n",
            "148:\tlearn: 0.0565074\ttotal: 452ms\tremaining: 2.58s\n",
            "149:\tlearn: 0.0560190\ttotal: 455ms\tremaining: 2.58s\n",
            "150:\tlearn: 0.0555921\ttotal: 458ms\tremaining: 2.57s\n",
            "151:\tlearn: 0.0550672\ttotal: 460ms\tremaining: 2.57s\n",
            "152:\tlearn: 0.0546481\ttotal: 463ms\tremaining: 2.56s\n",
            "153:\tlearn: 0.0540353\ttotal: 466ms\tremaining: 2.56s\n",
            "154:\tlearn: 0.0535017\ttotal: 469ms\tremaining: 2.56s\n",
            "155:\tlearn: 0.0528730\ttotal: 471ms\tremaining: 2.55s\n",
            "156:\tlearn: 0.0523879\ttotal: 474ms\tremaining: 2.54s\n",
            "157:\tlearn: 0.0519027\ttotal: 477ms\tremaining: 2.54s\n",
            "158:\tlearn: 0.0514127\ttotal: 480ms\tremaining: 2.54s\n",
            "159:\tlearn: 0.0509345\ttotal: 483ms\tremaining: 2.53s\n",
            "160:\tlearn: 0.0505034\ttotal: 486ms\tremaining: 2.53s\n",
            "161:\tlearn: 0.0501015\ttotal: 488ms\tremaining: 2.52s\n",
            "162:\tlearn: 0.0496659\ttotal: 491ms\tremaining: 2.52s\n",
            "163:\tlearn: 0.0492792\ttotal: 493ms\tremaining: 2.52s\n",
            "164:\tlearn: 0.0489229\ttotal: 496ms\tremaining: 2.51s\n",
            "165:\tlearn: 0.0484695\ttotal: 499ms\tremaining: 2.5s\n",
            "166:\tlearn: 0.0481339\ttotal: 501ms\tremaining: 2.5s\n",
            "167:\tlearn: 0.0476916\ttotal: 504ms\tremaining: 2.5s\n",
            "168:\tlearn: 0.0473229\ttotal: 507ms\tremaining: 2.49s\n",
            "169:\tlearn: 0.0468567\ttotal: 509ms\tremaining: 2.48s\n",
            "170:\tlearn: 0.0464550\ttotal: 512ms\tremaining: 2.48s\n",
            "171:\tlearn: 0.0461368\ttotal: 517ms\tremaining: 2.49s\n",
            "172:\tlearn: 0.0457872\ttotal: 520ms\tremaining: 2.48s\n",
            "173:\tlearn: 0.0454177\ttotal: 522ms\tremaining: 2.48s\n",
            "174:\tlearn: 0.0449250\ttotal: 525ms\tremaining: 2.47s\n",
            "175:\tlearn: 0.0446201\ttotal: 528ms\tremaining: 2.47s\n",
            "176:\tlearn: 0.0443383\ttotal: 530ms\tremaining: 2.46s\n",
            "177:\tlearn: 0.0440394\ttotal: 533ms\tremaining: 2.46s\n",
            "178:\tlearn: 0.0436820\ttotal: 535ms\tremaining: 2.46s\n",
            "179:\tlearn: 0.0434065\ttotal: 538ms\tremaining: 2.45s\n",
            "180:\tlearn: 0.0430578\ttotal: 541ms\tremaining: 2.45s\n",
            "181:\tlearn: 0.0427103\ttotal: 543ms\tremaining: 2.44s\n",
            "182:\tlearn: 0.0424097\ttotal: 546ms\tremaining: 2.44s\n",
            "183:\tlearn: 0.0421195\ttotal: 549ms\tremaining: 2.43s\n",
            "184:\tlearn: 0.0418765\ttotal: 551ms\tremaining: 2.43s\n",
            "185:\tlearn: 0.0415730\ttotal: 554ms\tremaining: 2.42s\n",
            "186:\tlearn: 0.0412867\ttotal: 557ms\tremaining: 2.42s\n",
            "187:\tlearn: 0.0409062\ttotal: 559ms\tremaining: 2.42s\n",
            "188:\tlearn: 0.0406342\ttotal: 562ms\tremaining: 2.41s\n",
            "189:\tlearn: 0.0403197\ttotal: 565ms\tremaining: 2.41s\n",
            "190:\tlearn: 0.0401145\ttotal: 567ms\tremaining: 2.4s\n",
            "191:\tlearn: 0.0397541\ttotal: 570ms\tremaining: 2.4s\n",
            "192:\tlearn: 0.0395744\ttotal: 572ms\tremaining: 2.39s\n",
            "193:\tlearn: 0.0393206\ttotal: 575ms\tremaining: 2.39s\n",
            "194:\tlearn: 0.0390551\ttotal: 577ms\tremaining: 2.38s\n",
            "195:\tlearn: 0.0387675\ttotal: 580ms\tremaining: 2.38s\n",
            "196:\tlearn: 0.0385384\ttotal: 582ms\tremaining: 2.37s\n",
            "197:\tlearn: 0.0382252\ttotal: 585ms\tremaining: 2.37s\n",
            "198:\tlearn: 0.0380137\ttotal: 588ms\tremaining: 2.37s\n",
            "199:\tlearn: 0.0377447\ttotal: 590ms\tremaining: 2.36s\n",
            "200:\tlearn: 0.0375134\ttotal: 593ms\tremaining: 2.36s\n",
            "201:\tlearn: 0.0372204\ttotal: 595ms\tremaining: 2.35s\n",
            "202:\tlearn: 0.0370431\ttotal: 599ms\tremaining: 2.35s\n",
            "203:\tlearn: 0.0368538\ttotal: 601ms\tremaining: 2.34s\n",
            "204:\tlearn: 0.0366019\ttotal: 604ms\tremaining: 2.34s\n",
            "205:\tlearn: 0.0364066\ttotal: 606ms\tremaining: 2.34s\n",
            "206:\tlearn: 0.0362096\ttotal: 609ms\tremaining: 2.33s\n",
            "207:\tlearn: 0.0359268\ttotal: 612ms\tremaining: 2.33s\n",
            "208:\tlearn: 0.0356484\ttotal: 615ms\tremaining: 2.33s\n",
            "209:\tlearn: 0.0354971\ttotal: 617ms\tremaining: 2.32s\n",
            "210:\tlearn: 0.0353030\ttotal: 620ms\tremaining: 2.32s\n",
            "211:\tlearn: 0.0350800\ttotal: 623ms\tremaining: 2.31s\n",
            "212:\tlearn: 0.0348414\ttotal: 625ms\tremaining: 2.31s\n",
            "213:\tlearn: 0.0346287\ttotal: 628ms\tremaining: 2.31s\n",
            "214:\tlearn: 0.0343864\ttotal: 630ms\tremaining: 2.3s\n",
            "215:\tlearn: 0.0341395\ttotal: 633ms\tremaining: 2.3s\n",
            "216:\tlearn: 0.0339568\ttotal: 636ms\tremaining: 2.29s\n",
            "217:\tlearn: 0.0337830\ttotal: 638ms\tremaining: 2.29s\n",
            "218:\tlearn: 0.0335985\ttotal: 641ms\tremaining: 2.29s\n",
            "219:\tlearn: 0.0334129\ttotal: 644ms\tremaining: 2.28s\n",
            "220:\tlearn: 0.0332206\ttotal: 648ms\tremaining: 2.29s\n",
            "221:\tlearn: 0.0330574\ttotal: 650ms\tremaining: 2.28s\n",
            "222:\tlearn: 0.0328994\ttotal: 653ms\tremaining: 2.27s\n",
            "223:\tlearn: 0.0327278\ttotal: 656ms\tremaining: 2.27s\n",
            "224:\tlearn: 0.0325491\ttotal: 658ms\tremaining: 2.27s\n",
            "225:\tlearn: 0.0323543\ttotal: 661ms\tremaining: 2.26s\n",
            "226:\tlearn: 0.0321928\ttotal: 664ms\tremaining: 2.26s\n",
            "227:\tlearn: 0.0320725\ttotal: 668ms\tremaining: 2.26s\n",
            "228:\tlearn: 0.0318715\ttotal: 671ms\tremaining: 2.26s\n",
            "229:\tlearn: 0.0316856\ttotal: 673ms\tremaining: 2.25s\n",
            "230:\tlearn: 0.0315115\ttotal: 676ms\tremaining: 2.25s\n",
            "231:\tlearn: 0.0313058\ttotal: 679ms\tremaining: 2.25s\n",
            "232:\tlearn: 0.0311484\ttotal: 682ms\tremaining: 2.24s\n",
            "233:\tlearn: 0.0310184\ttotal: 684ms\tremaining: 2.24s\n",
            "234:\tlearn: 0.0308607\ttotal: 686ms\tremaining: 2.23s\n",
            "235:\tlearn: 0.0306806\ttotal: 688ms\tremaining: 2.23s\n",
            "236:\tlearn: 0.0304929\ttotal: 698ms\tremaining: 2.25s\n",
            "237:\tlearn: 0.0303202\ttotal: 701ms\tremaining: 2.25s\n",
            "238:\tlearn: 0.0301921\ttotal: 708ms\tremaining: 2.25s\n",
            "239:\tlearn: 0.0300384\ttotal: 713ms\tremaining: 2.26s\n",
            "240:\tlearn: 0.0298981\ttotal: 716ms\tremaining: 2.25s\n",
            "241:\tlearn: 0.0297628\ttotal: 718ms\tremaining: 2.25s\n",
            "242:\tlearn: 0.0296333\ttotal: 721ms\tremaining: 2.25s\n",
            "243:\tlearn: 0.0294475\ttotal: 724ms\tremaining: 2.24s\n",
            "244:\tlearn: 0.0292232\ttotal: 727ms\tremaining: 2.24s\n",
            "245:\tlearn: 0.0291065\ttotal: 729ms\tremaining: 2.23s\n",
            "246:\tlearn: 0.0289860\ttotal: 731ms\tremaining: 2.23s\n",
            "247:\tlearn: 0.0288315\ttotal: 734ms\tremaining: 2.23s\n",
            "248:\tlearn: 0.0287408\ttotal: 737ms\tremaining: 2.22s\n",
            "249:\tlearn: 0.0286006\ttotal: 739ms\tremaining: 2.22s\n",
            "250:\tlearn: 0.0284675\ttotal: 742ms\tremaining: 2.21s\n",
            "251:\tlearn: 0.0283201\ttotal: 744ms\tremaining: 2.21s\n",
            "252:\tlearn: 0.0282177\ttotal: 747ms\tremaining: 2.21s\n",
            "253:\tlearn: 0.0280767\ttotal: 749ms\tremaining: 2.2s\n",
            "254:\tlearn: 0.0278992\ttotal: 752ms\tremaining: 2.2s\n",
            "255:\tlearn: 0.0277957\ttotal: 755ms\tremaining: 2.19s\n",
            "256:\tlearn: 0.0276810\ttotal: 757ms\tremaining: 2.19s\n",
            "257:\tlearn: 0.0275452\ttotal: 760ms\tremaining: 2.19s\n",
            "258:\tlearn: 0.0273923\ttotal: 763ms\tremaining: 2.18s\n",
            "259:\tlearn: 0.0272622\ttotal: 766ms\tremaining: 2.18s\n",
            "260:\tlearn: 0.0271373\ttotal: 768ms\tremaining: 2.17s\n",
            "261:\tlearn: 0.0270102\ttotal: 771ms\tremaining: 2.17s\n",
            "262:\tlearn: 0.0268746\ttotal: 773ms\tremaining: 2.17s\n",
            "263:\tlearn: 0.0267163\ttotal: 776ms\tremaining: 2.16s\n",
            "264:\tlearn: 0.0266071\ttotal: 778ms\tremaining: 2.16s\n",
            "265:\tlearn: 0.0264751\ttotal: 781ms\tremaining: 2.15s\n",
            "266:\tlearn: 0.0263578\ttotal: 783ms\tremaining: 2.15s\n",
            "267:\tlearn: 0.0262487\ttotal: 786ms\tremaining: 2.15s\n",
            "268:\tlearn: 0.0261231\ttotal: 789ms\tremaining: 2.14s\n",
            "269:\tlearn: 0.0259738\ttotal: 791ms\tremaining: 2.14s\n",
            "270:\tlearn: 0.0258825\ttotal: 794ms\tremaining: 2.13s\n",
            "271:\tlearn: 0.0257245\ttotal: 796ms\tremaining: 2.13s\n",
            "272:\tlearn: 0.0256002\ttotal: 799ms\tremaining: 2.13s\n",
            "273:\tlearn: 0.0254761\ttotal: 802ms\tremaining: 2.12s\n",
            "274:\tlearn: 0.0252817\ttotal: 804ms\tremaining: 2.12s\n",
            "275:\tlearn: 0.0251799\ttotal: 807ms\tremaining: 2.12s\n",
            "276:\tlearn: 0.0250792\ttotal: 810ms\tremaining: 2.11s\n",
            "277:\tlearn: 0.0249811\ttotal: 813ms\tremaining: 2.11s\n",
            "278:\tlearn: 0.0248920\ttotal: 816ms\tremaining: 2.11s\n",
            "279:\tlearn: 0.0247757\ttotal: 819ms\tremaining: 2.1s\n",
            "280:\tlearn: 0.0246829\ttotal: 821ms\tremaining: 2.1s\n",
            "281:\tlearn: 0.0245914\ttotal: 824ms\tremaining: 2.1s\n",
            "282:\tlearn: 0.0244947\ttotal: 826ms\tremaining: 2.09s\n",
            "283:\tlearn: 0.0244074\ttotal: 829ms\tremaining: 2.09s\n",
            "284:\tlearn: 0.0242682\ttotal: 832ms\tremaining: 2.09s\n",
            "285:\tlearn: 0.0241414\ttotal: 834ms\tremaining: 2.08s\n",
            "286:\tlearn: 0.0240530\ttotal: 837ms\tremaining: 2.08s\n",
            "287:\tlearn: 0.0239454\ttotal: 840ms\tremaining: 2.08s\n",
            "288:\tlearn: 0.0238367\ttotal: 842ms\tremaining: 2.07s\n",
            "289:\tlearn: 0.0237297\ttotal: 846ms\tremaining: 2.07s\n",
            "290:\tlearn: 0.0236208\ttotal: 848ms\tremaining: 2.07s\n",
            "291:\tlearn: 0.0235222\ttotal: 851ms\tremaining: 2.06s\n",
            "292:\tlearn: 0.0234303\ttotal: 854ms\tremaining: 2.06s\n",
            "293:\tlearn: 0.0233278\ttotal: 856ms\tremaining: 2.06s\n",
            "294:\tlearn: 0.0232182\ttotal: 859ms\tremaining: 2.05s\n",
            "295:\tlearn: 0.0231039\ttotal: 861ms\tremaining: 2.05s\n",
            "296:\tlearn: 0.0230034\ttotal: 864ms\tremaining: 2.04s\n",
            "297:\tlearn: 0.0228867\ttotal: 866ms\tremaining: 2.04s\n",
            "298:\tlearn: 0.0228153\ttotal: 869ms\tremaining: 2.04s\n",
            "299:\tlearn: 0.0227131\ttotal: 872ms\tremaining: 2.03s\n",
            "300:\tlearn: 0.0226186\ttotal: 875ms\tremaining: 2.03s\n",
            "301:\tlearn: 0.0225028\ttotal: 877ms\tremaining: 2.03s\n",
            "302:\tlearn: 0.0224445\ttotal: 880ms\tremaining: 2.02s\n",
            "303:\tlearn: 0.0223247\ttotal: 883ms\tremaining: 2.02s\n",
            "304:\tlearn: 0.0222451\ttotal: 886ms\tremaining: 2.02s\n",
            "305:\tlearn: 0.0221702\ttotal: 888ms\tremaining: 2.01s\n",
            "306:\tlearn: 0.0220650\ttotal: 891ms\tremaining: 2.01s\n",
            "307:\tlearn: 0.0219916\ttotal: 894ms\tremaining: 2.01s\n",
            "308:\tlearn: 0.0219017\ttotal: 896ms\tremaining: 2s\n",
            "309:\tlearn: 0.0218233\ttotal: 899ms\tremaining: 2s\n",
            "310:\tlearn: 0.0217708\ttotal: 902ms\tremaining: 2s\n",
            "311:\tlearn: 0.0216988\ttotal: 905ms\tremaining: 2s\n",
            "312:\tlearn: 0.0216075\ttotal: 908ms\tremaining: 1.99s\n",
            "313:\tlearn: 0.0215210\ttotal: 911ms\tremaining: 1.99s\n",
            "314:\tlearn: 0.0214333\ttotal: 914ms\tremaining: 1.99s\n",
            "315:\tlearn: 0.0213459\ttotal: 916ms\tremaining: 1.98s\n",
            "316:\tlearn: 0.0212749\ttotal: 919ms\tremaining: 1.98s\n",
            "317:\tlearn: 0.0211746\ttotal: 922ms\tremaining: 1.98s\n",
            "318:\tlearn: 0.0211006\ttotal: 924ms\tremaining: 1.97s\n",
            "319:\tlearn: 0.0210212\ttotal: 927ms\tremaining: 1.97s\n",
            "320:\tlearn: 0.0209284\ttotal: 929ms\tremaining: 1.97s\n",
            "321:\tlearn: 0.0208371\ttotal: 932ms\tremaining: 1.96s\n",
            "322:\tlearn: 0.0207592\ttotal: 934ms\tremaining: 1.96s\n",
            "323:\tlearn: 0.0206607\ttotal: 936ms\tremaining: 1.95s\n",
            "324:\tlearn: 0.0205954\ttotal: 939ms\tremaining: 1.95s\n",
            "325:\tlearn: 0.0205375\ttotal: 942ms\tremaining: 1.95s\n",
            "326:\tlearn: 0.0204691\ttotal: 944ms\tremaining: 1.94s\n",
            "327:\tlearn: 0.0203981\ttotal: 947ms\tremaining: 1.94s\n",
            "328:\tlearn: 0.0203378\ttotal: 950ms\tremaining: 1.94s\n",
            "329:\tlearn: 0.0202767\ttotal: 952ms\tremaining: 1.93s\n",
            "330:\tlearn: 0.0202140\ttotal: 955ms\tremaining: 1.93s\n",
            "331:\tlearn: 0.0201469\ttotal: 958ms\tremaining: 1.93s\n",
            "332:\tlearn: 0.0200756\ttotal: 959ms\tremaining: 1.92s\n",
            "333:\tlearn: 0.0200121\ttotal: 960ms\tremaining: 1.91s\n",
            "334:\tlearn: 0.0199523\ttotal: 960ms\tremaining: 1.91s\n",
            "335:\tlearn: 0.0198955\ttotal: 961ms\tremaining: 1.9s\n",
            "336:\tlearn: 0.0198497\ttotal: 962ms\tremaining: 1.89s\n",
            "337:\tlearn: 0.0197925\ttotal: 963ms\tremaining: 1.89s\n",
            "338:\tlearn: 0.0197310\ttotal: 966ms\tremaining: 1.88s\n",
            "339:\tlearn: 0.0196684\ttotal: 966ms\tremaining: 1.88s\n",
            "340:\tlearn: 0.0196019\ttotal: 967ms\tremaining: 1.87s\n",
            "341:\tlearn: 0.0195269\ttotal: 973ms\tremaining: 1.87s\n",
            "342:\tlearn: 0.0194729\ttotal: 974ms\tremaining: 1.87s\n",
            "343:\tlearn: 0.0194201\ttotal: 976ms\tremaining: 1.86s\n",
            "344:\tlearn: 0.0193690\ttotal: 977ms\tremaining: 1.85s\n",
            "345:\tlearn: 0.0192980\ttotal: 981ms\tremaining: 1.85s\n",
            "346:\tlearn: 0.0192455\ttotal: 986ms\tremaining: 1.85s\n",
            "347:\tlearn: 0.0191911\ttotal: 987ms\tremaining: 1.85s\n",
            "348:\tlearn: 0.0191171\ttotal: 989ms\tremaining: 1.84s\n",
            "349:\tlearn: 0.0190571\ttotal: 990ms\tremaining: 1.84s\n",
            "350:\tlearn: 0.0189796\ttotal: 991ms\tremaining: 1.83s\n",
            "351:\tlearn: 0.0188977\ttotal: 995ms\tremaining: 1.83s\n",
            "352:\tlearn: 0.0188405\ttotal: 996ms\tremaining: 1.82s\n",
            "353:\tlearn: 0.0187840\ttotal: 998ms\tremaining: 1.82s\n",
            "354:\tlearn: 0.0187062\ttotal: 999ms\tremaining: 1.81s\n",
            "355:\tlearn: 0.0186550\ttotal: 1s\tremaining: 1.81s\n",
            "356:\tlearn: 0.0185899\ttotal: 1s\tremaining: 1.81s\n",
            "357:\tlearn: 0.0185405\ttotal: 1.01s\tremaining: 1.8s\n",
            "358:\tlearn: 0.0185012\ttotal: 1.01s\tremaining: 1.8s\n",
            "359:\tlearn: 0.0184390\ttotal: 1.02s\tremaining: 1.81s\n",
            "360:\tlearn: 0.0183607\ttotal: 1.02s\tremaining: 1.8s\n",
            "361:\tlearn: 0.0183098\ttotal: 1.02s\tremaining: 1.8s\n",
            "362:\tlearn: 0.0182145\ttotal: 1.02s\tremaining: 1.8s\n",
            "363:\tlearn: 0.0181544\ttotal: 1.03s\tremaining: 1.8s\n",
            "364:\tlearn: 0.0180980\ttotal: 1.04s\tremaining: 1.81s\n",
            "365:\tlearn: 0.0180337\ttotal: 1.04s\tremaining: 1.81s\n",
            "366:\tlearn: 0.0179807\ttotal: 1.04s\tremaining: 1.8s\n",
            "367:\tlearn: 0.0179233\ttotal: 1.05s\tremaining: 1.8s\n",
            "368:\tlearn: 0.0178698\ttotal: 1.05s\tremaining: 1.79s\n",
            "369:\tlearn: 0.0178155\ttotal: 1.05s\tremaining: 1.78s\n",
            "370:\tlearn: 0.0177685\ttotal: 1.05s\tremaining: 1.78s\n",
            "371:\tlearn: 0.0177010\ttotal: 1.05s\tremaining: 1.77s\n",
            "372:\tlearn: 0.0176531\ttotal: 1.05s\tremaining: 1.77s\n",
            "373:\tlearn: 0.0175954\ttotal: 1.05s\tremaining: 1.76s\n",
            "374:\tlearn: 0.0175466\ttotal: 1.05s\tremaining: 1.75s\n",
            "375:\tlearn: 0.0174983\ttotal: 1.05s\tremaining: 1.75s\n",
            "376:\tlearn: 0.0174197\ttotal: 1.05s\tremaining: 1.74s\n",
            "377:\tlearn: 0.0173597\ttotal: 1.05s\tremaining: 1.74s\n",
            "378:\tlearn: 0.0172880\ttotal: 1.06s\tremaining: 1.73s\n",
            "379:\tlearn: 0.0172243\ttotal: 1.06s\tremaining: 1.72s\n",
            "380:\tlearn: 0.0171616\ttotal: 1.06s\tremaining: 1.72s\n",
            "381:\tlearn: 0.0170987\ttotal: 1.06s\tremaining: 1.71s\n",
            "382:\tlearn: 0.0170422\ttotal: 1.06s\tremaining: 1.71s\n",
            "383:\tlearn: 0.0170010\ttotal: 1.06s\tremaining: 1.7s\n",
            "384:\tlearn: 0.0169483\ttotal: 1.06s\tremaining: 1.7s\n",
            "385:\tlearn: 0.0168860\ttotal: 1.06s\tremaining: 1.69s\n",
            "386:\tlearn: 0.0168429\ttotal: 1.06s\tremaining: 1.68s\n",
            "387:\tlearn: 0.0168013\ttotal: 1.06s\tremaining: 1.68s\n",
            "388:\tlearn: 0.0167621\ttotal: 1.06s\tremaining: 1.67s\n",
            "389:\tlearn: 0.0167036\ttotal: 1.06s\tremaining: 1.67s\n",
            "390:\tlearn: 0.0166619\ttotal: 1.07s\tremaining: 1.66s\n",
            "391:\tlearn: 0.0166172\ttotal: 1.07s\tremaining: 1.66s\n",
            "392:\tlearn: 0.0165754\ttotal: 1.07s\tremaining: 1.65s\n",
            "393:\tlearn: 0.0165214\ttotal: 1.07s\tremaining: 1.65s\n",
            "394:\tlearn: 0.0164800\ttotal: 1.07s\tremaining: 1.64s\n",
            "395:\tlearn: 0.0164348\ttotal: 1.07s\tremaining: 1.63s\n",
            "396:\tlearn: 0.0163803\ttotal: 1.07s\tremaining: 1.63s\n",
            "397:\tlearn: 0.0163377\ttotal: 1.07s\tremaining: 1.62s\n",
            "398:\tlearn: 0.0162780\ttotal: 1.07s\tremaining: 1.62s\n",
            "399:\tlearn: 0.0162265\ttotal: 1.07s\tremaining: 1.61s\n",
            "400:\tlearn: 0.0161729\ttotal: 1.08s\tremaining: 1.61s\n",
            "401:\tlearn: 0.0161413\ttotal: 1.08s\tremaining: 1.6s\n",
            "402:\tlearn: 0.0160942\ttotal: 1.08s\tremaining: 1.6s\n",
            "403:\tlearn: 0.0160579\ttotal: 1.08s\tremaining: 1.59s\n",
            "404:\tlearn: 0.0160148\ttotal: 1.08s\tremaining: 1.59s\n",
            "405:\tlearn: 0.0159751\ttotal: 1.08s\tremaining: 1.58s\n",
            "406:\tlearn: 0.0159334\ttotal: 1.08s\tremaining: 1.58s\n",
            "407:\tlearn: 0.0158976\ttotal: 1.08s\tremaining: 1.57s\n",
            "408:\tlearn: 0.0158526\ttotal: 1.08s\tremaining: 1.57s\n",
            "409:\tlearn: 0.0158112\ttotal: 1.08s\tremaining: 1.56s\n",
            "410:\tlearn: 0.0157606\ttotal: 1.08s\tremaining: 1.55s\n",
            "411:\tlearn: 0.0157169\ttotal: 1.09s\tremaining: 1.55s\n",
            "412:\tlearn: 0.0156787\ttotal: 1.09s\tremaining: 1.54s\n",
            "413:\tlearn: 0.0156493\ttotal: 1.09s\tremaining: 1.54s\n",
            "414:\tlearn: 0.0155986\ttotal: 1.09s\tremaining: 1.53s\n",
            "415:\tlearn: 0.0155556\ttotal: 1.09s\tremaining: 1.53s\n",
            "416:\tlearn: 0.0155185\ttotal: 1.09s\tremaining: 1.53s\n",
            "417:\tlearn: 0.0154715\ttotal: 1.09s\tremaining: 1.52s\n",
            "418:\tlearn: 0.0154370\ttotal: 1.09s\tremaining: 1.52s\n",
            "419:\tlearn: 0.0153931\ttotal: 1.09s\tremaining: 1.51s\n",
            "420:\tlearn: 0.0153523\ttotal: 1.1s\tremaining: 1.51s\n",
            "421:\tlearn: 0.0153095\ttotal: 1.1s\tremaining: 1.5s\n",
            "422:\tlearn: 0.0152617\ttotal: 1.1s\tremaining: 1.5s\n",
            "423:\tlearn: 0.0152218\ttotal: 1.1s\tremaining: 1.49s\n",
            "424:\tlearn: 0.0151843\ttotal: 1.1s\tremaining: 1.49s\n",
            "425:\tlearn: 0.0151425\ttotal: 1.1s\tremaining: 1.48s\n",
            "426:\tlearn: 0.0150914\ttotal: 1.1s\tremaining: 1.48s\n",
            "427:\tlearn: 0.0150462\ttotal: 1.1s\tremaining: 1.47s\n",
            "428:\tlearn: 0.0150079\ttotal: 1.1s\tremaining: 1.47s\n",
            "429:\tlearn: 0.0149747\ttotal: 1.1s\tremaining: 1.46s\n",
            "430:\tlearn: 0.0149203\ttotal: 1.1s\tremaining: 1.46s\n",
            "431:\tlearn: 0.0148851\ttotal: 1.11s\tremaining: 1.46s\n",
            "432:\tlearn: 0.0148461\ttotal: 1.11s\tremaining: 1.45s\n",
            "433:\tlearn: 0.0148006\ttotal: 1.11s\tremaining: 1.45s\n",
            "434:\tlearn: 0.0147616\ttotal: 1.11s\tremaining: 1.44s\n",
            "435:\tlearn: 0.0147173\ttotal: 1.11s\tremaining: 1.44s\n",
            "436:\tlearn: 0.0146730\ttotal: 1.11s\tremaining: 1.43s\n",
            "437:\tlearn: 0.0146430\ttotal: 1.11s\tremaining: 1.43s\n",
            "438:\tlearn: 0.0145861\ttotal: 1.11s\tremaining: 1.43s\n",
            "439:\tlearn: 0.0145450\ttotal: 1.12s\tremaining: 1.42s\n",
            "440:\tlearn: 0.0145005\ttotal: 1.12s\tremaining: 1.42s\n",
            "441:\tlearn: 0.0144640\ttotal: 1.12s\tremaining: 1.41s\n",
            "442:\tlearn: 0.0144281\ttotal: 1.12s\tremaining: 1.41s\n",
            "443:\tlearn: 0.0143992\ttotal: 1.12s\tremaining: 1.4s\n",
            "444:\tlearn: 0.0143651\ttotal: 1.12s\tremaining: 1.4s\n",
            "445:\tlearn: 0.0143336\ttotal: 1.12s\tremaining: 1.4s\n",
            "446:\tlearn: 0.0143010\ttotal: 1.13s\tremaining: 1.39s\n",
            "447:\tlearn: 0.0142680\ttotal: 1.13s\tremaining: 1.39s\n",
            "448:\tlearn: 0.0142217\ttotal: 1.13s\tremaining: 1.38s\n",
            "449:\tlearn: 0.0141767\ttotal: 1.13s\tremaining: 1.38s\n",
            "450:\tlearn: 0.0141349\ttotal: 1.13s\tremaining: 1.37s\n",
            "451:\tlearn: 0.0140968\ttotal: 1.13s\tremaining: 1.37s\n",
            "452:\tlearn: 0.0140663\ttotal: 1.13s\tremaining: 1.37s\n",
            "453:\tlearn: 0.0140253\ttotal: 1.13s\tremaining: 1.36s\n",
            "454:\tlearn: 0.0139822\ttotal: 1.13s\tremaining: 1.36s\n",
            "455:\tlearn: 0.0139411\ttotal: 1.14s\tremaining: 1.36s\n",
            "456:\tlearn: 0.0139104\ttotal: 1.14s\tremaining: 1.36s\n",
            "457:\tlearn: 0.0138644\ttotal: 1.14s\tremaining: 1.35s\n",
            "458:\tlearn: 0.0138242\ttotal: 1.14s\tremaining: 1.35s\n",
            "459:\tlearn: 0.0137963\ttotal: 1.14s\tremaining: 1.34s\n",
            "460:\tlearn: 0.0137677\ttotal: 1.15s\tremaining: 1.34s\n",
            "461:\tlearn: 0.0137381\ttotal: 1.15s\tremaining: 1.33s\n",
            "462:\tlearn: 0.0137016\ttotal: 1.15s\tremaining: 1.33s\n",
            "463:\tlearn: 0.0136614\ttotal: 1.15s\tremaining: 1.33s\n",
            "464:\tlearn: 0.0136271\ttotal: 1.15s\tremaining: 1.32s\n",
            "465:\tlearn: 0.0135883\ttotal: 1.15s\tremaining: 1.32s\n",
            "466:\tlearn: 0.0135552\ttotal: 1.15s\tremaining: 1.31s\n",
            "467:\tlearn: 0.0135200\ttotal: 1.15s\tremaining: 1.31s\n",
            "468:\tlearn: 0.0134803\ttotal: 1.15s\tremaining: 1.3s\n",
            "469:\tlearn: 0.0134420\ttotal: 1.15s\tremaining: 1.3s\n",
            "470:\tlearn: 0.0134000\ttotal: 1.15s\tremaining: 1.3s\n",
            "471:\tlearn: 0.0133676\ttotal: 1.16s\tremaining: 1.29s\n",
            "472:\tlearn: 0.0133326\ttotal: 1.16s\tremaining: 1.29s\n",
            "473:\tlearn: 0.0132965\ttotal: 1.16s\tremaining: 1.28s\n",
            "474:\tlearn: 0.0132568\ttotal: 1.16s\tremaining: 1.28s\n",
            "475:\tlearn: 0.0132217\ttotal: 1.16s\tremaining: 1.28s\n",
            "476:\tlearn: 0.0131941\ttotal: 1.16s\tremaining: 1.27s\n",
            "477:\tlearn: 0.0131558\ttotal: 1.16s\tremaining: 1.27s\n",
            "478:\tlearn: 0.0131294\ttotal: 1.16s\tremaining: 1.26s\n",
            "479:\tlearn: 0.0131023\ttotal: 1.16s\tremaining: 1.26s\n",
            "480:\tlearn: 0.0130682\ttotal: 1.16s\tremaining: 1.25s\n",
            "481:\tlearn: 0.0130392\ttotal: 1.17s\tremaining: 1.25s\n",
            "482:\tlearn: 0.0130086\ttotal: 1.17s\tremaining: 1.25s\n",
            "483:\tlearn: 0.0129752\ttotal: 1.17s\tremaining: 1.24s\n",
            "484:\tlearn: 0.0129459\ttotal: 1.17s\tremaining: 1.24s\n",
            "485:\tlearn: 0.0129113\ttotal: 1.17s\tremaining: 1.24s\n",
            "486:\tlearn: 0.0128828\ttotal: 1.17s\tremaining: 1.23s\n",
            "487:\tlearn: 0.0128484\ttotal: 1.17s\tremaining: 1.23s\n",
            "488:\tlearn: 0.0128259\ttotal: 1.17s\tremaining: 1.22s\n",
            "489:\tlearn: 0.0127945\ttotal: 1.17s\tremaining: 1.22s\n",
            "490:\tlearn: 0.0127645\ttotal: 1.17s\tremaining: 1.22s\n",
            "491:\tlearn: 0.0127402\ttotal: 1.17s\tremaining: 1.21s\n",
            "492:\tlearn: 0.0127026\ttotal: 1.18s\tremaining: 1.21s\n",
            "493:\tlearn: 0.0126811\ttotal: 1.18s\tremaining: 1.21s\n",
            "494:\tlearn: 0.0126544\ttotal: 1.18s\tremaining: 1.2s\n",
            "495:\tlearn: 0.0126287\ttotal: 1.18s\tremaining: 1.2s\n",
            "496:\tlearn: 0.0125998\ttotal: 1.18s\tremaining: 1.19s\n",
            "497:\tlearn: 0.0125765\ttotal: 1.18s\tremaining: 1.19s\n",
            "498:\tlearn: 0.0125537\ttotal: 1.18s\tremaining: 1.19s\n",
            "499:\tlearn: 0.0125220\ttotal: 1.18s\tremaining: 1.18s\n",
            "500:\tlearn: 0.0124885\ttotal: 1.18s\tremaining: 1.18s\n",
            "501:\tlearn: 0.0124595\ttotal: 1.18s\tremaining: 1.17s\n",
            "502:\tlearn: 0.0124347\ttotal: 1.19s\tremaining: 1.17s\n",
            "503:\tlearn: 0.0124083\ttotal: 1.19s\tremaining: 1.17s\n",
            "504:\tlearn: 0.0123752\ttotal: 1.19s\tremaining: 1.16s\n",
            "505:\tlearn: 0.0123412\ttotal: 1.19s\tremaining: 1.16s\n",
            "506:\tlearn: 0.0123152\ttotal: 1.19s\tremaining: 1.16s\n",
            "507:\tlearn: 0.0122901\ttotal: 1.19s\tremaining: 1.15s\n",
            "508:\tlearn: 0.0122695\ttotal: 1.19s\tremaining: 1.15s\n",
            "509:\tlearn: 0.0122471\ttotal: 1.19s\tremaining: 1.15s\n",
            "510:\tlearn: 0.0122142\ttotal: 1.19s\tremaining: 1.14s\n",
            "511:\tlearn: 0.0121884\ttotal: 1.19s\tremaining: 1.14s\n",
            "512:\tlearn: 0.0121518\ttotal: 1.19s\tremaining: 1.13s\n",
            "513:\tlearn: 0.0121190\ttotal: 1.2s\tremaining: 1.13s\n",
            "514:\tlearn: 0.0120878\ttotal: 1.2s\tremaining: 1.13s\n",
            "515:\tlearn: 0.0120548\ttotal: 1.2s\tremaining: 1.12s\n",
            "516:\tlearn: 0.0120286\ttotal: 1.2s\tremaining: 1.12s\n",
            "517:\tlearn: 0.0120086\ttotal: 1.2s\tremaining: 1.12s\n",
            "518:\tlearn: 0.0119905\ttotal: 1.2s\tremaining: 1.11s\n",
            "519:\tlearn: 0.0119635\ttotal: 1.2s\tremaining: 1.11s\n",
            "520:\tlearn: 0.0119397\ttotal: 1.2s\tremaining: 1.1s\n",
            "521:\tlearn: 0.0119180\ttotal: 1.2s\tremaining: 1.1s\n",
            "522:\tlearn: 0.0118919\ttotal: 1.2s\tremaining: 1.1s\n",
            "523:\tlearn: 0.0118616\ttotal: 1.21s\tremaining: 1.09s\n",
            "524:\tlearn: 0.0118375\ttotal: 1.21s\tremaining: 1.09s\n",
            "525:\tlearn: 0.0118125\ttotal: 1.21s\tremaining: 1.09s\n",
            "526:\tlearn: 0.0117943\ttotal: 1.21s\tremaining: 1.09s\n",
            "527:\tlearn: 0.0117685\ttotal: 1.21s\tremaining: 1.08s\n",
            "528:\tlearn: 0.0117424\ttotal: 1.21s\tremaining: 1.08s\n",
            "529:\tlearn: 0.0117138\ttotal: 1.22s\tremaining: 1.08s\n",
            "530:\tlearn: 0.0116899\ttotal: 1.22s\tremaining: 1.07s\n",
            "531:\tlearn: 0.0116683\ttotal: 1.22s\tremaining: 1.07s\n",
            "532:\tlearn: 0.0116453\ttotal: 1.22s\tremaining: 1.07s\n",
            "533:\tlearn: 0.0116207\ttotal: 1.22s\tremaining: 1.06s\n",
            "534:\tlearn: 0.0115934\ttotal: 1.22s\tremaining: 1.06s\n",
            "535:\tlearn: 0.0115741\ttotal: 1.22s\tremaining: 1.06s\n",
            "536:\tlearn: 0.0115511\ttotal: 1.22s\tremaining: 1.05s\n",
            "537:\tlearn: 0.0115344\ttotal: 1.22s\tremaining: 1.05s\n",
            "538:\tlearn: 0.0115116\ttotal: 1.23s\tremaining: 1.05s\n",
            "539:\tlearn: 0.0114927\ttotal: 1.23s\tremaining: 1.04s\n",
            "540:\tlearn: 0.0114618\ttotal: 1.23s\tremaining: 1.04s\n",
            "541:\tlearn: 0.0114283\ttotal: 1.23s\tremaining: 1.04s\n",
            "542:\tlearn: 0.0113958\ttotal: 1.23s\tremaining: 1.03s\n",
            "543:\tlearn: 0.0113749\ttotal: 1.23s\tremaining: 1.03s\n",
            "544:\tlearn: 0.0113366\ttotal: 1.23s\tremaining: 1.03s\n",
            "545:\tlearn: 0.0113132\ttotal: 1.23s\tremaining: 1.02s\n",
            "546:\tlearn: 0.0112895\ttotal: 1.23s\tremaining: 1.02s\n",
            "547:\tlearn: 0.0112649\ttotal: 1.23s\tremaining: 1.02s\n",
            "548:\tlearn: 0.0112422\ttotal: 1.23s\tremaining: 1.01s\n",
            "549:\tlearn: 0.0112189\ttotal: 1.24s\tremaining: 1.01s\n",
            "550:\tlearn: 0.0111982\ttotal: 1.24s\tremaining: 1.01s\n",
            "551:\tlearn: 0.0111827\ttotal: 1.24s\tremaining: 1s\n",
            "552:\tlearn: 0.0111584\ttotal: 1.24s\tremaining: 1s\n",
            "553:\tlearn: 0.0111307\ttotal: 1.24s\tremaining: 997ms\n",
            "554:\tlearn: 0.0111095\ttotal: 1.24s\tremaining: 994ms\n",
            "555:\tlearn: 0.0110900\ttotal: 1.24s\tremaining: 990ms\n",
            "556:\tlearn: 0.0110697\ttotal: 1.24s\tremaining: 987ms\n",
            "557:\tlearn: 0.0110468\ttotal: 1.24s\tremaining: 984ms\n",
            "558:\tlearn: 0.0110276\ttotal: 1.24s\tremaining: 981ms\n",
            "559:\tlearn: 0.0110088\ttotal: 1.24s\tremaining: 978ms\n",
            "560:\tlearn: 0.0109813\ttotal: 1.24s\tremaining: 974ms\n",
            "561:\tlearn: 0.0109556\ttotal: 1.25s\tremaining: 971ms\n",
            "562:\tlearn: 0.0109325\ttotal: 1.25s\tremaining: 968ms\n",
            "563:\tlearn: 0.0109080\ttotal: 1.25s\tremaining: 967ms\n",
            "564:\tlearn: 0.0108827\ttotal: 1.25s\tremaining: 964ms\n",
            "565:\tlearn: 0.0108647\ttotal: 1.25s\tremaining: 961ms\n",
            "566:\tlearn: 0.0108456\ttotal: 1.26s\tremaining: 962ms\n",
            "567:\tlearn: 0.0108248\ttotal: 1.26s\tremaining: 960ms\n",
            "568:\tlearn: 0.0108086\ttotal: 1.26s\tremaining: 957ms\n",
            "569:\tlearn: 0.0107884\ttotal: 1.27s\tremaining: 956ms\n",
            "570:\tlearn: 0.0107630\ttotal: 1.27s\tremaining: 953ms\n",
            "571:\tlearn: 0.0107441\ttotal: 1.27s\tremaining: 953ms\n",
            "572:\tlearn: 0.0107203\ttotal: 1.28s\tremaining: 953ms\n",
            "573:\tlearn: 0.0106943\ttotal: 1.28s\tremaining: 952ms\n",
            "574:\tlearn: 0.0106775\ttotal: 1.28s\tremaining: 950ms\n",
            "575:\tlearn: 0.0106554\ttotal: 1.29s\tremaining: 948ms\n",
            "576:\tlearn: 0.0106233\ttotal: 1.29s\tremaining: 948ms\n",
            "577:\tlearn: 0.0105991\ttotal: 1.3s\tremaining: 950ms\n",
            "578:\tlearn: 0.0105825\ttotal: 1.3s\tremaining: 948ms\n",
            "579:\tlearn: 0.0105686\ttotal: 1.31s\tremaining: 946ms\n",
            "580:\tlearn: 0.0105491\ttotal: 1.31s\tremaining: 945ms\n",
            "581:\tlearn: 0.0105229\ttotal: 1.32s\tremaining: 946ms\n",
            "582:\tlearn: 0.0105011\ttotal: 1.32s\tremaining: 944ms\n",
            "583:\tlearn: 0.0104793\ttotal: 1.32s\tremaining: 941ms\n",
            "584:\tlearn: 0.0104577\ttotal: 1.32s\tremaining: 939ms\n",
            "585:\tlearn: 0.0104415\ttotal: 1.33s\tremaining: 942ms\n",
            "586:\tlearn: 0.0104245\ttotal: 1.33s\tremaining: 940ms\n",
            "587:\tlearn: 0.0104095\ttotal: 1.34s\tremaining: 936ms\n",
            "588:\tlearn: 0.0103863\ttotal: 1.34s\tremaining: 933ms\n",
            "589:\tlearn: 0.0103686\ttotal: 1.34s\tremaining: 930ms\n",
            "590:\tlearn: 0.0103457\ttotal: 1.34s\tremaining: 930ms\n",
            "591:\tlearn: 0.0103271\ttotal: 1.34s\tremaining: 927ms\n",
            "592:\tlearn: 0.0103034\ttotal: 1.35s\tremaining: 924ms\n",
            "593:\tlearn: 0.0102820\ttotal: 1.35s\tremaining: 921ms\n",
            "594:\tlearn: 0.0102660\ttotal: 1.35s\tremaining: 918ms\n",
            "595:\tlearn: 0.0102526\ttotal: 1.35s\tremaining: 915ms\n",
            "596:\tlearn: 0.0102300\ttotal: 1.35s\tremaining: 915ms\n",
            "597:\tlearn: 0.0102124\ttotal: 1.36s\tremaining: 912ms\n",
            "598:\tlearn: 0.0101907\ttotal: 1.36s\tremaining: 909ms\n",
            "599:\tlearn: 0.0101712\ttotal: 1.36s\tremaining: 906ms\n",
            "600:\tlearn: 0.0101545\ttotal: 1.36s\tremaining: 903ms\n",
            "601:\tlearn: 0.0101331\ttotal: 1.36s\tremaining: 900ms\n",
            "602:\tlearn: 0.0101121\ttotal: 1.37s\tremaining: 900ms\n",
            "603:\tlearn: 0.0100897\ttotal: 1.37s\tremaining: 897ms\n",
            "604:\tlearn: 0.0100731\ttotal: 1.37s\tremaining: 893ms\n",
            "605:\tlearn: 0.0100564\ttotal: 1.37s\tremaining: 890ms\n",
            "606:\tlearn: 0.0100378\ttotal: 1.37s\tremaining: 887ms\n",
            "607:\tlearn: 0.0100167\ttotal: 1.37s\tremaining: 884ms\n",
            "608:\tlearn: 0.0099940\ttotal: 1.37s\tremaining: 881ms\n",
            "609:\tlearn: 0.0099736\ttotal: 1.38s\tremaining: 879ms\n",
            "610:\tlearn: 0.0099527\ttotal: 1.38s\tremaining: 877ms\n",
            "611:\tlearn: 0.0099348\ttotal: 1.38s\tremaining: 875ms\n",
            "612:\tlearn: 0.0099221\ttotal: 1.38s\tremaining: 873ms\n",
            "613:\tlearn: 0.0099070\ttotal: 1.39s\tremaining: 872ms\n",
            "614:\tlearn: 0.0098929\ttotal: 1.39s\tremaining: 870ms\n",
            "615:\tlearn: 0.0098695\ttotal: 1.39s\tremaining: 868ms\n",
            "616:\tlearn: 0.0098485\ttotal: 1.4s\tremaining: 866ms\n",
            "617:\tlearn: 0.0098350\ttotal: 1.4s\tremaining: 864ms\n",
            "618:\tlearn: 0.0098169\ttotal: 1.4s\tremaining: 862ms\n",
            "619:\tlearn: 0.0098023\ttotal: 1.4s\tremaining: 860ms\n",
            "620:\tlearn: 0.0097811\ttotal: 1.41s\tremaining: 858ms\n",
            "621:\tlearn: 0.0097589\ttotal: 1.41s\tremaining: 856ms\n",
            "622:\tlearn: 0.0097423\ttotal: 1.41s\tremaining: 854ms\n",
            "623:\tlearn: 0.0097220\ttotal: 1.41s\tremaining: 852ms\n",
            "624:\tlearn: 0.0097064\ttotal: 1.42s\tremaining: 850ms\n",
            "625:\tlearn: 0.0096881\ttotal: 1.42s\tremaining: 849ms\n",
            "626:\tlearn: 0.0096651\ttotal: 1.44s\tremaining: 855ms\n",
            "627:\tlearn: 0.0096481\ttotal: 1.44s\tremaining: 852ms\n",
            "628:\tlearn: 0.0096320\ttotal: 1.44s\tremaining: 850ms\n",
            "629:\tlearn: 0.0096129\ttotal: 1.44s\tremaining: 848ms\n",
            "630:\tlearn: 0.0095951\ttotal: 1.45s\tremaining: 846ms\n",
            "631:\tlearn: 0.0095746\ttotal: 1.45s\tremaining: 844ms\n",
            "632:\tlearn: 0.0095583\ttotal: 1.45s\tremaining: 842ms\n",
            "633:\tlearn: 0.0095381\ttotal: 1.46s\tremaining: 844ms\n",
            "634:\tlearn: 0.0095244\ttotal: 1.46s\tremaining: 841ms\n",
            "635:\tlearn: 0.0095128\ttotal: 1.46s\tremaining: 838ms\n",
            "636:\tlearn: 0.0094970\ttotal: 1.47s\tremaining: 835ms\n",
            "637:\tlearn: 0.0094806\ttotal: 1.47s\tremaining: 836ms\n",
            "638:\tlearn: 0.0094650\ttotal: 1.48s\tremaining: 834ms\n",
            "639:\tlearn: 0.0094447\ttotal: 1.48s\tremaining: 831ms\n",
            "640:\tlearn: 0.0094206\ttotal: 1.48s\tremaining: 828ms\n",
            "641:\tlearn: 0.0094059\ttotal: 1.48s\tremaining: 825ms\n",
            "642:\tlearn: 0.0093927\ttotal: 1.48s\tremaining: 822ms\n",
            "643:\tlearn: 0.0093781\ttotal: 1.48s\tremaining: 819ms\n",
            "644:\tlearn: 0.0093600\ttotal: 1.48s\tremaining: 816ms\n",
            "645:\tlearn: 0.0093391\ttotal: 1.48s\tremaining: 813ms\n",
            "646:\tlearn: 0.0093207\ttotal: 1.48s\tremaining: 810ms\n",
            "647:\tlearn: 0.0093039\ttotal: 1.48s\tremaining: 806ms\n",
            "648:\tlearn: 0.0092906\ttotal: 1.49s\tremaining: 805ms\n",
            "649:\tlearn: 0.0092704\ttotal: 1.49s\tremaining: 802ms\n",
            "650:\tlearn: 0.0092549\ttotal: 1.49s\tremaining: 799ms\n",
            "651:\tlearn: 0.0092406\ttotal: 1.5s\tremaining: 803ms\n",
            "652:\tlearn: 0.0092276\ttotal: 1.51s\tremaining: 801ms\n",
            "653:\tlearn: 0.0092135\ttotal: 1.51s\tremaining: 799ms\n",
            "654:\tlearn: 0.0091994\ttotal: 1.51s\tremaining: 796ms\n",
            "655:\tlearn: 0.0091801\ttotal: 1.51s\tremaining: 793ms\n",
            "656:\tlearn: 0.0091696\ttotal: 1.51s\tremaining: 790ms\n",
            "657:\tlearn: 0.0091513\ttotal: 1.51s\tremaining: 787ms\n",
            "658:\tlearn: 0.0091320\ttotal: 1.52s\tremaining: 787ms\n",
            "659:\tlearn: 0.0091179\ttotal: 1.52s\tremaining: 784ms\n",
            "660:\tlearn: 0.0090992\ttotal: 1.52s\tremaining: 783ms\n",
            "661:\tlearn: 0.0090824\ttotal: 1.53s\tremaining: 780ms\n",
            "662:\tlearn: 0.0090691\ttotal: 1.53s\tremaining: 776ms\n",
            "663:\tlearn: 0.0090575\ttotal: 1.53s\tremaining: 773ms\n",
            "664:\tlearn: 0.0090323\ttotal: 1.53s\tremaining: 770ms\n",
            "665:\tlearn: 0.0090209\ttotal: 1.53s\tremaining: 767ms\n",
            "666:\tlearn: 0.0090031\ttotal: 1.53s\tremaining: 764ms\n",
            "667:\tlearn: 0.0089815\ttotal: 1.53s\tremaining: 761ms\n",
            "668:\tlearn: 0.0089636\ttotal: 1.53s\tremaining: 758ms\n",
            "669:\tlearn: 0.0089466\ttotal: 1.53s\tremaining: 755ms\n",
            "670:\tlearn: 0.0089257\ttotal: 1.53s\tremaining: 753ms\n",
            "671:\tlearn: 0.0089095\ttotal: 1.53s\tremaining: 750ms\n",
            "672:\tlearn: 0.0088932\ttotal: 1.54s\tremaining: 746ms\n",
            "673:\tlearn: 0.0088755\ttotal: 1.54s\tremaining: 743ms\n",
            "674:\tlearn: 0.0088605\ttotal: 1.54s\tremaining: 740ms\n",
            "675:\tlearn: 0.0088432\ttotal: 1.54s\tremaining: 737ms\n",
            "676:\tlearn: 0.0088297\ttotal: 1.55s\tremaining: 739ms\n",
            "677:\tlearn: 0.0088130\ttotal: 1.55s\tremaining: 736ms\n",
            "678:\tlearn: 0.0087968\ttotal: 1.55s\tremaining: 733ms\n",
            "679:\tlearn: 0.0087837\ttotal: 1.55s\tremaining: 730ms\n",
            "680:\tlearn: 0.0087646\ttotal: 1.55s\tremaining: 727ms\n",
            "681:\tlearn: 0.0087490\ttotal: 1.55s\tremaining: 724ms\n",
            "682:\tlearn: 0.0087331\ttotal: 1.55s\tremaining: 721ms\n",
            "683:\tlearn: 0.0087149\ttotal: 1.55s\tremaining: 718ms\n",
            "684:\tlearn: 0.0087007\ttotal: 1.55s\tremaining: 715ms\n",
            "685:\tlearn: 0.0086839\ttotal: 1.56s\tremaining: 712ms\n",
            "686:\tlearn: 0.0086657\ttotal: 1.56s\tremaining: 710ms\n",
            "687:\tlearn: 0.0086537\ttotal: 1.56s\tremaining: 707ms\n",
            "688:\tlearn: 0.0086417\ttotal: 1.56s\tremaining: 704ms\n",
            "689:\tlearn: 0.0086290\ttotal: 1.56s\tremaining: 701ms\n",
            "690:\tlearn: 0.0086157\ttotal: 1.56s\tremaining: 698ms\n",
            "691:\tlearn: 0.0086008\ttotal: 1.56s\tremaining: 695ms\n",
            "692:\tlearn: 0.0085873\ttotal: 1.56s\tremaining: 692ms\n",
            "693:\tlearn: 0.0085717\ttotal: 1.57s\tremaining: 692ms\n",
            "694:\tlearn: 0.0085593\ttotal: 1.57s\tremaining: 689ms\n",
            "695:\tlearn: 0.0085453\ttotal: 1.57s\tremaining: 687ms\n",
            "696:\tlearn: 0.0085356\ttotal: 1.57s\tremaining: 684ms\n",
            "697:\tlearn: 0.0085207\ttotal: 1.57s\tremaining: 681ms\n",
            "698:\tlearn: 0.0085059\ttotal: 1.58s\tremaining: 679ms\n",
            "699:\tlearn: 0.0084907\ttotal: 1.58s\tremaining: 680ms\n",
            "700:\tlearn: 0.0084767\ttotal: 1.6s\tremaining: 681ms\n",
            "701:\tlearn: 0.0084668\ttotal: 1.6s\tremaining: 679ms\n",
            "702:\tlearn: 0.0084542\ttotal: 1.6s\tremaining: 676ms\n",
            "703:\tlearn: 0.0084440\ttotal: 1.6s\tremaining: 674ms\n",
            "704:\tlearn: 0.0084313\ttotal: 1.61s\tremaining: 674ms\n",
            "705:\tlearn: 0.0084191\ttotal: 1.62s\tremaining: 674ms\n",
            "706:\tlearn: 0.0084069\ttotal: 1.62s\tremaining: 671ms\n",
            "707:\tlearn: 0.0083928\ttotal: 1.62s\tremaining: 669ms\n",
            "708:\tlearn: 0.0083790\ttotal: 1.63s\tremaining: 670ms\n",
            "709:\tlearn: 0.0083647\ttotal: 1.63s\tremaining: 667ms\n",
            "710:\tlearn: 0.0083488\ttotal: 1.64s\tremaining: 665ms\n",
            "711:\tlearn: 0.0083361\ttotal: 1.64s\tremaining: 663ms\n",
            "712:\tlearn: 0.0083244\ttotal: 1.65s\tremaining: 663ms\n",
            "713:\tlearn: 0.0083145\ttotal: 1.65s\tremaining: 661ms\n",
            "714:\tlearn: 0.0083007\ttotal: 1.65s\tremaining: 658ms\n",
            "715:\tlearn: 0.0082905\ttotal: 1.65s\tremaining: 656ms\n",
            "716:\tlearn: 0.0082777\ttotal: 1.66s\tremaining: 656ms\n",
            "717:\tlearn: 0.0082616\ttotal: 1.66s\tremaining: 653ms\n",
            "718:\tlearn: 0.0082446\ttotal: 1.67s\tremaining: 651ms\n",
            "719:\tlearn: 0.0082338\ttotal: 1.67s\tremaining: 649ms\n",
            "720:\tlearn: 0.0082211\ttotal: 1.67s\tremaining: 647ms\n",
            "721:\tlearn: 0.0082061\ttotal: 1.67s\tremaining: 645ms\n",
            "722:\tlearn: 0.0081952\ttotal: 1.69s\tremaining: 648ms\n",
            "723:\tlearn: 0.0081825\ttotal: 1.71s\tremaining: 653ms\n",
            "724:\tlearn: 0.0081710\ttotal: 1.72s\tremaining: 651ms\n",
            "725:\tlearn: 0.0081582\ttotal: 1.72s\tremaining: 649ms\n",
            "726:\tlearn: 0.0081477\ttotal: 1.72s\tremaining: 646ms\n",
            "727:\tlearn: 0.0081348\ttotal: 1.72s\tremaining: 643ms\n",
            "728:\tlearn: 0.0081231\ttotal: 1.72s\tremaining: 640ms\n",
            "729:\tlearn: 0.0081100\ttotal: 1.72s\tremaining: 638ms\n",
            "730:\tlearn: 0.0080982\ttotal: 1.74s\tremaining: 638ms\n",
            "731:\tlearn: 0.0080865\ttotal: 1.74s\tremaining: 636ms\n",
            "732:\tlearn: 0.0080750\ttotal: 1.74s\tremaining: 633ms\n",
            "733:\tlearn: 0.0080592\ttotal: 1.74s\tremaining: 630ms\n",
            "734:\tlearn: 0.0080467\ttotal: 1.75s\tremaining: 630ms\n",
            "735:\tlearn: 0.0080325\ttotal: 1.75s\tremaining: 627ms\n",
            "736:\tlearn: 0.0080205\ttotal: 1.75s\tremaining: 624ms\n",
            "737:\tlearn: 0.0080112\ttotal: 1.75s\tremaining: 621ms\n",
            "738:\tlearn: 0.0080032\ttotal: 1.75s\tremaining: 618ms\n",
            "739:\tlearn: 0.0079901\ttotal: 1.75s\tremaining: 615ms\n",
            "740:\tlearn: 0.0079778\ttotal: 1.76s\tremaining: 614ms\n",
            "741:\tlearn: 0.0079673\ttotal: 1.76s\tremaining: 611ms\n",
            "742:\tlearn: 0.0079536\ttotal: 1.76s\tremaining: 609ms\n",
            "743:\tlearn: 0.0079447\ttotal: 1.76s\tremaining: 606ms\n",
            "744:\tlearn: 0.0079330\ttotal: 1.77s\tremaining: 605ms\n",
            "745:\tlearn: 0.0079219\ttotal: 1.77s\tremaining: 602ms\n",
            "746:\tlearn: 0.0079078\ttotal: 1.77s\tremaining: 599ms\n",
            "747:\tlearn: 0.0078930\ttotal: 1.77s\tremaining: 596ms\n",
            "748:\tlearn: 0.0078785\ttotal: 1.77s\tremaining: 593ms\n",
            "749:\tlearn: 0.0078662\ttotal: 1.77s\tremaining: 591ms\n",
            "750:\tlearn: 0.0078568\ttotal: 1.78s\tremaining: 590ms\n",
            "751:\tlearn: 0.0078462\ttotal: 1.78s\tremaining: 587ms\n",
            "752:\tlearn: 0.0078375\ttotal: 1.78s\tremaining: 584ms\n",
            "753:\tlearn: 0.0078278\ttotal: 1.78s\tremaining: 582ms\n",
            "754:\tlearn: 0.0078139\ttotal: 1.78s\tremaining: 579ms\n",
            "755:\tlearn: 0.0078026\ttotal: 1.78s\tremaining: 576ms\n",
            "756:\tlearn: 0.0077928\ttotal: 1.78s\tremaining: 573ms\n",
            "757:\tlearn: 0.0077801\ttotal: 1.78s\tremaining: 570ms\n",
            "758:\tlearn: 0.0077699\ttotal: 1.79s\tremaining: 569ms\n",
            "759:\tlearn: 0.0077582\ttotal: 1.79s\tremaining: 567ms\n",
            "760:\tlearn: 0.0077447\ttotal: 1.79s\tremaining: 564ms\n",
            "761:\tlearn: 0.0077303\ttotal: 1.8s\tremaining: 562ms\n",
            "762:\tlearn: 0.0077184\ttotal: 1.8s\tremaining: 559ms\n",
            "763:\tlearn: 0.0077091\ttotal: 1.8s\tremaining: 557ms\n",
            "764:\tlearn: 0.0076993\ttotal: 1.8s\tremaining: 554ms\n",
            "765:\tlearn: 0.0076902\ttotal: 1.8s\tremaining: 551ms\n",
            "766:\tlearn: 0.0076807\ttotal: 1.8s\tremaining: 548ms\n",
            "767:\tlearn: 0.0076716\ttotal: 1.8s\tremaining: 545ms\n",
            "768:\tlearn: 0.0076606\ttotal: 1.81s\tremaining: 543ms\n",
            "769:\tlearn: 0.0076503\ttotal: 1.81s\tremaining: 540ms\n",
            "770:\tlearn: 0.0076383\ttotal: 1.81s\tremaining: 537ms\n",
            "771:\tlearn: 0.0076299\ttotal: 1.81s\tremaining: 535ms\n",
            "772:\tlearn: 0.0076169\ttotal: 1.81s\tremaining: 533ms\n",
            "773:\tlearn: 0.0076060\ttotal: 1.81s\tremaining: 530ms\n",
            "774:\tlearn: 0.0075968\ttotal: 1.82s\tremaining: 527ms\n",
            "775:\tlearn: 0.0075847\ttotal: 1.82s\tremaining: 526ms\n",
            "776:\tlearn: 0.0075730\ttotal: 1.82s\tremaining: 523ms\n",
            "777:\tlearn: 0.0075617\ttotal: 1.82s\tremaining: 520ms\n",
            "778:\tlearn: 0.0075511\ttotal: 1.82s\tremaining: 517ms\n",
            "779:\tlearn: 0.0075414\ttotal: 1.82s\tremaining: 515ms\n",
            "780:\tlearn: 0.0075326\ttotal: 1.83s\tremaining: 514ms\n",
            "781:\tlearn: 0.0075231\ttotal: 1.83s\tremaining: 511ms\n",
            "782:\tlearn: 0.0075129\ttotal: 1.83s\tremaining: 508ms\n",
            "783:\tlearn: 0.0075037\ttotal: 1.83s\tremaining: 505ms\n",
            "784:\tlearn: 0.0074933\ttotal: 1.83s\tremaining: 503ms\n",
            "785:\tlearn: 0.0074774\ttotal: 1.84s\tremaining: 500ms\n",
            "786:\tlearn: 0.0074641\ttotal: 1.84s\tremaining: 497ms\n",
            "787:\tlearn: 0.0074508\ttotal: 1.84s\tremaining: 495ms\n",
            "788:\tlearn: 0.0074412\ttotal: 1.84s\tremaining: 492ms\n",
            "789:\tlearn: 0.0074322\ttotal: 1.84s\tremaining: 489ms\n",
            "790:\tlearn: 0.0074198\ttotal: 1.84s\tremaining: 487ms\n",
            "791:\tlearn: 0.0074115\ttotal: 1.85s\tremaining: 486ms\n",
            "792:\tlearn: 0.0074026\ttotal: 1.85s\tremaining: 483ms\n",
            "793:\tlearn: 0.0073931\ttotal: 1.85s\tremaining: 480ms\n",
            "794:\tlearn: 0.0073808\ttotal: 1.85s\tremaining: 478ms\n",
            "795:\tlearn: 0.0073676\ttotal: 1.85s\tremaining: 475ms\n",
            "796:\tlearn: 0.0073566\ttotal: 1.86s\tremaining: 474ms\n",
            "797:\tlearn: 0.0073485\ttotal: 1.86s\tremaining: 471ms\n",
            "798:\tlearn: 0.0073398\ttotal: 1.86s\tremaining: 469ms\n",
            "799:\tlearn: 0.0073319\ttotal: 1.86s\tremaining: 466ms\n",
            "800:\tlearn: 0.0073205\ttotal: 1.86s\tremaining: 463ms\n",
            "801:\tlearn: 0.0073097\ttotal: 1.86s\tremaining: 460ms\n",
            "802:\tlearn: 0.0073003\ttotal: 1.86s\tremaining: 458ms\n",
            "803:\tlearn: 0.0072917\ttotal: 1.87s\tremaining: 456ms\n",
            "804:\tlearn: 0.0072774\ttotal: 1.87s\tremaining: 453ms\n",
            "805:\tlearn: 0.0072708\ttotal: 1.88s\tremaining: 452ms\n",
            "806:\tlearn: 0.0072614\ttotal: 1.88s\tremaining: 449ms\n",
            "807:\tlearn: 0.0072522\ttotal: 1.88s\tremaining: 446ms\n",
            "808:\tlearn: 0.0072426\ttotal: 1.88s\tremaining: 444ms\n",
            "809:\tlearn: 0.0072339\ttotal: 1.88s\tremaining: 441ms\n",
            "810:\tlearn: 0.0072242\ttotal: 1.88s\tremaining: 438ms\n",
            "811:\tlearn: 0.0072119\ttotal: 1.89s\tremaining: 437ms\n",
            "812:\tlearn: 0.0072043\ttotal: 1.89s\tremaining: 435ms\n",
            "813:\tlearn: 0.0071964\ttotal: 1.89s\tremaining: 432ms\n",
            "814:\tlearn: 0.0071850\ttotal: 1.9s\tremaining: 431ms\n",
            "815:\tlearn: 0.0071736\ttotal: 1.9s\tremaining: 428ms\n",
            "816:\tlearn: 0.0071652\ttotal: 1.91s\tremaining: 427ms\n",
            "817:\tlearn: 0.0071570\ttotal: 1.91s\tremaining: 424ms\n",
            "818:\tlearn: 0.0071501\ttotal: 1.91s\tremaining: 422ms\n",
            "819:\tlearn: 0.0071353\ttotal: 1.92s\tremaining: 420ms\n",
            "820:\tlearn: 0.0071273\ttotal: 1.92s\tremaining: 418ms\n",
            "821:\tlearn: 0.0071173\ttotal: 1.92s\tremaining: 415ms\n",
            "822:\tlearn: 0.0071071\ttotal: 1.92s\tremaining: 412ms\n",
            "823:\tlearn: 0.0070959\ttotal: 1.92s\tremaining: 410ms\n",
            "824:\tlearn: 0.0070836\ttotal: 1.92s\tremaining: 407ms\n",
            "825:\tlearn: 0.0070727\ttotal: 1.92s\tremaining: 405ms\n",
            "826:\tlearn: 0.0070620\ttotal: 1.93s\tremaining: 403ms\n",
            "827:\tlearn: 0.0070532\ttotal: 1.93s\tremaining: 401ms\n",
            "828:\tlearn: 0.0070423\ttotal: 1.93s\tremaining: 398ms\n",
            "829:\tlearn: 0.0070361\ttotal: 1.93s\tremaining: 396ms\n",
            "830:\tlearn: 0.0070244\ttotal: 1.93s\tremaining: 393ms\n",
            "831:\tlearn: 0.0070132\ttotal: 1.93s\tremaining: 390ms\n",
            "832:\tlearn: 0.0070050\ttotal: 1.93s\tremaining: 388ms\n",
            "833:\tlearn: 0.0069953\ttotal: 1.93s\tremaining: 385ms\n",
            "834:\tlearn: 0.0069860\ttotal: 1.94s\tremaining: 383ms\n",
            "835:\tlearn: 0.0069802\ttotal: 1.94s\tremaining: 381ms\n",
            "836:\tlearn: 0.0069693\ttotal: 1.94s\tremaining: 378ms\n",
            "837:\tlearn: 0.0069605\ttotal: 1.94s\tremaining: 376ms\n",
            "838:\tlearn: 0.0069504\ttotal: 1.94s\tremaining: 373ms\n",
            "839:\tlearn: 0.0069418\ttotal: 1.95s\tremaining: 371ms\n",
            "840:\tlearn: 0.0069347\ttotal: 1.95s\tremaining: 369ms\n",
            "841:\tlearn: 0.0069262\ttotal: 1.95s\tremaining: 366ms\n",
            "842:\tlearn: 0.0069191\ttotal: 1.95s\tremaining: 363ms\n",
            "843:\tlearn: 0.0069107\ttotal: 1.95s\tremaining: 361ms\n",
            "844:\tlearn: 0.0069018\ttotal: 1.95s\tremaining: 358ms\n",
            "845:\tlearn: 0.0068936\ttotal: 1.95s\tremaining: 356ms\n",
            "846:\tlearn: 0.0068860\ttotal: 1.96s\tremaining: 354ms\n",
            "847:\tlearn: 0.0068747\ttotal: 1.96s\tremaining: 352ms\n",
            "848:\tlearn: 0.0068687\ttotal: 1.97s\tremaining: 351ms\n",
            "849:\tlearn: 0.0068614\ttotal: 1.97s\tremaining: 348ms\n",
            "850:\tlearn: 0.0068536\ttotal: 1.98s\tremaining: 347ms\n",
            "851:\tlearn: 0.0068423\ttotal: 1.98s\tremaining: 344ms\n",
            "852:\tlearn: 0.0068333\ttotal: 1.98s\tremaining: 342ms\n",
            "853:\tlearn: 0.0068269\ttotal: 1.99s\tremaining: 340ms\n",
            "854:\tlearn: 0.0068135\ttotal: 1.99s\tremaining: 338ms\n",
            "855:\tlearn: 0.0068054\ttotal: 2s\tremaining: 336ms\n",
            "856:\tlearn: 0.0067958\ttotal: 2s\tremaining: 333ms\n",
            "857:\tlearn: 0.0067847\ttotal: 2s\tremaining: 331ms\n",
            "858:\tlearn: 0.0067753\ttotal: 2s\tremaining: 329ms\n",
            "859:\tlearn: 0.0067653\ttotal: 2s\tremaining: 326ms\n",
            "860:\tlearn: 0.0067565\ttotal: 2s\tremaining: 323ms\n",
            "861:\tlearn: 0.0067499\ttotal: 2.01s\tremaining: 321ms\n",
            "862:\tlearn: 0.0067401\ttotal: 2.01s\tremaining: 319ms\n",
            "863:\tlearn: 0.0067331\ttotal: 2.01s\tremaining: 317ms\n",
            "864:\tlearn: 0.0067241\ttotal: 2.01s\tremaining: 314ms\n",
            "865:\tlearn: 0.0067148\ttotal: 2.01s\tremaining: 312ms\n",
            "866:\tlearn: 0.0067053\ttotal: 2.01s\tremaining: 309ms\n",
            "867:\tlearn: 0.0066989\ttotal: 2.01s\tremaining: 306ms\n",
            "868:\tlearn: 0.0066893\ttotal: 2.02s\tremaining: 304ms\n",
            "869:\tlearn: 0.0066806\ttotal: 2.02s\tremaining: 301ms\n",
            "870:\tlearn: 0.0066721\ttotal: 2.02s\tremaining: 299ms\n",
            "871:\tlearn: 0.0066644\ttotal: 2.02s\tremaining: 296ms\n",
            "872:\tlearn: 0.0066568\ttotal: 2.02s\tremaining: 294ms\n",
            "873:\tlearn: 0.0066474\ttotal: 2.02s\tremaining: 291ms\n",
            "874:\tlearn: 0.0066398\ttotal: 2.02s\tremaining: 289ms\n",
            "875:\tlearn: 0.0066294\ttotal: 2.02s\tremaining: 286ms\n",
            "876:\tlearn: 0.0066235\ttotal: 2.02s\tremaining: 284ms\n",
            "877:\tlearn: 0.0066151\ttotal: 2.02s\tremaining: 281ms\n",
            "878:\tlearn: 0.0065962\ttotal: 2.02s\tremaining: 279ms\n",
            "879:\tlearn: 0.0065877\ttotal: 2.03s\tremaining: 276ms\n",
            "880:\tlearn: 0.0065808\ttotal: 2.03s\tremaining: 274ms\n",
            "881:\tlearn: 0.0065714\ttotal: 2.03s\tremaining: 271ms\n",
            "882:\tlearn: 0.0065622\ttotal: 2.03s\tremaining: 269ms\n",
            "883:\tlearn: 0.0065550\ttotal: 2.03s\tremaining: 266ms\n",
            "884:\tlearn: 0.0065464\ttotal: 2.03s\tremaining: 264ms\n",
            "885:\tlearn: 0.0065385\ttotal: 2.03s\tremaining: 262ms\n",
            "886:\tlearn: 0.0065301\ttotal: 2.03s\tremaining: 259ms\n",
            "887:\tlearn: 0.0065245\ttotal: 2.03s\tremaining: 257ms\n",
            "888:\tlearn: 0.0065186\ttotal: 2.03s\tremaining: 254ms\n",
            "889:\tlearn: 0.0065100\ttotal: 2.04s\tremaining: 252ms\n",
            "890:\tlearn: 0.0065009\ttotal: 2.04s\tremaining: 249ms\n",
            "891:\tlearn: 0.0064915\ttotal: 2.04s\tremaining: 247ms\n",
            "892:\tlearn: 0.0064841\ttotal: 2.04s\tremaining: 244ms\n",
            "893:\tlearn: 0.0064761\ttotal: 2.04s\tremaining: 242ms\n",
            "894:\tlearn: 0.0064706\ttotal: 2.04s\tremaining: 239ms\n",
            "895:\tlearn: 0.0064615\ttotal: 2.04s\tremaining: 237ms\n",
            "896:\tlearn: 0.0064509\ttotal: 2.04s\tremaining: 235ms\n",
            "897:\tlearn: 0.0064431\ttotal: 2.04s\tremaining: 232ms\n",
            "898:\tlearn: 0.0064350\ttotal: 2.04s\tremaining: 230ms\n",
            "899:\tlearn: 0.0064264\ttotal: 2.04s\tremaining: 227ms\n",
            "900:\tlearn: 0.0064212\ttotal: 2.05s\tremaining: 225ms\n",
            "901:\tlearn: 0.0064141\ttotal: 2.05s\tremaining: 222ms\n",
            "902:\tlearn: 0.0064039\ttotal: 2.05s\tremaining: 220ms\n",
            "903:\tlearn: 0.0063976\ttotal: 2.05s\tremaining: 218ms\n",
            "904:\tlearn: 0.0063916\ttotal: 2.05s\tremaining: 215ms\n",
            "905:\tlearn: 0.0063831\ttotal: 2.06s\tremaining: 213ms\n",
            "906:\tlearn: 0.0063753\ttotal: 2.06s\tremaining: 211ms\n",
            "907:\tlearn: 0.0063680\ttotal: 2.06s\tremaining: 208ms\n",
            "908:\tlearn: 0.0063616\ttotal: 2.06s\tremaining: 206ms\n",
            "909:\tlearn: 0.0063533\ttotal: 2.06s\tremaining: 204ms\n",
            "910:\tlearn: 0.0063459\ttotal: 2.07s\tremaining: 202ms\n",
            "911:\tlearn: 0.0063368\ttotal: 2.08s\tremaining: 200ms\n",
            "912:\tlearn: 0.0063288\ttotal: 2.08s\tremaining: 198ms\n",
            "913:\tlearn: 0.0063205\ttotal: 2.08s\tremaining: 196ms\n",
            "914:\tlearn: 0.0063129\ttotal: 2.08s\tremaining: 194ms\n",
            "915:\tlearn: 0.0063013\ttotal: 2.08s\tremaining: 191ms\n",
            "916:\tlearn: 0.0062925\ttotal: 2.08s\tremaining: 189ms\n",
            "917:\tlearn: 0.0062854\ttotal: 2.09s\tremaining: 187ms\n",
            "918:\tlearn: 0.0062762\ttotal: 2.09s\tremaining: 185ms\n",
            "919:\tlearn: 0.0062698\ttotal: 2.09s\tremaining: 182ms\n",
            "920:\tlearn: 0.0062605\ttotal: 2.11s\tremaining: 181ms\n",
            "921:\tlearn: 0.0062517\ttotal: 2.11s\tremaining: 179ms\n",
            "922:\tlearn: 0.0062434\ttotal: 2.12s\tremaining: 176ms\n",
            "923:\tlearn: 0.0062350\ttotal: 2.12s\tremaining: 174ms\n",
            "924:\tlearn: 0.0062283\ttotal: 2.12s\tremaining: 172ms\n",
            "925:\tlearn: 0.0062218\ttotal: 2.13s\tremaining: 170ms\n",
            "926:\tlearn: 0.0062145\ttotal: 2.13s\tremaining: 168ms\n",
            "927:\tlearn: 0.0062087\ttotal: 2.13s\tremaining: 165ms\n",
            "928:\tlearn: 0.0062011\ttotal: 2.13s\tremaining: 163ms\n",
            "929:\tlearn: 0.0061929\ttotal: 2.13s\tremaining: 161ms\n",
            "930:\tlearn: 0.0061868\ttotal: 2.14s\tremaining: 158ms\n",
            "931:\tlearn: 0.0061802\ttotal: 2.14s\tremaining: 156ms\n",
            "932:\tlearn: 0.0061699\ttotal: 2.14s\tremaining: 154ms\n",
            "933:\tlearn: 0.0061632\ttotal: 2.14s\tremaining: 151ms\n",
            "934:\tlearn: 0.0061573\ttotal: 2.14s\tremaining: 149ms\n",
            "935:\tlearn: 0.0061490\ttotal: 2.15s\tremaining: 147ms\n",
            "936:\tlearn: 0.0061405\ttotal: 2.15s\tremaining: 144ms\n",
            "937:\tlearn: 0.0061323\ttotal: 2.15s\tremaining: 142ms\n",
            "938:\tlearn: 0.0061259\ttotal: 2.16s\tremaining: 140ms\n",
            "939:\tlearn: 0.0061195\ttotal: 2.16s\tremaining: 138ms\n",
            "940:\tlearn: 0.0061083\ttotal: 2.16s\tremaining: 135ms\n",
            "941:\tlearn: 0.0060999\ttotal: 2.16s\tremaining: 133ms\n",
            "942:\tlearn: 0.0060931\ttotal: 2.17s\tremaining: 131ms\n",
            "943:\tlearn: 0.0060850\ttotal: 2.17s\tremaining: 129ms\n",
            "944:\tlearn: 0.0060792\ttotal: 2.17s\tremaining: 126ms\n",
            "945:\tlearn: 0.0060727\ttotal: 2.18s\tremaining: 125ms\n",
            "946:\tlearn: 0.0060649\ttotal: 2.19s\tremaining: 122ms\n",
            "947:\tlearn: 0.0060576\ttotal: 2.19s\tremaining: 120ms\n",
            "948:\tlearn: 0.0060515\ttotal: 2.19s\tremaining: 118ms\n",
            "949:\tlearn: 0.0060470\ttotal: 2.2s\tremaining: 116ms\n",
            "950:\tlearn: 0.0060380\ttotal: 2.2s\tremaining: 113ms\n",
            "951:\tlearn: 0.0060304\ttotal: 2.21s\tremaining: 111ms\n",
            "952:\tlearn: 0.0060243\ttotal: 2.21s\tremaining: 109ms\n",
            "953:\tlearn: 0.0060171\ttotal: 2.21s\tremaining: 107ms\n",
            "954:\tlearn: 0.0060077\ttotal: 2.22s\tremaining: 105ms\n",
            "955:\tlearn: 0.0059991\ttotal: 2.22s\tremaining: 102ms\n",
            "956:\tlearn: 0.0059939\ttotal: 2.23s\tremaining: 100ms\n",
            "957:\tlearn: 0.0059857\ttotal: 2.23s\tremaining: 97.8ms\n",
            "958:\tlearn: 0.0059800\ttotal: 2.23s\tremaining: 95.4ms\n",
            "959:\tlearn: 0.0059740\ttotal: 2.23s\tremaining: 93ms\n",
            "960:\tlearn: 0.0059675\ttotal: 2.23s\tremaining: 90.6ms\n",
            "961:\tlearn: 0.0059628\ttotal: 2.24s\tremaining: 88.5ms\n",
            "962:\tlearn: 0.0059553\ttotal: 2.25s\tremaining: 86.4ms\n",
            "963:\tlearn: 0.0059499\ttotal: 2.25s\tremaining: 84ms\n",
            "964:\tlearn: 0.0059446\ttotal: 2.25s\tremaining: 81.8ms\n",
            "965:\tlearn: 0.0059377\ttotal: 2.26s\tremaining: 79.4ms\n",
            "966:\tlearn: 0.0059322\ttotal: 2.26s\tremaining: 77ms\n",
            "967:\tlearn: 0.0059261\ttotal: 2.26s\tremaining: 74.7ms\n",
            "968:\tlearn: 0.0059210\ttotal: 2.27s\tremaining: 72.6ms\n",
            "969:\tlearn: 0.0059125\ttotal: 2.27s\tremaining: 70.2ms\n",
            "970:\tlearn: 0.0059065\ttotal: 2.27s\tremaining: 67.8ms\n",
            "971:\tlearn: 0.0059003\ttotal: 2.28s\tremaining: 65.6ms\n",
            "972:\tlearn: 0.0058947\ttotal: 2.28s\tremaining: 63.2ms\n",
            "973:\tlearn: 0.0058885\ttotal: 2.28s\tremaining: 60.8ms\n",
            "974:\tlearn: 0.0058801\ttotal: 2.28s\tremaining: 58.5ms\n",
            "975:\tlearn: 0.0058738\ttotal: 2.28s\tremaining: 56.2ms\n",
            "976:\tlearn: 0.0058662\ttotal: 2.29s\tremaining: 53.8ms\n",
            "977:\tlearn: 0.0058601\ttotal: 2.29s\tremaining: 51.4ms\n",
            "978:\tlearn: 0.0058551\ttotal: 2.29s\tremaining: 49.1ms\n",
            "979:\tlearn: 0.0058490\ttotal: 2.3s\tremaining: 46.9ms\n",
            "980:\tlearn: 0.0058429\ttotal: 2.3s\tremaining: 44.6ms\n",
            "981:\tlearn: 0.0058393\ttotal: 2.3s\tremaining: 42.2ms\n",
            "982:\tlearn: 0.0058334\ttotal: 2.3s\tremaining: 39.9ms\n",
            "983:\tlearn: 0.0058284\ttotal: 2.31s\tremaining: 37.5ms\n",
            "984:\tlearn: 0.0058222\ttotal: 2.31s\tremaining: 35.1ms\n",
            "985:\tlearn: 0.0058152\ttotal: 2.31s\tremaining: 32.8ms\n",
            "986:\tlearn: 0.0058095\ttotal: 2.31s\tremaining: 30.5ms\n",
            "987:\tlearn: 0.0058036\ttotal: 2.31s\tremaining: 28.1ms\n",
            "988:\tlearn: 0.0057972\ttotal: 2.31s\tremaining: 25.7ms\n",
            "989:\tlearn: 0.0057901\ttotal: 2.32s\tremaining: 23.4ms\n",
            "990:\tlearn: 0.0057842\ttotal: 2.32s\tremaining: 21ms\n",
            "991:\tlearn: 0.0057769\ttotal: 2.32s\tremaining: 18.7ms\n",
            "992:\tlearn: 0.0057722\ttotal: 2.32s\tremaining: 16.4ms\n",
            "993:\tlearn: 0.0057654\ttotal: 2.32s\tremaining: 14ms\n",
            "994:\tlearn: 0.0057607\ttotal: 2.33s\tremaining: 11.7ms\n",
            "995:\tlearn: 0.0057529\ttotal: 2.33s\tremaining: 9.37ms\n",
            "996:\tlearn: 0.0057476\ttotal: 2.33s\tremaining: 7.02ms\n",
            "997:\tlearn: 0.0057410\ttotal: 2.33s\tremaining: 4.68ms\n",
            "998:\tlearn: 0.0057355\ttotal: 2.33s\tremaining: 2.34ms\n",
            "999:\tlearn: 0.0057295\ttotal: 2.33s\tremaining: 0us\n"
          ]
        },
        {
          "output_type": "execute_result",
          "data": {
            "text/plain": [
              "<catboost.core.CatBoostClassifier at 0x7cd031d676a0>"
            ]
          },
          "metadata": {},
          "execution_count": 122
        }
      ]
    },
    {
      "cell_type": "code",
      "source": [
        "from sklearn.metrics import accuracy_score\n",
        "\n",
        "accuracy_score(\n",
        "    estimator.predict(X_val_processed),\n",
        "    Y_val_processed\n",
        ")"
      ],
      "metadata": {
        "id": "xpgoxHkeJ81z",
        "outputId": "e3fdfa3f-1e01-4daf-b4e6-f61dbe4b6525",
        "colab": {
          "base_uri": "https://localhost:8080/"
        }
      },
      "execution_count": null,
      "outputs": [
        {
          "output_type": "execute_result",
          "data": {
            "text/plain": [
              "0.8823529411764706"
            ]
          },
          "metadata": {},
          "execution_count": 125
        }
      ]
    }
  ]
}